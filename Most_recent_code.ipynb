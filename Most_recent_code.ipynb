{
 "cells": [
  {
   "cell_type": "code",
   "execution_count": null,
   "metadata": {
    "collapsed": false
   },
   "outputs": [],
   "source": [
    "import pandas as pd\n",
    "rec_df = pd.read_pickle('recommender_df.pkl')"
   ]
  },
  {
   "cell_type": "code",
   "execution_count": 37,
   "metadata": {
    "collapsed": false
   },
   "outputs": [],
   "source": [
    "del df2\n",
    "df2 = pd.read_csv('/Users/ethanweber/Downloads/LV_df.csv')\n"
   ]
  },
  {
   "cell_type": "code",
   "execution_count": 38,
   "metadata": {
    "collapsed": false
   },
   "outputs": [
    {
     "data": {
      "text/html": [
       "<div>\n",
       "<table border=\"1\" class=\"dataframe\">\n",
       "  <thead>\n",
       "    <tr style=\"text-align: right;\">\n",
       "      <th></th>\n",
       "      <th>name_x</th>\n",
       "      <th>business_id</th>\n",
       "      <th>address</th>\n",
       "      <th>neighborhood</th>\n",
       "      <th>review_count_x</th>\n",
       "      <th>stars_y</th>\n",
       "    </tr>\n",
       "  </thead>\n",
       "  <tbody>\n",
       "    <tr>\n",
       "      <th>0</th>\n",
       "      <td>TACOS EL GORDO</td>\n",
       "      <td>CiYLq33nAyghFkUR15pP-Q</td>\n",
       "      <td>1724 E Charleston Blvd</td>\n",
       "      <td>Downtown</td>\n",
       "      <td>1151.0</td>\n",
       "      <td>4.5</td>\n",
       "    </tr>\n",
       "    <tr>\n",
       "      <th>1</th>\n",
       "      <td>Holsteins Shakes and Buns</td>\n",
       "      <td>P7pxQFqr7yBKMMI2J51udw</td>\n",
       "      <td>3708 Las Vegas Blvd S</td>\n",
       "      <td>The Strip</td>\n",
       "      <td>2474.0</td>\n",
       "      <td>4.0</td>\n",
       "    </tr>\n",
       "    <tr>\n",
       "      <th>2</th>\n",
       "      <td>Hash House A Go Go</td>\n",
       "      <td>g8OnV26ywJlZpezdBnOWUQ</td>\n",
       "      <td>6800 W Sahara Ave</td>\n",
       "      <td>Westside</td>\n",
       "      <td>2835.0</td>\n",
       "      <td>4.0</td>\n",
       "    </tr>\n",
       "    <tr>\n",
       "      <th>3</th>\n",
       "      <td>Ice Box Canyon</td>\n",
       "      <td>xObQl57iTZrg8-hfMkMF6g</td>\n",
       "      <td>Red Rock Canyon National Conservation Area, 32...</td>\n",
       "      <td>NaN</td>\n",
       "      <td>34.0</td>\n",
       "      <td>4.5</td>\n",
       "    </tr>\n",
       "    <tr>\n",
       "      <th>4</th>\n",
       "      <td>Mount Everest India's Cuisine</td>\n",
       "      <td>gTlDDzDEHyDQ6iwjNhpI6A</td>\n",
       "      <td>3641 W Sahara Ave</td>\n",
       "      <td>Westside</td>\n",
       "      <td>1015.0</td>\n",
       "      <td>4.5</td>\n",
       "    </tr>\n",
       "  </tbody>\n",
       "</table>\n",
       "</div>"
      ],
      "text/plain": [
       "                          name_x             business_id  \\\n",
       "0                 TACOS EL GORDO  CiYLq33nAyghFkUR15pP-Q   \n",
       "1      Holsteins Shakes and Buns  P7pxQFqr7yBKMMI2J51udw   \n",
       "2             Hash House A Go Go  g8OnV26ywJlZpezdBnOWUQ   \n",
       "3                 Ice Box Canyon  xObQl57iTZrg8-hfMkMF6g   \n",
       "4  Mount Everest India's Cuisine  gTlDDzDEHyDQ6iwjNhpI6A   \n",
       "\n",
       "                                             address neighborhood  \\\n",
       "0                             1724 E Charleston Blvd     Downtown   \n",
       "1                              3708 Las Vegas Blvd S    The Strip   \n",
       "2                                  6800 W Sahara Ave     Westside   \n",
       "3  Red Rock Canyon National Conservation Area, 32...          NaN   \n",
       "4                                  3641 W Sahara Ave     Westside   \n",
       "\n",
       "   review_count_x  stars_y  \n",
       "0          1151.0      4.5  \n",
       "1          2474.0      4.0  \n",
       "2          2835.0      4.0  \n",
       "3            34.0      4.5  \n",
       "4          1015.0      4.5  "
      ]
     },
     "execution_count": 38,
     "metadata": {},
     "output_type": "execute_result"
    }
   ],
   "source": [
    "df2.iloc[:,[19, 1, 11, 20, 22, 23]]"
   ]
  },
  {
   "cell_type": "code",
   "execution_count": 39,
   "metadata": {
    "collapsed": false,
    "scrolled": true
   },
   "outputs": [
    {
     "name": "stdout",
     "output_type": "stream",
     "text": [
      "['Unnamed: 0', 'business_id', 'cool_x', 'date', 'funny_x', 'review_id', 'stars_x', 'text', 'type_x', 'useful_x', 'user_id', 'address', 'attributes', 'categories', 'city', 'hours', 'is_open', 'latitude', 'longitude', 'name_x', 'neighborhood', 'postal_code', 'review_count_x', 'stars_y', 'state', 'type_y', 'average_stars', 'compliment_cool', 'compliment_cute', 'compliment_funny', 'compliment_hot', 'compliment_list', 'compliment_more', 'compliment_note', 'compliment_photos', 'compliment_plain', 'compliment_profile', 'compliment_writer', 'cool_y', 'elite', 'fans', 'friends', 'funny_y', 'name_y', 'review_count_y', 'type', 'useful_y', 'yelping_since']\n"
     ]
    }
   ],
   "source": [
    "print (list(df2.columns))\n",
    "df2 = df2.iloc[:,[19, 1, 11, 20, 22, 23]].drop_duplicates()"
   ]
  },
  {
   "cell_type": "code",
   "execution_count": 50,
   "metadata": {
    "collapsed": false
   },
   "outputs": [],
   "source": [
    "import math\n",
    "df2['score'] = map(math.sqrt, df2['review_count_x'].multiply(df2['stars_y']))\n",
    "df2['biz'] = df2.business_id\n",
    "del df2['business_id']"
   ]
  },
  {
   "cell_type": "code",
   "execution_count": null,
   "metadata": {
    "collapsed": false
   },
   "outputs": [],
   "source": []
  },
  {
   "cell_type": "code",
   "execution_count": 51,
   "metadata": {
    "collapsed": false
   },
   "outputs": [
    {
     "data": {
      "text/html": [
       "<div>\n",
       "<table border=\"1\" class=\"dataframe\">\n",
       "  <thead>\n",
       "    <tr style=\"text-align: right;\">\n",
       "      <th></th>\n",
       "      <th>name_x</th>\n",
       "      <th>address</th>\n",
       "      <th>neighborhood</th>\n",
       "      <th>review_count_x</th>\n",
       "      <th>stars_y</th>\n",
       "      <th>score</th>\n",
       "      <th>biz</th>\n",
       "    </tr>\n",
       "  </thead>\n",
       "  <tbody>\n",
       "    <tr>\n",
       "      <th>0</th>\n",
       "      <td>TACOS EL GORDO</td>\n",
       "      <td>1724 E Charleston Blvd</td>\n",
       "      <td>Downtown</td>\n",
       "      <td>1151.0</td>\n",
       "      <td>4.5</td>\n",
       "      <td>71.968743</td>\n",
       "      <td>CiYLq33nAyghFkUR15pP-Q</td>\n",
       "    </tr>\n",
       "    <tr>\n",
       "      <th>1</th>\n",
       "      <td>Holsteins Shakes and Buns</td>\n",
       "      <td>3708 Las Vegas Blvd S</td>\n",
       "      <td>The Strip</td>\n",
       "      <td>2474.0</td>\n",
       "      <td>4.0</td>\n",
       "      <td>99.478641</td>\n",
       "      <td>P7pxQFqr7yBKMMI2J51udw</td>\n",
       "    </tr>\n",
       "    <tr>\n",
       "      <th>2</th>\n",
       "      <td>Hash House A Go Go</td>\n",
       "      <td>6800 W Sahara Ave</td>\n",
       "      <td>Westside</td>\n",
       "      <td>2835.0</td>\n",
       "      <td>4.0</td>\n",
       "      <td>106.489436</td>\n",
       "      <td>g8OnV26ywJlZpezdBnOWUQ</td>\n",
       "    </tr>\n",
       "    <tr>\n",
       "      <th>3</th>\n",
       "      <td>Ice Box Canyon</td>\n",
       "      <td>Red Rock Canyon National Conservation Area, 32...</td>\n",
       "      <td>NaN</td>\n",
       "      <td>34.0</td>\n",
       "      <td>4.5</td>\n",
       "      <td>12.369317</td>\n",
       "      <td>xObQl57iTZrg8-hfMkMF6g</td>\n",
       "    </tr>\n",
       "    <tr>\n",
       "      <th>4</th>\n",
       "      <td>Mount Everest India's Cuisine</td>\n",
       "      <td>3641 W Sahara Ave</td>\n",
       "      <td>Westside</td>\n",
       "      <td>1015.0</td>\n",
       "      <td>4.5</td>\n",
       "      <td>67.583282</td>\n",
       "      <td>gTlDDzDEHyDQ6iwjNhpI6A</td>\n",
       "    </tr>\n",
       "  </tbody>\n",
       "</table>\n",
       "</div>"
      ],
      "text/plain": [
       "                          name_x  \\\n",
       "0                 TACOS EL GORDO   \n",
       "1      Holsteins Shakes and Buns   \n",
       "2             Hash House A Go Go   \n",
       "3                 Ice Box Canyon   \n",
       "4  Mount Everest India's Cuisine   \n",
       "\n",
       "                                             address neighborhood  \\\n",
       "0                             1724 E Charleston Blvd     Downtown   \n",
       "1                              3708 Las Vegas Blvd S    The Strip   \n",
       "2                                  6800 W Sahara Ave     Westside   \n",
       "3  Red Rock Canyon National Conservation Area, 32...          NaN   \n",
       "4                                  3641 W Sahara Ave     Westside   \n",
       "\n",
       "   review_count_x  stars_y       score                     biz  \n",
       "0          1151.0      4.5   71.968743  CiYLq33nAyghFkUR15pP-Q  \n",
       "1          2474.0      4.0   99.478641  P7pxQFqr7yBKMMI2J51udw  \n",
       "2          2835.0      4.0  106.489436  g8OnV26ywJlZpezdBnOWUQ  \n",
       "3            34.0      4.5   12.369317  xObQl57iTZrg8-hfMkMF6g  \n",
       "4          1015.0      4.5   67.583282  gTlDDzDEHyDQ6iwjNhpI6A  "
      ]
     },
     "execution_count": 51,
     "metadata": {},
     "output_type": "execute_result"
    }
   ],
   "source": [
    "df2.head()"
   ]
  },
  {
   "cell_type": "code",
   "execution_count": null,
   "metadata": {
    "collapsed": false
   },
   "outputs": [],
   "source": []
  },
  {
   "cell_type": "code",
   "execution_count": null,
   "metadata": {
    "collapsed": false
   },
   "outputs": [],
   "source": []
  },
  {
   "cell_type": "code",
   "execution_count": 52,
   "metadata": {
    "collapsed": false
   },
   "outputs": [],
   "source": [
    "import numpy as np\n",
    "def max_or_none(w, x, y, z):\n",
    "    maximum = filter(lambda x: (x*1.0) == x, [w, x, y, z])\n",
    "    try:\n",
    "        return max(map(float, maximum))\n",
    "    except:\n",
    "        return None\n",
    "def max_or_none2(u, v, w, x, y, z):\n",
    "    maximum = filter(lambda x: (x*1.0) == x, [u, v, w, x, y, z])\n",
    "    try:\n",
    "        return max(map(float, maximum))\n",
    "    except:\n",
    "        return None\n",
    "    \n",
    "\n"
   ]
  },
  {
   "cell_type": "code",
   "execution_count": 54,
   "metadata": {
    "collapsed": false
   },
   "outputs": [],
   "source": [
    "rec_df2 = rec_df.iloc[:, 0:3]\n",
    "rec_df2['3_rec'] = map(max_or_none, rec_df.iloc[:, 3], rec_df.iloc[:, 4], rec_df.iloc[:, 5], rec_df.iloc[:, 6])\n",
    "rec_df2['2_rec'] = map(max_or_none2, rec_df.iloc[:, 7], rec_df.iloc[:, 8], rec_df.iloc[:, 9], rec_df.iloc[:, 10], rec_df.iloc[:, 11], rec_df.iloc[:, 12])"
   ]
  },
  {
   "cell_type": "code",
   "execution_count": 55,
   "metadata": {
    "collapsed": false
   },
   "outputs": [
    {
     "data": {
      "text/html": [
       "<div>\n",
       "<table border=\"1\" class=\"dataframe\">\n",
       "  <thead>\n",
       "    <tr style=\"text-align: right;\">\n",
       "      <th></th>\n",
       "      <th>biz_1</th>\n",
       "      <th>biz_2</th>\n",
       "      <th>at_cat_txt_us</th>\n",
       "      <th>3_rec</th>\n",
       "      <th>2_rec</th>\n",
       "    </tr>\n",
       "  </thead>\n",
       "  <tbody>\n",
       "    <tr>\n",
       "      <th>0</th>\n",
       "      <td>CiYLq33nAyghFkUR15pP-Q</td>\n",
       "      <td>P7pxQFqr7yBKMMI2J51udw</td>\n",
       "      <td>NaN</td>\n",
       "      <td>0.867736</td>\n",
       "      <td>0.958863</td>\n",
       "    </tr>\n",
       "    <tr>\n",
       "      <th>1</th>\n",
       "      <td>CiYLq33nAyghFkUR15pP-Q</td>\n",
       "      <td>g8OnV26ywJlZpezdBnOWUQ</td>\n",
       "      <td>NaN</td>\n",
       "      <td>1.031756</td>\n",
       "      <td>1.075767</td>\n",
       "    </tr>\n",
       "    <tr>\n",
       "      <th>2</th>\n",
       "      <td>CiYLq33nAyghFkUR15pP-Q</td>\n",
       "      <td>gTlDDzDEHyDQ6iwjNhpI6A</td>\n",
       "      <td>NaN</td>\n",
       "      <td>0.912100</td>\n",
       "      <td>1.088990</td>\n",
       "    </tr>\n",
       "    <tr>\n",
       "      <th>3</th>\n",
       "      <td>CiYLq33nAyghFkUR15pP-Q</td>\n",
       "      <td>-WLrZPzjKfrftLWaCi1QZQ</td>\n",
       "      <td>1.218622</td>\n",
       "      <td>1.359026</td>\n",
       "      <td>1.196831</td>\n",
       "    </tr>\n",
       "    <tr>\n",
       "      <th>4</th>\n",
       "      <td>CiYLq33nAyghFkUR15pP-Q</td>\n",
       "      <td>3LWsVfsSmb_Nzbi2YQ-NIA</td>\n",
       "      <td>0.986683</td>\n",
       "      <td>1.164389</td>\n",
       "      <td>1.134162</td>\n",
       "    </tr>\n",
       "  </tbody>\n",
       "</table>\n",
       "</div>"
      ],
      "text/plain": [
       "                    biz_1                   biz_2  at_cat_txt_us     3_rec  \\\n",
       "0  CiYLq33nAyghFkUR15pP-Q  P7pxQFqr7yBKMMI2J51udw            NaN  0.867736   \n",
       "1  CiYLq33nAyghFkUR15pP-Q  g8OnV26ywJlZpezdBnOWUQ            NaN  1.031756   \n",
       "2  CiYLq33nAyghFkUR15pP-Q  gTlDDzDEHyDQ6iwjNhpI6A            NaN  0.912100   \n",
       "3  CiYLq33nAyghFkUR15pP-Q  -WLrZPzjKfrftLWaCi1QZQ       1.218622  1.359026   \n",
       "4  CiYLq33nAyghFkUR15pP-Q  3LWsVfsSmb_Nzbi2YQ-NIA       0.986683  1.164389   \n",
       "\n",
       "      2_rec  \n",
       "0  0.958863  \n",
       "1  1.075767  \n",
       "2  1.088990  \n",
       "3  1.196831  \n",
       "4  1.134162  "
      ]
     },
     "execution_count": 55,
     "metadata": {},
     "output_type": "execute_result"
    }
   ],
   "source": [
    "rec_df2.head()"
   ]
  },
  {
   "cell_type": "code",
   "execution_count": null,
   "metadata": {
    "collapsed": false
   },
   "outputs": [],
   "source": []
  },
  {
   "cell_type": "code",
   "execution_count": null,
   "metadata": {
    "collapsed": false
   },
   "outputs": [],
   "source": []
  },
  {
   "cell_type": "code",
   "execution_count": 56,
   "metadata": {
    "collapsed": false
   },
   "outputs": [],
   "source": [
    "def two_biz_one(x, y, zlist):\n",
    "    if x in zlist:\n",
    "        return x\n",
    "    if y in zlist:\n",
    "        return y\n",
    "    else:\n",
    "        print 'oh no, something is wrong'\n",
    "        return\n",
    "\n",
    "    \n",
    "rest_list = ['P7pxQFqr7yBKMMI2J51udw', '3LWsVfsSmb_Nzbi2YQ-NIA', 'g8OnV26ywJlZpezdBnOWUQ']\n",
    "#trimmed = trim_df(rest_list)\n",
    "#trimmed[map(lambda x,y: str(x)==i or str(y)==i, trimmed.biz_1, trimmed.biz_2)]\n",
    "#map(two_biz_one, trimmed.biz_1[0:10], trimmed.biz_2[0:10]) "
   ]
  },
  {
   "cell_type": "code",
   "execution_count": null,
   "metadata": {
    "collapsed": false
   },
   "outputs": [],
   "source": []
  },
  {
   "cell_type": "code",
   "execution_count": 57,
   "metadata": {
    "collapsed": false
   },
   "outputs": [],
   "source": [
    "shortened = rec_df2[map(lambda x: x == x, rec_df2['2_rec'])]"
   ]
  },
  {
   "cell_type": "code",
   "execution_count": 59,
   "metadata": {
    "collapsed": false
   },
   "outputs": [],
   "source": [
    "shortened['biz'] = pd.Series([None] * len(shortened))"
   ]
  },
  {
   "cell_type": "code",
   "execution_count": 60,
   "metadata": {
    "collapsed": false
   },
   "outputs": [],
   "source": [
    "shortened.to_pickle('shortened.pkl')"
   ]
  },
  {
   "cell_type": "code",
   "execution_count": null,
   "metadata": {
    "collapsed": true
   },
   "outputs": [],
   "source": []
  },
  {
   "cell_type": "code",
   "execution_count": 61,
   "metadata": {
    "collapsed": true
   },
   "outputs": [],
   "source": [
    "shortened_ind = shortened[map(lambda x, y: ((x in rest_list) or (y in rest_list)), shortened.biz_1, shortened.biz_2)]"
   ]
  },
  {
   "cell_type": "code",
   "execution_count": 62,
   "metadata": {
    "collapsed": false
   },
   "outputs": [
    {
     "name": "stderr",
     "output_type": "stream",
     "text": [
      "/Users/ethanweber/anaconda/lib/python2.7/site-packages/ipykernel/__main__.py:1: SettingWithCopyWarning: \n",
      "A value is trying to be set on a copy of a slice from a DataFrame.\n",
      "Try using .loc[row_indexer,col_indexer] = value instead\n",
      "\n",
      "See the caveats in the documentation: http://pandas.pydata.org/pandas-docs/stable/indexing.html#indexing-view-versus-copy\n",
      "  if __name__ == '__main__':\n"
     ]
    }
   ],
   "source": [
    "shortened_ind['biz'] = map(lambda x, y: (x if y in rest_list else y), shortened_ind.biz_1, shortened_ind.biz_2)\n",
    "del shortened_ind['biz_1']\n",
    "del shortened_ind['biz_2']"
   ]
  },
  {
   "cell_type": "code",
   "execution_count": 63,
   "metadata": {
    "collapsed": false
   },
   "outputs": [],
   "source": [
    "shortened_ind =  shortened_ind.reset_index()\n",
    "del shortened_ind['index']"
   ]
  },
  {
   "cell_type": "code",
   "execution_count": 64,
   "metadata": {
    "collapsed": false,
    "scrolled": true
   },
   "outputs": [
    {
     "data": {
      "text/html": [
       "<div>\n",
       "<table border=\"1\" class=\"dataframe\">\n",
       "  <thead>\n",
       "    <tr style=\"text-align: right;\">\n",
       "      <th></th>\n",
       "      <th>at_cat_txt_us</th>\n",
       "      <th>3_rec</th>\n",
       "      <th>2_rec</th>\n",
       "      <th>biz</th>\n",
       "    </tr>\n",
       "  </thead>\n",
       "  <tbody>\n",
       "    <tr>\n",
       "      <th>0</th>\n",
       "      <td>NaN</td>\n",
       "      <td>0.867736</td>\n",
       "      <td>0.958863</td>\n",
       "      <td>CiYLq33nAyghFkUR15pP-Q</td>\n",
       "    </tr>\n",
       "    <tr>\n",
       "      <th>1</th>\n",
       "      <td>NaN</td>\n",
       "      <td>1.031756</td>\n",
       "      <td>1.075767</td>\n",
       "      <td>CiYLq33nAyghFkUR15pP-Q</td>\n",
       "    </tr>\n",
       "    <tr>\n",
       "      <th>2</th>\n",
       "      <td>0.986683</td>\n",
       "      <td>1.164389</td>\n",
       "      <td>1.134162</td>\n",
       "      <td>CiYLq33nAyghFkUR15pP-Q</td>\n",
       "    </tr>\n",
       "    <tr>\n",
       "      <th>3</th>\n",
       "      <td>NaN</td>\n",
       "      <td>0.786934</td>\n",
       "      <td>1.006401</td>\n",
       "      <td>P7pxQFqr7yBKMMI2J51udw</td>\n",
       "    </tr>\n",
       "    <tr>\n",
       "      <th>4</th>\n",
       "      <td>NaN</td>\n",
       "      <td>0.278287</td>\n",
       "      <td>0.977705</td>\n",
       "      <td>gTlDDzDEHyDQ6iwjNhpI6A</td>\n",
       "    </tr>\n",
       "  </tbody>\n",
       "</table>\n",
       "</div>"
      ],
      "text/plain": [
       "   at_cat_txt_us     3_rec     2_rec                     biz\n",
       "0            NaN  0.867736  0.958863  CiYLq33nAyghFkUR15pP-Q\n",
       "1            NaN  1.031756  1.075767  CiYLq33nAyghFkUR15pP-Q\n",
       "2       0.986683  1.164389  1.134162  CiYLq33nAyghFkUR15pP-Q\n",
       "3            NaN  0.786934  1.006401  P7pxQFqr7yBKMMI2J51udw\n",
       "4            NaN  0.278287  0.977705  gTlDDzDEHyDQ6iwjNhpI6A"
      ]
     },
     "execution_count": 64,
     "metadata": {},
     "output_type": "execute_result"
    }
   ],
   "source": [
    "shortened_ind.head()"
   ]
  },
  {
   "cell_type": "code",
   "execution_count": 65,
   "metadata": {
    "collapsed": false
   },
   "outputs": [
    {
     "name": "stdout",
     "output_type": "stream",
     "text": [
      "x = 14.0945974641\n"
     ]
    }
   ],
   "source": [
    "import scipy\n",
    "from scipy import stats\n",
    "\n",
    "def gmean(x):\n",
    "    try:\n",
    "        return scipy.stats.mstats.gmean(filter(lambda z: z == z, x))\n",
    "    except:\n",
    "        pass\n",
    "\n",
    "\n",
    "print 'x =', x"
   ]
  },
  {
   "cell_type": "code",
   "execution_count": 66,
   "metadata": {
    "collapsed": false
   },
   "outputs": [
    {
     "name": "stderr",
     "output_type": "stream",
     "text": [
      "/Users/ethanweber/anaconda/lib/python2.7/site-packages/numpy/core/_methods.py:59: RuntimeWarning: Mean of empty slice.\n",
      "  warnings.warn(\"Mean of empty slice.\", RuntimeWarning)\n",
      "/Users/ethanweber/anaconda/lib/python2.7/site-packages/numpy/core/_methods.py:70: RuntimeWarning: invalid value encountered in double_scalars\n",
      "  ret = ret.dtype.type(ret / rcount)\n",
      "/Users/ethanweber/anaconda/lib/python2.7/site-packages/scipy/stats/stats.py:307: RuntimeWarning: divide by zero encountered in log\n",
      "  log_a = np.log(np.array(a, dtype=dtype))\n"
     ]
    }
   ],
   "source": [
    "gmean_df = shortened_ind.groupby('biz').agg(gmean)"
   ]
  },
  {
   "cell_type": "code",
   "execution_count": 67,
   "metadata": {
    "collapsed": false
   },
   "outputs": [],
   "source": [
    "gmean_df['biz'] = gmean_df.index"
   ]
  },
  {
   "cell_type": "code",
   "execution_count": 68,
   "metadata": {
    "collapsed": false
   },
   "outputs": [
    {
     "data": {
      "text/html": [
       "<div>\n",
       "<table border=\"1\" class=\"dataframe\">\n",
       "  <thead>\n",
       "    <tr style=\"text-align: right;\">\n",
       "      <th></th>\n",
       "      <th>at_cat_txt_us</th>\n",
       "      <th>3_rec</th>\n",
       "      <th>2_rec</th>\n",
       "      <th>biz</th>\n",
       "    </tr>\n",
       "    <tr>\n",
       "      <th>biz</th>\n",
       "      <th></th>\n",
       "      <th></th>\n",
       "      <th></th>\n",
       "      <th></th>\n",
       "    </tr>\n",
       "  </thead>\n",
       "  <tbody>\n",
       "    <tr>\n",
       "      <th>--9e1ONYQuAa-CB_Rrw7Tw</th>\n",
       "      <td>0.816920</td>\n",
       "      <td>0.969530</td>\n",
       "      <td>1.028570</td>\n",
       "      <td>--9e1ONYQuAa-CB_Rrw7Tw</td>\n",
       "    </tr>\n",
       "    <tr>\n",
       "      <th>-3zffZUHoY8bQjGfPSoBKQ</th>\n",
       "      <td>0.883994</td>\n",
       "      <td>0.817150</td>\n",
       "      <td>1.045016</td>\n",
       "      <td>-3zffZUHoY8bQjGfPSoBKQ</td>\n",
       "    </tr>\n",
       "    <tr>\n",
       "      <th>-8R_-EkGpUhBk55K9Dd4mg</th>\n",
       "      <td>NaN</td>\n",
       "      <td>0.920900</td>\n",
       "      <td>1.011229</td>\n",
       "      <td>-8R_-EkGpUhBk55K9Dd4mg</td>\n",
       "    </tr>\n",
       "    <tr>\n",
       "      <th>-9YyInW1wapzdNZrhQJ9dg</th>\n",
       "      <td>NaN</td>\n",
       "      <td>0.610171</td>\n",
       "      <td>0.909107</td>\n",
       "      <td>-9YyInW1wapzdNZrhQJ9dg</td>\n",
       "    </tr>\n",
       "    <tr>\n",
       "      <th>-AD5PiuJHgdUcAK-Vxao2A</th>\n",
       "      <td>0.000000</td>\n",
       "      <td>1.010968</td>\n",
       "      <td>1.050015</td>\n",
       "      <td>-AD5PiuJHgdUcAK-Vxao2A</td>\n",
       "    </tr>\n",
       "  </tbody>\n",
       "</table>\n",
       "</div>"
      ],
      "text/plain": [
       "                        at_cat_txt_us     3_rec     2_rec  \\\n",
       "biz                                                         \n",
       "--9e1ONYQuAa-CB_Rrw7Tw       0.816920  0.969530  1.028570   \n",
       "-3zffZUHoY8bQjGfPSoBKQ       0.883994  0.817150  1.045016   \n",
       "-8R_-EkGpUhBk55K9Dd4mg            NaN  0.920900  1.011229   \n",
       "-9YyInW1wapzdNZrhQJ9dg            NaN  0.610171  0.909107   \n",
       "-AD5PiuJHgdUcAK-Vxao2A       0.000000  1.010968  1.050015   \n",
       "\n",
       "                                           biz  \n",
       "biz                                             \n",
       "--9e1ONYQuAa-CB_Rrw7Tw  --9e1ONYQuAa-CB_Rrw7Tw  \n",
       "-3zffZUHoY8bQjGfPSoBKQ  -3zffZUHoY8bQjGfPSoBKQ  \n",
       "-8R_-EkGpUhBk55K9Dd4mg  -8R_-EkGpUhBk55K9Dd4mg  \n",
       "-9YyInW1wapzdNZrhQJ9dg  -9YyInW1wapzdNZrhQJ9dg  \n",
       "-AD5PiuJHgdUcAK-Vxao2A  -AD5PiuJHgdUcAK-Vxao2A  "
      ]
     },
     "execution_count": 68,
     "metadata": {},
     "output_type": "execute_result"
    }
   ],
   "source": [
    "gmean_df.head()"
   ]
  },
  {
   "cell_type": "code",
   "execution_count": 69,
   "metadata": {
    "collapsed": false
   },
   "outputs": [
    {
     "data": {
      "text/html": [
       "<div>\n",
       "<table border=\"1\" class=\"dataframe\">\n",
       "  <thead>\n",
       "    <tr style=\"text-align: right;\">\n",
       "      <th></th>\n",
       "      <th>name_x</th>\n",
       "      <th>address</th>\n",
       "      <th>neighborhood</th>\n",
       "      <th>review_count_x</th>\n",
       "      <th>stars_y</th>\n",
       "      <th>score</th>\n",
       "      <th>biz</th>\n",
       "    </tr>\n",
       "  </thead>\n",
       "  <tbody>\n",
       "    <tr>\n",
       "      <th>0</th>\n",
       "      <td>TACOS EL GORDO</td>\n",
       "      <td>1724 E Charleston Blvd</td>\n",
       "      <td>Downtown</td>\n",
       "      <td>1151.0</td>\n",
       "      <td>4.5</td>\n",
       "      <td>71.968743</td>\n",
       "      <td>CiYLq33nAyghFkUR15pP-Q</td>\n",
       "    </tr>\n",
       "    <tr>\n",
       "      <th>1</th>\n",
       "      <td>Holsteins Shakes and Buns</td>\n",
       "      <td>3708 Las Vegas Blvd S</td>\n",
       "      <td>The Strip</td>\n",
       "      <td>2474.0</td>\n",
       "      <td>4.0</td>\n",
       "      <td>99.478641</td>\n",
       "      <td>P7pxQFqr7yBKMMI2J51udw</td>\n",
       "    </tr>\n",
       "    <tr>\n",
       "      <th>2</th>\n",
       "      <td>Hash House A Go Go</td>\n",
       "      <td>6800 W Sahara Ave</td>\n",
       "      <td>Westside</td>\n",
       "      <td>2835.0</td>\n",
       "      <td>4.0</td>\n",
       "      <td>106.489436</td>\n",
       "      <td>g8OnV26ywJlZpezdBnOWUQ</td>\n",
       "    </tr>\n",
       "    <tr>\n",
       "      <th>3</th>\n",
       "      <td>Ice Box Canyon</td>\n",
       "      <td>Red Rock Canyon National Conservation Area, 32...</td>\n",
       "      <td>NaN</td>\n",
       "      <td>34.0</td>\n",
       "      <td>4.5</td>\n",
       "      <td>12.369317</td>\n",
       "      <td>xObQl57iTZrg8-hfMkMF6g</td>\n",
       "    </tr>\n",
       "    <tr>\n",
       "      <th>4</th>\n",
       "      <td>Mount Everest India's Cuisine</td>\n",
       "      <td>3641 W Sahara Ave</td>\n",
       "      <td>Westside</td>\n",
       "      <td>1015.0</td>\n",
       "      <td>4.5</td>\n",
       "      <td>67.583282</td>\n",
       "      <td>gTlDDzDEHyDQ6iwjNhpI6A</td>\n",
       "    </tr>\n",
       "  </tbody>\n",
       "</table>\n",
       "</div>"
      ],
      "text/plain": [
       "                          name_x  \\\n",
       "0                 TACOS EL GORDO   \n",
       "1      Holsteins Shakes and Buns   \n",
       "2             Hash House A Go Go   \n",
       "3                 Ice Box Canyon   \n",
       "4  Mount Everest India's Cuisine   \n",
       "\n",
       "                                             address neighborhood  \\\n",
       "0                             1724 E Charleston Blvd     Downtown   \n",
       "1                              3708 Las Vegas Blvd S    The Strip   \n",
       "2                                  6800 W Sahara Ave     Westside   \n",
       "3  Red Rock Canyon National Conservation Area, 32...          NaN   \n",
       "4                                  3641 W Sahara Ave     Westside   \n",
       "\n",
       "   review_count_x  stars_y       score                     biz  \n",
       "0          1151.0      4.5   71.968743  CiYLq33nAyghFkUR15pP-Q  \n",
       "1          2474.0      4.0   99.478641  P7pxQFqr7yBKMMI2J51udw  \n",
       "2          2835.0      4.0  106.489436  g8OnV26ywJlZpezdBnOWUQ  \n",
       "3            34.0      4.5   12.369317  xObQl57iTZrg8-hfMkMF6g  \n",
       "4          1015.0      4.5   67.583282  gTlDDzDEHyDQ6iwjNhpI6A  "
      ]
     },
     "execution_count": 69,
     "metadata": {},
     "output_type": "execute_result"
    }
   ],
   "source": [
    "df2.head()"
   ]
  },
  {
   "cell_type": "code",
   "execution_count": 73,
   "metadata": {
    "collapsed": false
   },
   "outputs": [],
   "source": [
    "final_recs = pd.merge(gmean_df, df2, how = 'left', on = 'biz')"
   ]
  },
  {
   "cell_type": "code",
   "execution_count": 101,
   "metadata": {
    "collapsed": false
   },
   "outputs": [
    {
     "data": {
      "text/html": [
       "<div>\n",
       "<table border=\"1\" class=\"dataframe\">\n",
       "  <thead>\n",
       "    <tr style=\"text-align: right;\">\n",
       "      <th></th>\n",
       "      <th>at_cat_txt_us</th>\n",
       "      <th>3_rec</th>\n",
       "      <th>2_rec</th>\n",
       "      <th>biz</th>\n",
       "      <th>name_x</th>\n",
       "      <th>address</th>\n",
       "      <th>neighborhood</th>\n",
       "      <th>review_count_x</th>\n",
       "      <th>stars_y</th>\n",
       "      <th>score</th>\n",
       "    </tr>\n",
       "  </thead>\n",
       "  <tbody>\n",
       "    <tr>\n",
       "      <th>1670</th>\n",
       "      <td>1.018390</td>\n",
       "      <td>0.871167</td>\n",
       "      <td>1.094324</td>\n",
       "      <td>QJatAcxYgK1Zp9BRZMAx7g</td>\n",
       "      <td>Shake Shack</td>\n",
       "      <td>New York New York Hotel &amp; Casino, 3790 Las Veg...</td>\n",
       "      <td>The Strip</td>\n",
       "      <td>2091.0</td>\n",
       "      <td>4.0</td>\n",
       "      <td>91.454907</td>\n",
       "    </tr>\n",
       "    <tr>\n",
       "      <th>2677</th>\n",
       "      <td>0.920404</td>\n",
       "      <td>0.773938</td>\n",
       "      <td>0.941236</td>\n",
       "      <td>fL-b760btOaGa85OJ9ut3w</td>\n",
       "      <td>Rollin Smoke Barbeque</td>\n",
       "      <td>3185 S Highland Dr</td>\n",
       "      <td>NaN</td>\n",
       "      <td>1996.0</td>\n",
       "      <td>4.5</td>\n",
       "      <td>94.773414</td>\n",
       "    </tr>\n",
       "    <tr>\n",
       "      <th>2718</th>\n",
       "      <td>0.507045</td>\n",
       "      <td>0.768564</td>\n",
       "      <td>1.007993</td>\n",
       "      <td>g8OnV26ywJlZpezdBnOWUQ</td>\n",
       "      <td>Hash House A Go Go</td>\n",
       "      <td>6800 W Sahara Ave</td>\n",
       "      <td>Westside</td>\n",
       "      <td>2835.0</td>\n",
       "      <td>4.0</td>\n",
       "      <td>106.489436</td>\n",
       "    </tr>\n",
       "  </tbody>\n",
       "</table>\n",
       "</div>"
      ],
      "text/plain": [
       "      at_cat_txt_us     3_rec     2_rec                     biz  \\\n",
       "1670       1.018390  0.871167  1.094324  QJatAcxYgK1Zp9BRZMAx7g   \n",
       "2677       0.920404  0.773938  0.941236  fL-b760btOaGa85OJ9ut3w   \n",
       "2718       0.507045  0.768564  1.007993  g8OnV26ywJlZpezdBnOWUQ   \n",
       "\n",
       "                     name_x  \\\n",
       "1670            Shake Shack   \n",
       "2677  Rollin Smoke Barbeque   \n",
       "2718     Hash House A Go Go   \n",
       "\n",
       "                                                address neighborhood  \\\n",
       "1670  New York New York Hotel & Casino, 3790 Las Veg...    The Strip   \n",
       "2677                                 3185 S Highland Dr          NaN   \n",
       "2718                                  6800 W Sahara Ave     Westside   \n",
       "\n",
       "      review_count_x  stars_y       score  \n",
       "1670          2091.0      4.0   91.454907  \n",
       "2677          1996.0      4.5   94.773414  \n",
       "2718          2835.0      4.0  106.489436  "
      ]
     },
     "execution_count": 101,
     "metadata": {},
     "output_type": "execute_result"
    }
   ],
   "source": [
    "final_recs[map(lambda x: x in ['fL-b760btOaGa85OJ9ut3w', 'QJatAcxYgK1Zp9BRZMAx7g', 'g8OnV26ywJlZpezdBnOWUQ'], final_recs['biz'])]"
   ]
  },
  {
   "cell_type": "code",
   "execution_count": 96,
   "metadata": {
    "collapsed": false
   },
   "outputs": [],
   "source": [
    "columns = ['biz', 'score']\n",
    "first_recs = pd.DataFrame(index = None, columns = columns)"
   ]
  },
  {
   "cell_type": "code",
   "execution_count": 79,
   "metadata": {
    "collapsed": false
   },
   "outputs": [],
   "source": [
    "def score_funct(x, y):\n",
    "    try:\n",
    "        return x*y\n",
    "    except:\n",
    "        pass"
   ]
  },
  {
   "cell_type": "code",
   "execution_count": null,
   "metadata": {
    "collapsed": true
   },
   "outputs": [],
   "source": [
    "rec_list = []"
   ]
  },
  {
   "cell_type": "code",
   "execution_count": 80,
   "metadata": {
    "collapsed": false
   },
   "outputs": [],
   "source": [
    "first_recs['biz'] = final_recs.biz\n",
    "first_recs['score'] = map(score_funct, final_recs.at_cat_txt_us, final_recs.score)"
   ]
  },
  {
   "cell_type": "code",
   "execution_count": 81,
   "metadata": {
    "collapsed": false
   },
   "outputs": [
    {
     "data": {
      "text/html": [
       "<div>\n",
       "<table border=\"1\" class=\"dataframe\">\n",
       "  <thead>\n",
       "    <tr style=\"text-align: right;\">\n",
       "      <th></th>\n",
       "      <th>biz</th>\n",
       "      <th>score</th>\n",
       "    </tr>\n",
       "  </thead>\n",
       "  <tbody>\n",
       "    <tr>\n",
       "      <th>0</th>\n",
       "      <td>--9e1ONYQuAa-CB_Rrw7Tw</td>\n",
       "      <td>59.157659</td>\n",
       "    </tr>\n",
       "    <tr>\n",
       "      <th>1</th>\n",
       "      <td>-3zffZUHoY8bQjGfPSoBKQ</td>\n",
       "      <td>41.160326</td>\n",
       "    </tr>\n",
       "    <tr>\n",
       "      <th>2</th>\n",
       "      <td>-8R_-EkGpUhBk55K9Dd4mg</td>\n",
       "      <td>NaN</td>\n",
       "    </tr>\n",
       "    <tr>\n",
       "      <th>3</th>\n",
       "      <td>-9YyInW1wapzdNZrhQJ9dg</td>\n",
       "      <td>NaN</td>\n",
       "    </tr>\n",
       "    <tr>\n",
       "      <th>4</th>\n",
       "      <td>-AD5PiuJHgdUcAK-Vxao2A</td>\n",
       "      <td>0.000000</td>\n",
       "    </tr>\n",
       "  </tbody>\n",
       "</table>\n",
       "</div>"
      ],
      "text/plain": [
       "                      biz      score\n",
       "0  --9e1ONYQuAa-CB_Rrw7Tw  59.157659\n",
       "1  -3zffZUHoY8bQjGfPSoBKQ  41.160326\n",
       "2  -8R_-EkGpUhBk55K9Dd4mg        NaN\n",
       "3  -9YyInW1wapzdNZrhQJ9dg        NaN\n",
       "4  -AD5PiuJHgdUcAK-Vxao2A   0.000000"
      ]
     },
     "execution_count": 81,
     "metadata": {},
     "output_type": "execute_result"
    }
   ],
   "source": [
    "first_recs.head()"
   ]
  },
  {
   "cell_type": "code",
   "execution_count": 85,
   "metadata": {
    "collapsed": false
   },
   "outputs": [
    {
     "name": "stderr",
     "output_type": "stream",
     "text": [
      "/Users/ethanweber/anaconda/lib/python2.7/site-packages/ipykernel/__main__.py:2: FutureWarning: sort(columns=....) is deprecated, use sort_values(by=.....)\n",
      "  from ipykernel import kernelapp as app\n"
     ]
    },
    {
     "data": {
      "text/html": [
       "<div>\n",
       "<table border=\"1\" class=\"dataframe\">\n",
       "  <thead>\n",
       "    <tr style=\"text-align: right;\">\n",
       "      <th></th>\n",
       "      <th>biz</th>\n",
       "      <th>score</th>\n",
       "    </tr>\n",
       "  </thead>\n",
       "  <tbody>\n",
       "    <tr>\n",
       "      <th>2502</th>\n",
       "      <td>cYwJA2A6I12KNkm2rtXd5g</td>\n",
       "      <td>129.084454</td>\n",
       "    </tr>\n",
       "    <tr>\n",
       "      <th>1297</th>\n",
       "      <td>K7lWdNUhCbcnEvI0NhGewg</td>\n",
       "      <td>105.382859</td>\n",
       "    </tr>\n",
       "    <tr>\n",
       "      <th>1770</th>\n",
       "      <td>RwMLuOkImBIqqYj4SSKSPg</td>\n",
       "      <td>101.342731</td>\n",
       "    </tr>\n",
       "    <tr>\n",
       "      <th>1670</th>\n",
       "      <td>QJatAcxYgK1Zp9BRZMAx7g</td>\n",
       "      <td>93.136767</td>\n",
       "    </tr>\n",
       "    <tr>\n",
       "      <th>2677</th>\n",
       "      <td>fL-b760btOaGa85OJ9ut3w</td>\n",
       "      <td>87.229872</td>\n",
       "    </tr>\n",
       "    <tr>\n",
       "      <th>1540</th>\n",
       "      <td>OETh78qcgDltvHULowwhJg</td>\n",
       "      <td>82.122902</td>\n",
       "    </tr>\n",
       "    <tr>\n",
       "      <th>237</th>\n",
       "      <td>2weQS-RnoOBhb1KsHKyoSQ</td>\n",
       "      <td>75.042192</td>\n",
       "    </tr>\n",
       "    <tr>\n",
       "      <th>818</th>\n",
       "      <td>CiYLq33nAyghFkUR15pP-Q</td>\n",
       "      <td>71.010349</td>\n",
       "    </tr>\n",
       "    <tr>\n",
       "      <th>1938</th>\n",
       "      <td>UNI1agsPX2k3eJSJVB91nw</td>\n",
       "      <td>68.073525</td>\n",
       "    </tr>\n",
       "    <tr>\n",
       "      <th>2349</th>\n",
       "      <td>_w5hBpkjHs5_Hv3pLeHtIw</td>\n",
       "      <td>67.494926</td>\n",
       "    </tr>\n",
       "    <tr>\n",
       "      <th>2145</th>\n",
       "      <td>XZbuPXdyA0ZtTu3AzqtQhg</td>\n",
       "      <td>65.734258</td>\n",
       "    </tr>\n",
       "    <tr>\n",
       "      <th>1167</th>\n",
       "      <td>I6EDDi4-Eq_XlFghcDCUhw</td>\n",
       "      <td>65.544606</td>\n",
       "    </tr>\n",
       "    <tr>\n",
       "      <th>1943</th>\n",
       "      <td>UPIYuRaZvknINOd1w8kqRQ</td>\n",
       "      <td>61.776070</td>\n",
       "    </tr>\n",
       "    <tr>\n",
       "      <th>2295</th>\n",
       "      <td>ZkGDCVKSdf8m76cnnalL-A</td>\n",
       "      <td>61.326608</td>\n",
       "    </tr>\n",
       "    <tr>\n",
       "      <th>2159</th>\n",
       "      <td>XnJeadLrlj9AZB8qSdIR2Q</td>\n",
       "      <td>60.546334</td>\n",
       "    </tr>\n",
       "    <tr>\n",
       "      <th>0</th>\n",
       "      <td>--9e1ONYQuAa-CB_Rrw7Tw</td>\n",
       "      <td>59.157659</td>\n",
       "    </tr>\n",
       "    <tr>\n",
       "      <th>2266</th>\n",
       "      <td>ZAuAwz1ijuydn5yL3q3rzA</td>\n",
       "      <td>58.514413</td>\n",
       "    </tr>\n",
       "    <tr>\n",
       "      <th>524</th>\n",
       "      <td>7sb2FYLS2sejZKxRYF9mtg</td>\n",
       "      <td>57.034470</td>\n",
       "    </tr>\n",
       "    <tr>\n",
       "      <th>1226</th>\n",
       "      <td>J4CATH00YZrq8Bne2S4_cw</td>\n",
       "      <td>56.963105</td>\n",
       "    </tr>\n",
       "    <tr>\n",
       "      <th>1861</th>\n",
       "      <td>TCWMgOiV0PxQkWE1SyBIWQ</td>\n",
       "      <td>56.857826</td>\n",
       "    </tr>\n",
       "    <tr>\n",
       "      <th>2635</th>\n",
       "      <td>eaNenRk_liZBERFFLCXqqQ</td>\n",
       "      <td>56.248232</td>\n",
       "    </tr>\n",
       "    <tr>\n",
       "      <th>1736</th>\n",
       "      <td>RNi6tW22UMgHwWLAb0mYdA</td>\n",
       "      <td>55.988756</td>\n",
       "    </tr>\n",
       "    <tr>\n",
       "      <th>1375</th>\n",
       "      <td>LR0qF0FEVsCOhYWUOiH26A</td>\n",
       "      <td>55.903510</td>\n",
       "    </tr>\n",
       "    <tr>\n",
       "      <th>1286</th>\n",
       "      <td>JyxHvtj-syke7m9rbza7mA</td>\n",
       "      <td>54.828932</td>\n",
       "    </tr>\n",
       "    <tr>\n",
       "      <th>1193</th>\n",
       "      <td>IT_4EEIbv6Ox1jBRMyE7pg</td>\n",
       "      <td>54.684616</td>\n",
       "    </tr>\n",
       "    <tr>\n",
       "      <th>2718</th>\n",
       "      <td>g8OnV26ywJlZpezdBnOWUQ</td>\n",
       "      <td>53.994886</td>\n",
       "    </tr>\n",
       "    <tr>\n",
       "      <th>2667</th>\n",
       "      <td>f9sU31meK0bqAD7922sCog</td>\n",
       "      <td>53.865594</td>\n",
       "    </tr>\n",
       "    <tr>\n",
       "      <th>2075</th>\n",
       "      <td>WRQ-9LluyivReFiQZFUujw</td>\n",
       "      <td>51.782823</td>\n",
       "    </tr>\n",
       "    <tr>\n",
       "      <th>2461</th>\n",
       "      <td>bpRo8L8dkhgbJhdIKa9mwA</td>\n",
       "      <td>50.471610</td>\n",
       "    </tr>\n",
       "    <tr>\n",
       "      <th>116</th>\n",
       "      <td>0q_BHpxbikVtPRRLRu-U0g</td>\n",
       "      <td>50.388574</td>\n",
       "    </tr>\n",
       "    <tr>\n",
       "      <th>...</th>\n",
       "      <td>...</td>\n",
       "      <td>...</td>\n",
       "    </tr>\n",
       "    <tr>\n",
       "      <th>3681</th>\n",
       "      <td>zTr86H7j2bKQT13KBhBpPQ</td>\n",
       "      <td>NaN</td>\n",
       "    </tr>\n",
       "    <tr>\n",
       "      <th>3682</th>\n",
       "      <td>zU9w_xRlQSRIYXxGo-HSOA</td>\n",
       "      <td>NaN</td>\n",
       "    </tr>\n",
       "    <tr>\n",
       "      <th>3683</th>\n",
       "      <td>zW0a510NN0P2n4tqKeIRBw</td>\n",
       "      <td>NaN</td>\n",
       "    </tr>\n",
       "    <tr>\n",
       "      <th>3684</th>\n",
       "      <td>zXBrfL_ohYMuBZWvF8EcSA</td>\n",
       "      <td>NaN</td>\n",
       "    </tr>\n",
       "    <tr>\n",
       "      <th>3685</th>\n",
       "      <td>zXR-C_clfbCksI0cIDrl4g</td>\n",
       "      <td>NaN</td>\n",
       "    </tr>\n",
       "    <tr>\n",
       "      <th>3686</th>\n",
       "      <td>zY6f_cFY8HTI3hLlJj3SOg</td>\n",
       "      <td>NaN</td>\n",
       "    </tr>\n",
       "    <tr>\n",
       "      <th>3687</th>\n",
       "      <td>zZn22GJCl6f2fCrnUBQhcA</td>\n",
       "      <td>NaN</td>\n",
       "    </tr>\n",
       "    <tr>\n",
       "      <th>3688</th>\n",
       "      <td>z_1n_57ANGutdEnfbWpTGw</td>\n",
       "      <td>NaN</td>\n",
       "    </tr>\n",
       "    <tr>\n",
       "      <th>3689</th>\n",
       "      <td>z_46RY-L3vcMrH3-wxCp9w</td>\n",
       "      <td>NaN</td>\n",
       "    </tr>\n",
       "    <tr>\n",
       "      <th>3690</th>\n",
       "      <td>zb8kMYcte7WLcB-7CG3vNg</td>\n",
       "      <td>NaN</td>\n",
       "    </tr>\n",
       "    <tr>\n",
       "      <th>3691</th>\n",
       "      <td>zcScEL0WEdFkROcnz5379g</td>\n",
       "      <td>NaN</td>\n",
       "    </tr>\n",
       "    <tr>\n",
       "      <th>3692</th>\n",
       "      <td>zcgArjObRzQRH6MaqTPDmQ</td>\n",
       "      <td>NaN</td>\n",
       "    </tr>\n",
       "    <tr>\n",
       "      <th>3693</th>\n",
       "      <td>zcpfOE1tBET_5YUjq8y11g</td>\n",
       "      <td>NaN</td>\n",
       "    </tr>\n",
       "    <tr>\n",
       "      <th>3694</th>\n",
       "      <td>zdE82PiD6wquvjYLyhOJNA</td>\n",
       "      <td>NaN</td>\n",
       "    </tr>\n",
       "    <tr>\n",
       "      <th>3695</th>\n",
       "      <td>zdcesxBdjljRgS0QmCgkBg</td>\n",
       "      <td>NaN</td>\n",
       "    </tr>\n",
       "    <tr>\n",
       "      <th>3696</th>\n",
       "      <td>ze8qCibT7XPZ1z4xbOAezA</td>\n",
       "      <td>NaN</td>\n",
       "    </tr>\n",
       "    <tr>\n",
       "      <th>3697</th>\n",
       "      <td>zesysZuscMHxBl9uIQXIIw</td>\n",
       "      <td>NaN</td>\n",
       "    </tr>\n",
       "    <tr>\n",
       "      <th>3698</th>\n",
       "      <td>zf1h0aVL8-Jl91F-mDxZEg</td>\n",
       "      <td>NaN</td>\n",
       "    </tr>\n",
       "    <tr>\n",
       "      <th>3699</th>\n",
       "      <td>zhB2gbdNbaFwo2nWEArtLA</td>\n",
       "      <td>NaN</td>\n",
       "    </tr>\n",
       "    <tr>\n",
       "      <th>3700</th>\n",
       "      <td>zjvnqTjBp56NhMp1GrlO5g</td>\n",
       "      <td>NaN</td>\n",
       "    </tr>\n",
       "    <tr>\n",
       "      <th>3701</th>\n",
       "      <td>znWHLW1pt19HzW1VY6KfCA</td>\n",
       "      <td>NaN</td>\n",
       "    </tr>\n",
       "    <tr>\n",
       "      <th>3702</th>\n",
       "      <td>zp-K5s3pGTWuuaVBWo6WZA</td>\n",
       "      <td>NaN</td>\n",
       "    </tr>\n",
       "    <tr>\n",
       "      <th>3703</th>\n",
       "      <td>zpoZ6WyQUYff18-z4ZU1mA</td>\n",
       "      <td>NaN</td>\n",
       "    </tr>\n",
       "    <tr>\n",
       "      <th>3704</th>\n",
       "      <td>zrMpy_uQ5_77YapMkp8lUA</td>\n",
       "      <td>NaN</td>\n",
       "    </tr>\n",
       "    <tr>\n",
       "      <th>3705</th>\n",
       "      <td>zsQk990PubOHjr1YcLkQFw</td>\n",
       "      <td>NaN</td>\n",
       "    </tr>\n",
       "    <tr>\n",
       "      <th>3706</th>\n",
       "      <td>zsT04OrUZ25WILxbp1S3XQ</td>\n",
       "      <td>NaN</td>\n",
       "    </tr>\n",
       "    <tr>\n",
       "      <th>3707</th>\n",
       "      <td>zt9RLUIU32fZYOBh2L0NNQ</td>\n",
       "      <td>NaN</td>\n",
       "    </tr>\n",
       "    <tr>\n",
       "      <th>3708</th>\n",
       "      <td>zuwba6QEBIDZT0tJZmNhdQ</td>\n",
       "      <td>NaN</td>\n",
       "    </tr>\n",
       "    <tr>\n",
       "      <th>3709</th>\n",
       "      <td>zv2-8DTIqciqDmgURXujJw</td>\n",
       "      <td>NaN</td>\n",
       "    </tr>\n",
       "    <tr>\n",
       "      <th>3710</th>\n",
       "      <td>zwNC-Ow4eIMan2__bS9-rg</td>\n",
       "      <td>NaN</td>\n",
       "    </tr>\n",
       "  </tbody>\n",
       "</table>\n",
       "<p>3711 rows × 2 columns</p>\n",
       "</div>"
      ],
      "text/plain": [
       "                         biz       score\n",
       "2502  cYwJA2A6I12KNkm2rtXd5g  129.084454\n",
       "1297  K7lWdNUhCbcnEvI0NhGewg  105.382859\n",
       "1770  RwMLuOkImBIqqYj4SSKSPg  101.342731\n",
       "1670  QJatAcxYgK1Zp9BRZMAx7g   93.136767\n",
       "2677  fL-b760btOaGa85OJ9ut3w   87.229872\n",
       "1540  OETh78qcgDltvHULowwhJg   82.122902\n",
       "237   2weQS-RnoOBhb1KsHKyoSQ   75.042192\n",
       "818   CiYLq33nAyghFkUR15pP-Q   71.010349\n",
       "1938  UNI1agsPX2k3eJSJVB91nw   68.073525\n",
       "2349  _w5hBpkjHs5_Hv3pLeHtIw   67.494926\n",
       "2145  XZbuPXdyA0ZtTu3AzqtQhg   65.734258\n",
       "1167  I6EDDi4-Eq_XlFghcDCUhw   65.544606\n",
       "1943  UPIYuRaZvknINOd1w8kqRQ   61.776070\n",
       "2295  ZkGDCVKSdf8m76cnnalL-A   61.326608\n",
       "2159  XnJeadLrlj9AZB8qSdIR2Q   60.546334\n",
       "0     --9e1ONYQuAa-CB_Rrw7Tw   59.157659\n",
       "2266  ZAuAwz1ijuydn5yL3q3rzA   58.514413\n",
       "524   7sb2FYLS2sejZKxRYF9mtg   57.034470\n",
       "1226  J4CATH00YZrq8Bne2S4_cw   56.963105\n",
       "1861  TCWMgOiV0PxQkWE1SyBIWQ   56.857826\n",
       "2635  eaNenRk_liZBERFFLCXqqQ   56.248232\n",
       "1736  RNi6tW22UMgHwWLAb0mYdA   55.988756\n",
       "1375  LR0qF0FEVsCOhYWUOiH26A   55.903510\n",
       "1286  JyxHvtj-syke7m9rbza7mA   54.828932\n",
       "1193  IT_4EEIbv6Ox1jBRMyE7pg   54.684616\n",
       "2718  g8OnV26ywJlZpezdBnOWUQ   53.994886\n",
       "2667  f9sU31meK0bqAD7922sCog   53.865594\n",
       "2075  WRQ-9LluyivReFiQZFUujw   51.782823\n",
       "2461  bpRo8L8dkhgbJhdIKa9mwA   50.471610\n",
       "116   0q_BHpxbikVtPRRLRu-U0g   50.388574\n",
       "...                      ...         ...\n",
       "3681  zTr86H7j2bKQT13KBhBpPQ         NaN\n",
       "3682  zU9w_xRlQSRIYXxGo-HSOA         NaN\n",
       "3683  zW0a510NN0P2n4tqKeIRBw         NaN\n",
       "3684  zXBrfL_ohYMuBZWvF8EcSA         NaN\n",
       "3685  zXR-C_clfbCksI0cIDrl4g         NaN\n",
       "3686  zY6f_cFY8HTI3hLlJj3SOg         NaN\n",
       "3687  zZn22GJCl6f2fCrnUBQhcA         NaN\n",
       "3688  z_1n_57ANGutdEnfbWpTGw         NaN\n",
       "3689  z_46RY-L3vcMrH3-wxCp9w         NaN\n",
       "3690  zb8kMYcte7WLcB-7CG3vNg         NaN\n",
       "3691  zcScEL0WEdFkROcnz5379g         NaN\n",
       "3692  zcgArjObRzQRH6MaqTPDmQ         NaN\n",
       "3693  zcpfOE1tBET_5YUjq8y11g         NaN\n",
       "3694  zdE82PiD6wquvjYLyhOJNA         NaN\n",
       "3695  zdcesxBdjljRgS0QmCgkBg         NaN\n",
       "3696  ze8qCibT7XPZ1z4xbOAezA         NaN\n",
       "3697  zesysZuscMHxBl9uIQXIIw         NaN\n",
       "3698  zf1h0aVL8-Jl91F-mDxZEg         NaN\n",
       "3699  zhB2gbdNbaFwo2nWEArtLA         NaN\n",
       "3700  zjvnqTjBp56NhMp1GrlO5g         NaN\n",
       "3701  znWHLW1pt19HzW1VY6KfCA         NaN\n",
       "3702  zp-K5s3pGTWuuaVBWo6WZA         NaN\n",
       "3703  zpoZ6WyQUYff18-z4ZU1mA         NaN\n",
       "3704  zrMpy_uQ5_77YapMkp8lUA         NaN\n",
       "3705  zsQk990PubOHjr1YcLkQFw         NaN\n",
       "3706  zsT04OrUZ25WILxbp1S3XQ         NaN\n",
       "3707  zt9RLUIU32fZYOBh2L0NNQ         NaN\n",
       "3708  zuwba6QEBIDZT0tJZmNhdQ         NaN\n",
       "3709  zv2-8DTIqciqDmgURXujJw         NaN\n",
       "3710  zwNC-Ow4eIMan2__bS9-rg         NaN\n",
       "\n",
       "[3711 rows x 2 columns]"
      ]
     },
     "execution_count": 85,
     "metadata": {},
     "output_type": "execute_result"
    }
   ],
   "source": [
    "#first_recs[filter(lambda x: x == x and x > 0, first_recs.score)]\n",
    "first_recs.sort(columns = 'score', ascending = False)"
   ]
  },
  {
   "cell_type": "code",
   "execution_count": null,
   "metadata": {
    "collapsed": false
   },
   "outputs": [],
   "source": []
  },
  {
   "cell_type": "code",
   "execution_count": null,
   "metadata": {
    "collapsed": false
   },
   "outputs": [],
   "source": []
  },
  {
   "cell_type": "code",
   "execution_count": null,
   "metadata": {
    "collapsed": false
   },
   "outputs": [],
   "source": [
    "trimmed = trim_df(['P7pxQFqr7yBKMMI2J51udw', '3LWsVfsSmb_Nzbi2YQ-NIA'])\n",
    "def get_multipliers(trimmed, rest_list = rest_list):\n",
    "    temp_df = rec_df[map(lambda x: x = rest_list, rec_df.biz_1) or map(lambda x: x in rest_list, rec_df.biz_2)]\n",
    "    "
   ]
  },
  {
   "cell_type": "code",
   "execution_count": null,
   "metadata": {
    "collapsed": false
   },
   "outputs": [],
   "source": [
    "#rest_list = ['P7pxQFqr7yBKMMI2J51udw', '3LWsVfsSmb_Nzbi2YQ-NIA']\n",
    "columns = ['biz', 'at_cat_txt_us', '3_rec', '2_rec']\n",
    "\n",
    "df_final = pd.DataFrame(index = [], columns = columns)\n",
    "df_final"
   ]
  },
  {
   "cell_type": "code",
   "execution_count": null,
   "metadata": {
    "collapsed": false
   },
   "outputs": [],
   "source": [
    "def trim_df(df, rest_list):\n",
    "    df_final = pd.DataFrame(index = [], columns = ['biz', 'at_cat_txt_us', '3_rec', '2_rec'])\n",
    "    for i in rest_list:\n",
    "        x = df[map(lambda x,y: str(x)== i or str(y)== i, df.biz_1, df.biz_2)]\n",
    "        x = x.reset_index()\n",
    "        del x['index']\n",
    "        x['biz'] = pd.Series()\n",
    "        for j in range(len(x)):\n",
    "            biz = (two_biz_one(x.biz_1[j], x.biz_2[j], rest_list))\n",
    "            x['biz'][j] = (biz)\n",
    "        df_final = df_final.append(x.groupby('biz')['at_cat_txt_us', '3_rec', '2_rec'].mean())\n",
    "    return df_final"
   ]
  },
  {
   "cell_type": "code",
   "execution_count": null,
   "metadata": {
    "collapsed": false
   },
   "outputs": [],
   "source": [
    "trim_df(rec_df2[:1000, ['LYWbyu1EQM2o5hwHG5_Ldg', 'gTlDDzDEHyDQ6iwjNhpI6A']])"
   ]
  },
  {
   "cell_type": "code",
   "execution_count": null,
   "metadata": {
    "collapsed": false
   },
   "outputs": [],
   "source": []
  },
  {
   "cell_type": "code",
   "execution_count": null,
   "metadata": {
    "collapsed": false
   },
   "outputs": [],
   "source": [
    "#trimmed = trimmed.reset_index()\n",
    "\n",
    "trimmed = trim_df(rest_list)\n",
    "trimmed[map(lambda x,y: str(x)==i or str(y)==i, trimmed.biz_1, trimmed.biz_2)]\n",
    "\n",
    "#trimmed.biz_1\n",
    "#trimmed.biz_1[1]\n",
    "#trimmed.biz_1\n",
    "#type(i)\n",
    "#trimmed.biz_2\n",
    "#map(lambda x: str(x)  == i, trimmed.biz_2)\n",
    "#trimmed.biz_2"
   ]
  },
  {
   "cell_type": "code",
   "execution_count": null,
   "metadata": {
    "collapsed": false
   },
   "outputs": [],
   "source": [
    "trimmed.d()"
   ]
  },
  {
   "cell_type": "code",
   "execution_count": null,
   "metadata": {
    "collapsed": false
   },
   "outputs": [],
   "source": [
    "map(lambda x,y: str(x)==i or str(y)==i, trimmed.biz_1, trimmed.biz_2)"
   ]
  },
  {
   "cell_type": "code",
   "execution_count": null,
   "metadata": {
    "collapsed": false
   },
   "outputs": [],
   "source": [
    "i = 'P7pxQFqr7yBKMMI2J51udw'\n",
    "trimmed[map(lambda x: str(x)  == i, trimmed.biz_2) or map(lambda x: str(x) == i, trimmed.biz_1)]\n"
   ]
  },
  {
   "cell_type": "code",
   "execution_count": null,
   "metadata": {
    "collapsed": true
   },
   "outputs": [],
   "source": [
    "trimmed = trimmed.reset_index()\n",
    "del trimmed['index']\n"
   ]
  },
  {
   "cell_type": "code",
   "execution_count": null,
   "metadata": {
    "collapsed": false
   },
   "outputs": [],
   "source": []
  },
  {
   "cell_type": "code",
   "execution_count": null,
   "metadata": {
    "collapsed": false
   },
   "outputs": [],
   "source": [
    "gm"
   ]
  },
  {
   "cell_type": "code",
   "execution_count": null,
   "metadata": {
    "collapsed": false
   },
   "outputs": [],
   "source": []
  },
  {
   "cell_type": "code",
   "execution_count": null,
   "metadata": {
    "collapsed": false
   },
   "outputs": [],
   "source": [
    "def printit(x):\n",
    "    print x\n",
    "    print type(x)\n",
    "    return"
   ]
  },
  {
   "cell_type": "code",
   "execution_count": null,
   "metadata": {
    "collapsed": false
   },
   "outputs": [],
   "source": [
    "list(trimmed.columns)"
   ]
  },
  {
   "cell_type": "code",
   "execution_count": null,
   "metadata": {
    "collapsed": true
   },
   "outputs": [],
   "source": []
  },
  {
   "cell_type": "code",
   "execution_count": null,
   "metadata": {
    "collapsed": true
   },
   "outputs": [],
   "source": []
  },
  {
   "cell_type": "code",
   "execution_count": null,
   "metadata": {
    "collapsed": true
   },
   "outputs": [],
   "source": []
  }
 ],
 "metadata": {
  "anaconda-cloud": {},
  "kernelspec": {
   "display_name": "Python [default]",
   "language": "python",
   "name": "python2"
  },
  "language_info": {
   "codemirror_mode": {
    "name": "ipython",
    "version": 2
   },
   "file_extension": ".py",
   "mimetype": "text/x-python",
   "name": "python",
   "nbconvert_exporter": "python",
   "pygments_lexer": "ipython2",
   "version": "2.7.12"
  }
 },
 "nbformat": 4,
 "nbformat_minor": 1
}
