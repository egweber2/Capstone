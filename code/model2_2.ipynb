{
 "cells": [
  {
   "cell_type": "code",
   "execution_count": 1,
   "metadata": {
    "collapsed": true
   },
   "outputs": [],
   "source": [
    "import pandas as pd\n",
    "import numpy as np"
   ]
  },
  {
   "cell_type": "code",
   "execution_count": 14,
   "metadata": {
    "collapsed": true
   },
   "outputs": [],
   "source": [
    "restaurant_df = pd.read_csv('restaurant_df.csv',index_col=0)"
   ]
  },
  {
   "cell_type": "code",
   "execution_count": 16,
   "metadata": {
    "collapsed": true
   },
   "outputs": [],
   "source": [
    "restaurant_df_BYusr = restaurant_df.groupby('user_id',as_index=False).count()"
   ]
  },
  {
   "cell_type": "code",
   "execution_count": 34,
   "metadata": {
    "collapsed": false
   },
   "outputs": [
    {
     "name": "stdout",
     "output_type": "stream",
     "text": [
      "users only gave 1 review: 157698\n",
      "users only gave 2 reviews: 43262\n",
      "users only gave 3 reviews: 19883\n",
      "users only gave 4 reviews: 11046\n",
      "users only gave 5 reviews: 6783\n"
     ]
    }
   ],
   "source": [
    "print \"users only gave 1 review:\", len(restaurant_df_BYusr[restaurant_df_BYusr.business_id == 1])\n",
    "print \"users only gave 2 reviews:\", len(restaurant_df_BYusr[restaurant_df_BYusr.business_id == 2])\n",
    "print \"users only gave 3 reviews:\", len(restaurant_df_BYusr[restaurant_df_BYusr.business_id == 3])\n",
    "print \"users only gave 4 reviews:\", len(restaurant_df_BYusr[restaurant_df_BYusr.business_id == 4])\n",
    "print \"users only gave 5 reviews:\", len(restaurant_df_BYusr[restaurant_df_BYusr.business_id == 5])\n",
    "print \"\""
   ]
  },
  {
   "cell_type": "code",
   "execution_count": 35,
   "metadata": {
    "collapsed": false
   },
   "outputs": [
    {
     "data": {
      "text/plain": [
       "157698"
      ]
     },
     "execution_count": 35,
     "metadata": {},
     "output_type": "execute_result"
    }
   ],
   "source": [
    "len(restaurant_df_BYusr[restaurant_df_BYusr.business_id < 2])"
   ]
  },
  {
   "cell_type": "code",
   "execution_count": 26,
   "metadata": {
    "collapsed": true
   },
   "outputs": [],
   "source": [
    "usr_left = pd.DataFrame(restaurant_df_BYusr[restaurant_df_BYusr.business_id >= 2].iloc[:,0])"
   ]
  },
  {
   "cell_type": "code",
   "execution_count": 27,
   "metadata": {
    "collapsed": false
   },
   "outputs": [],
   "source": [
    "restaurant_df_trim_usr = pd.merge(restaurant_df, usr_left, on='user_id', how='inner')"
   ]
  },
  {
   "cell_type": "code",
   "execution_count": 28,
   "metadata": {
    "collapsed": false
   },
   "outputs": [
    {
     "data": {
      "text/plain": [
       "521842"
      ]
     },
     "execution_count": 28,
     "metadata": {},
     "output_type": "execute_result"
    }
   ],
   "source": [
    "len(restaurant_df_trim_usr)"
   ]
  },
  {
   "cell_type": "code",
   "execution_count": 29,
   "metadata": {
    "collapsed": false
   },
   "outputs": [
    {
     "data": {
      "text/plain": [
       "157698"
      ]
     },
     "execution_count": 29,
     "metadata": {},
     "output_type": "execute_result"
    }
   ],
   "source": [
    "len(restaurant_df)-len(restaurant_df_trim_usr)"
   ]
  },
  {
   "cell_type": "code",
   "execution_count": 21,
   "metadata": {
    "collapsed": false
   },
   "outputs": [
    {
     "data": {
      "text/html": [
       "<div>\n",
       "<table border=\"1\" class=\"dataframe\">\n",
       "  <thead>\n",
       "    <tr style=\"text-align: right;\">\n",
       "      <th></th>\n",
       "      <th>Unnamed: 0.1</th>\n",
       "      <th>business_id</th>\n",
       "      <th>cool_review</th>\n",
       "      <th>date</th>\n",
       "      <th>funny_review</th>\n",
       "      <th>review_id</th>\n",
       "      <th>stars_rev</th>\n",
       "      <th>text</th>\n",
       "      <th>type_review</th>\n",
       "      <th>useful_review</th>\n",
       "      <th>...</th>\n",
       "      <th>fans</th>\n",
       "      <th>friends</th>\n",
       "      <th>funny_usr</th>\n",
       "      <th>name_usr</th>\n",
       "      <th>review_count_usr</th>\n",
       "      <th>type</th>\n",
       "      <th>useful_usr</th>\n",
       "      <th>yelping_since</th>\n",
       "      <th>big_cat</th>\n",
       "      <th>rm</th>\n",
       "    </tr>\n",
       "  </thead>\n",
       "  <tbody>\n",
       "    <tr>\n",
       "      <th>0</th>\n",
       "      <td>9</td>\n",
       "      <td>CiYLq33nAyghFkUR15pP-Q</td>\n",
       "      <td>0</td>\n",
       "      <td>2015-08-04</td>\n",
       "      <td>0</td>\n",
       "      <td>vHiHxaxkyJj0zNKnDGh3Ng</td>\n",
       "      <td>5</td>\n",
       "      <td>These tacos are the most authentic I've ever t...</td>\n",
       "      <td>review</td>\n",
       "      <td>0.0</td>\n",
       "      <td>...</td>\n",
       "      <td>1</td>\n",
       "      <td>[u'eopGbF5w7k_BHZLs6r7ETQ', u'rml4nXVWcvFhobSX...</td>\n",
       "      <td>0.0</td>\n",
       "      <td>Alejandro</td>\n",
       "      <td>10.0</td>\n",
       "      <td>user</td>\n",
       "      <td>14.0</td>\n",
       "      <td>2011-03-21</td>\n",
       "      <td>['Restaurants']</td>\n",
       "      <td>0</td>\n",
       "    </tr>\n",
       "    <tr>\n",
       "      <th>1</th>\n",
       "      <td>593</td>\n",
       "      <td>ujHiaprwCQ5ewziu0Vi9rw</td>\n",
       "      <td>7</td>\n",
       "      <td>2006-10-07</td>\n",
       "      <td>2</td>\n",
       "      <td>ihW-h9vZlp754OJklsXz3w</td>\n",
       "      <td>5</td>\n",
       "      <td>All you can eat Snow Crab legs.\\n\\n'Nuff said.</td>\n",
       "      <td>review</td>\n",
       "      <td>5.0</td>\n",
       "      <td>...</td>\n",
       "      <td>1321</td>\n",
       "      <td>[u'GjzjfMaUJONRyJjNxCd54Q', u'-Al-HwEUxRW9WpBc...</td>\n",
       "      <td>9643.0</td>\n",
       "      <td>Stephy</td>\n",
       "      <td>2603.0</td>\n",
       "      <td>user</td>\n",
       "      <td>57551.0</td>\n",
       "      <td>2006-05-12</td>\n",
       "      <td>['Restaurants']</td>\n",
       "      <td>0</td>\n",
       "    </tr>\n",
       "    <tr>\n",
       "      <th>2</th>\n",
       "      <td>2483</td>\n",
       "      <td>-Ylpy3VyRWwubf9dysuwjQ</td>\n",
       "      <td>0</td>\n",
       "      <td>2010-05-01</td>\n",
       "      <td>0</td>\n",
       "      <td>vGU2gyIVGEFs2VeaIXbUaQ</td>\n",
       "      <td>4</td>\n",
       "      <td>Located deep inside the Forum shopping Arcade ...</td>\n",
       "      <td>review</td>\n",
       "      <td>0.0</td>\n",
       "      <td>...</td>\n",
       "      <td>0</td>\n",
       "      <td>[u'BUB_t_Rvzs1yPEzZipkWjw', u'sZ0Qxjn12H8jjHBP...</td>\n",
       "      <td>1.0</td>\n",
       "      <td>Marc</td>\n",
       "      <td>22.0</td>\n",
       "      <td>user</td>\n",
       "      <td>5.0</td>\n",
       "      <td>2009-05-04</td>\n",
       "      <td>['Food', 'Restaurants']</td>\n",
       "      <td>0</td>\n",
       "    </tr>\n",
       "    <tr>\n",
       "      <th>3</th>\n",
       "      <td>2677</td>\n",
       "      <td>41Kbugm-qmIQTt7unkALYQ</td>\n",
       "      <td>0</td>\n",
       "      <td>2010-08-16</td>\n",
       "      <td>0</td>\n",
       "      <td>fWdd7FDYd94AAzGltdM4DA</td>\n",
       "      <td>3</td>\n",
       "      <td>Went here this past weekend with another coupl...</td>\n",
       "      <td>review</td>\n",
       "      <td>0.0</td>\n",
       "      <td>...</td>\n",
       "      <td>0</td>\n",
       "      <td>[u'PMIw_BV96GGwSWnEdypa-A', u'cfO-DZEqpWZ2V35Q...</td>\n",
       "      <td>2.0</td>\n",
       "      <td>Scrappy</td>\n",
       "      <td>30.0</td>\n",
       "      <td>user</td>\n",
       "      <td>9.0</td>\n",
       "      <td>2009-12-24</td>\n",
       "      <td>['Restaurants', 'Nightlife']</td>\n",
       "      <td>0</td>\n",
       "    </tr>\n",
       "    <tr>\n",
       "      <th>4</th>\n",
       "      <td>3149</td>\n",
       "      <td>1DP5vHxJzCDbgawv0WC3yA</td>\n",
       "      <td>0</td>\n",
       "      <td>2016-06-26</td>\n",
       "      <td>0</td>\n",
       "      <td>1cEIrB12qh8EBHPxhonA6w</td>\n",
       "      <td>5</td>\n",
       "      <td>Great vegetarian options, ask for the vegetari...</td>\n",
       "      <td>review</td>\n",
       "      <td>0.0</td>\n",
       "      <td>...</td>\n",
       "      <td>2</td>\n",
       "      <td>[u'KSA1-A3Jj9CdWaUsx6eLKA', u'XORpp4JbjyVc8gJ1...</td>\n",
       "      <td>12.0</td>\n",
       "      <td>max</td>\n",
       "      <td>78.0</td>\n",
       "      <td>user</td>\n",
       "      <td>29.0</td>\n",
       "      <td>2007-06-09</td>\n",
       "      <td>['Arts &amp; Entertainment', 'Restaurants', 'Night...</td>\n",
       "      <td>0</td>\n",
       "    </tr>\n",
       "  </tbody>\n",
       "</table>\n",
       "<p>5 rows × 50 columns</p>\n",
       "</div>"
      ],
      "text/plain": [
       "   Unnamed: 0.1             business_id  cool_review        date  \\\n",
       "0             9  CiYLq33nAyghFkUR15pP-Q            0  2015-08-04   \n",
       "1           593  ujHiaprwCQ5ewziu0Vi9rw            7  2006-10-07   \n",
       "2          2483  -Ylpy3VyRWwubf9dysuwjQ            0  2010-05-01   \n",
       "3          2677  41Kbugm-qmIQTt7unkALYQ            0  2010-08-16   \n",
       "4          3149  1DP5vHxJzCDbgawv0WC3yA            0  2016-06-26   \n",
       "\n",
       "   funny_review               review_id  stars_rev  \\\n",
       "0             0  vHiHxaxkyJj0zNKnDGh3Ng          5   \n",
       "1             2  ihW-h9vZlp754OJklsXz3w          5   \n",
       "2             0  vGU2gyIVGEFs2VeaIXbUaQ          4   \n",
       "3             0  fWdd7FDYd94AAzGltdM4DA          3   \n",
       "4             0  1cEIrB12qh8EBHPxhonA6w          5   \n",
       "\n",
       "                                                text type_review  \\\n",
       "0  These tacos are the most authentic I've ever t...      review   \n",
       "1     All you can eat Snow Crab legs.\\n\\n'Nuff said.      review   \n",
       "2  Located deep inside the Forum shopping Arcade ...      review   \n",
       "3  Went here this past weekend with another coupl...      review   \n",
       "4  Great vegetarian options, ask for the vegetari...      review   \n",
       "\n",
       "   useful_review ...  fans                                            friends  \\\n",
       "0            0.0 ...     1  [u'eopGbF5w7k_BHZLs6r7ETQ', u'rml4nXVWcvFhobSX...   \n",
       "1            5.0 ...  1321  [u'GjzjfMaUJONRyJjNxCd54Q', u'-Al-HwEUxRW9WpBc...   \n",
       "2            0.0 ...     0  [u'BUB_t_Rvzs1yPEzZipkWjw', u'sZ0Qxjn12H8jjHBP...   \n",
       "3            0.0 ...     0  [u'PMIw_BV96GGwSWnEdypa-A', u'cfO-DZEqpWZ2V35Q...   \n",
       "4            0.0 ...     2  [u'KSA1-A3Jj9CdWaUsx6eLKA', u'XORpp4JbjyVc8gJ1...   \n",
       "\n",
       "  funny_usr   name_usr review_count_usr  type  useful_usr  yelping_since  \\\n",
       "0       0.0  Alejandro             10.0  user        14.0     2011-03-21   \n",
       "1    9643.0     Stephy           2603.0  user     57551.0     2006-05-12   \n",
       "2       1.0       Marc             22.0  user         5.0     2009-05-04   \n",
       "3       2.0    Scrappy             30.0  user         9.0     2009-12-24   \n",
       "4      12.0        max             78.0  user        29.0     2007-06-09   \n",
       "\n",
       "                                             big_cat rm  \n",
       "0                                    ['Restaurants']  0  \n",
       "1                                    ['Restaurants']  0  \n",
       "2                            ['Food', 'Restaurants']  0  \n",
       "3                       ['Restaurants', 'Nightlife']  0  \n",
       "4  ['Arts & Entertainment', 'Restaurants', 'Night...  0  \n",
       "\n",
       "[5 rows x 50 columns]"
      ]
     },
     "execution_count": 21,
     "metadata": {},
     "output_type": "execute_result"
    }
   ],
   "source": [
    "restaurant_df_trim_usr.head()"
   ]
  },
  {
   "cell_type": "code",
   "execution_count": 36,
   "metadata": {
    "collapsed": true
   },
   "outputs": [],
   "source": [
    "most_reviewed_biz = pd.DataFrame({'count' : restaurant_df_trim_usr.groupby([\"business_id\"]).size()})\\\n",
    "                                    .reset_index().sort_values(['count'],ascending = False)"
   ]
  },
  {
   "cell_type": "code",
   "execution_count": 46,
   "metadata": {
    "collapsed": false
   },
   "outputs": [],
   "source": [
    "most_reviewed_biz=most_reviewed_biz.reset_index(drop=True)"
   ]
  },
  {
   "cell_type": "code",
   "execution_count": 53,
   "metadata": {
    "collapsed": false
   },
   "outputs": [
    {
     "data": {
      "text/plain": [
       "43"
      ]
     },
     "execution_count": 53,
     "metadata": {},
     "output_type": "execute_result"
    }
   ],
   "source": [
    "#find index of 'JyxHvtj-syke7m9rbza7mA'\n",
    "most_reviewed_biz[most_reviewed_biz.business_id=='3GEEy7RP6e4bT4LAiWFMFQ'].index[0]"
   ]
  },
  {
   "cell_type": "code",
   "execution_count": 54,
   "metadata": {
    "collapsed": false
   },
   "outputs": [
    {
     "data": {
      "text/html": [
       "<div>\n",
       "<table border=\"1\" class=\"dataframe\">\n",
       "  <thead>\n",
       "    <tr style=\"text-align: right;\">\n",
       "      <th></th>\n",
       "      <th>business_id</th>\n",
       "      <th>count</th>\n",
       "    </tr>\n",
       "  </thead>\n",
       "  <tbody>\n",
       "    <tr>\n",
       "      <th>40</th>\n",
       "      <td>G-5kEa6E6PD5fkBRuA7k9Q</td>\n",
       "      <td>1229</td>\n",
       "    </tr>\n",
       "    <tr>\n",
       "      <th>41</th>\n",
       "      <td>hihud--QRriCYZw1zZvW4g</td>\n",
       "      <td>1228</td>\n",
       "    </tr>\n",
       "    <tr>\n",
       "      <th>42</th>\n",
       "      <td>ugLqbAvBdRDc-gS4hpslXw</td>\n",
       "      <td>1198</td>\n",
       "    </tr>\n",
       "    <tr>\n",
       "      <th>43</th>\n",
       "      <td>3GEEy7RP6e4bT4LAiWFMFQ</td>\n",
       "      <td>1150</td>\n",
       "    </tr>\n",
       "  </tbody>\n",
       "</table>\n",
       "</div>"
      ],
      "text/plain": [
       "               business_id  count\n",
       "40  G-5kEa6E6PD5fkBRuA7k9Q   1229\n",
       "41  hihud--QRriCYZw1zZvW4g   1228\n",
       "42  ugLqbAvBdRDc-gS4hpslXw   1198\n",
       "43  3GEEy7RP6e4bT4LAiWFMFQ   1150"
      ]
     },
     "execution_count": 54,
     "metadata": {},
     "output_type": "execute_result"
    }
   ],
   "source": [
    "#most_reviewed_biz_trim = \n",
    "most_reviewed_biz.iloc[40:44]"
   ]
  },
  {
   "cell_type": "code",
   "execution_count": 52,
   "metadata": {
    "collapsed": false
   },
   "outputs": [
    {
     "data": {
      "text/html": [
       "<div>\n",
       "<table border=\"1\" class=\"dataframe\">\n",
       "  <thead>\n",
       "    <tr style=\"text-align: right;\">\n",
       "      <th></th>\n",
       "      <th>business_id</th>\n",
       "      <th>count</th>\n",
       "    </tr>\n",
       "  </thead>\n",
       "  <tbody>\n",
       "    <tr>\n",
       "      <th>40</th>\n",
       "      <td>G-5kEa6E6PD5fkBRuA7k9Q</td>\n",
       "      <td>1229</td>\n",
       "    </tr>\n",
       "    <tr>\n",
       "      <th>41</th>\n",
       "      <td>hihud--QRriCYZw1zZvW4g</td>\n",
       "      <td>1228</td>\n",
       "    </tr>\n",
       "    <tr>\n",
       "      <th>42</th>\n",
       "      <td>ugLqbAvBdRDc-gS4hpslXw</td>\n",
       "      <td>1198</td>\n",
       "    </tr>\n",
       "    <tr>\n",
       "      <th>43</th>\n",
       "      <td>3GEEy7RP6e4bT4LAiWFMFQ</td>\n",
       "      <td>1150</td>\n",
       "    </tr>\n",
       "    <tr>\n",
       "      <th>44</th>\n",
       "      <td>igHYkXZMLAc9UdV5VnR_AA</td>\n",
       "      <td>1149</td>\n",
       "    </tr>\n",
       "  </tbody>\n",
       "</table>\n",
       "</div>"
      ],
      "text/plain": [
       "               business_id  count\n",
       "40  G-5kEa6E6PD5fkBRuA7k9Q   1229\n",
       "41  hihud--QRriCYZw1zZvW4g   1228\n",
       "42  ugLqbAvBdRDc-gS4hpslXw   1198\n",
       "43  3GEEy7RP6e4bT4LAiWFMFQ   1150\n",
       "44  igHYkXZMLAc9UdV5VnR_AA   1149"
      ]
     },
     "execution_count": 52,
     "metadata": {},
     "output_type": "execute_result"
    }
   ],
   "source": [
    "most_reviewed_biz_trim.head()"
   ]
  },
  {
   "cell_type": "markdown",
   "metadata": {},
   "source": [
    "#"
   ]
  },
  {
   "cell_type": "code",
   "execution_count": 55,
   "metadata": {
    "collapsed": true
   },
   "outputs": [],
   "source": [
    "pred_restaurant_v2 = pd.read_csv('/Users/apple/Desktop/capstone/model/pred_restaurant_pearsonr_v2.csv')"
   ]
  },
  {
   "cell_type": "code",
   "execution_count": 64,
   "metadata": {
    "collapsed": true
   },
   "outputs": [],
   "source": [
    "v2_unique = list(pred_restaurant_v2['biz1'].unique())"
   ]
  },
  {
   "cell_type": "code",
   "execution_count": 63,
   "metadata": {
    "collapsed": false
   },
   "outputs": [],
   "source": [
    "v2_inter = list(set(v2_unique).intersection(set(most_reviewed_biz.business_id)))"
   ]
  },
  {
   "cell_type": "code",
   "execution_count": 71,
   "metadata": {
    "collapsed": true
   },
   "outputs": [],
   "source": [
    "v2_funct = lambda x: (x in v2_inter) == False"
   ]
  },
  {
   "cell_type": "code",
   "execution_count": 72,
   "metadata": {
    "collapsed": true
   },
   "outputs": [],
   "source": [
    "test = most_reviewed_biz[map(v2_funct, most_reviewed_biz['business_id'])]"
   ]
  },
  {
   "cell_type": "code",
   "execution_count": 76,
   "metadata": {
    "collapsed": false
   },
   "outputs": [],
   "source": [
    "most_reviewed_biz_trim = test.reset_index(drop=True)"
   ]
  },
  {
   "cell_type": "code",
   "execution_count": 77,
   "metadata": {
    "collapsed": true
   },
   "outputs": [],
   "source": [
    "del test"
   ]
  },
  {
   "cell_type": "markdown",
   "metadata": {},
   "source": [
    "# Calculate correlation"
   ]
  },
  {
   "cell_type": "code",
   "execution_count": 78,
   "metadata": {
    "collapsed": true
   },
   "outputs": [],
   "source": [
    "# Let's create a function that collect the reviews of our common reviewers\n",
    "def get_biz_reviews(biz, common_reviewers):\n",
    "    mask = (restaurant_df_trim_usr.user_id.isin(common_reviewers)) & (restaurant_df_trim_usr.business_id==biz)\n",
    "    reviews = restaurant_df_trim_usr[mask].sort_values('user_id')\n",
    "    reviews = reviews[reviews.user_id.duplicated()==False]\n",
    "    return reviews"
   ]
  },
  {
   "cell_type": "code",
   "execution_count": 79,
   "metadata": {
    "collapsed": true
   },
   "outputs": [],
   "source": [
    "def common_reviewers(biz1,biz2):\n",
    "    biz_1_reviewers = restaurant_df_trim_usr[restaurant_df_trim_usr.business_id == biz1].user_id\n",
    "    biz_2_reviewers = restaurant_df_trim_usr[restaurant_df_trim_usr.business_id == biz2].user_id\n",
    "    common_reviewers = pd.Series(list(set(biz_1_reviewers).intersection(set(biz_2_reviewers))))"
   ]
  },
  {
   "cell_type": "code",
   "execution_count": 80,
   "metadata": {
    "collapsed": true
   },
   "outputs": [],
   "source": [
    "# Importing the scipy library to measure the pearson correlation coefficient\n",
    "from scipy.stats.stats import pearsonr\n",
    "def calculate_correlation(biz1, biz2):\n",
    "    # We start by finding the common reviewers\n",
    "    biz_1_reviewers = restaurant_df_trim_usr[restaurant_df_trim_usr.business_id == biz1].user_id\n",
    "    biz_2_reviewers = restaurant_df_trim_usr[restaurant_df_trim_usr.business_id == biz2].user_id\n",
    "    common_reviewers = pd.Series(list(set(biz_1_reviewers).intersection(set(biz_2_reviewers))))\n",
    "\n",
    "    # Then we look for the reviews given by common reviewers\n",
    "    biz_1_reviews = get_biz_reviews(biz1, common_reviewers)\n",
    "    biz_2_reviews = get_biz_reviews(biz2, common_reviewers)\n",
    "    \n",
    "    # Calculate the Pearson Correlation Score\n",
    "    return pearsonr(biz_1_reviews.stars_rev.apply(int), biz_2_reviews.stars_rev.apply(int))[0]"
   ]
  },
  {
   "cell_type": "code",
   "execution_count": 81,
   "metadata": {
    "collapsed": false
   },
   "outputs": [
    {
     "name": "stdout",
     "output_type": "stream",
     "text": [
      "Calculating the correlations for: igHYkXZMLAc9UdV5VnR_AA\n"
     ]
    },
    {
     "name": "stderr",
     "output_type": "stream",
     "text": [
      "/Users/apple/anaconda/envs/py27/lib/python2.7/site-packages/scipy/stats/stats.py:3029: RuntimeWarning: invalid value encountered in double_scalars\n",
      "  r = r_num / r_den\n",
      "/Users/apple/anaconda/envs/py27/lib/python2.7/site-packages/scipy/stats/stats.py:3024: RuntimeWarning: Mean of empty slice.\n",
      "  mx = x.mean()\n",
      "/Users/apple/anaconda/envs/py27/lib/python2.7/site-packages/numpy/core/_methods.py:80: RuntimeWarning: invalid value encountered in double_scalars\n",
      "  ret = ret.dtype.type(ret / rcount)\n",
      "/Users/apple/anaconda/envs/py27/lib/python2.7/site-packages/scipy/stats/stats.py:3025: RuntimeWarning: Mean of empty slice.\n",
      "  my = y.mean()\n"
     ]
    },
    {
     "name": "stdout",
     "output_type": "stream",
     "text": [
      "Calculating the correlations for: UNI1agsPX2k3eJSJVB91nw\n",
      "Calculating the correlations for: j5nPiTwWEFr-VsePew7Sjg\n",
      "Calculating the correlations for: _w5hBpkjHs5_Hv3pLeHtIw\n",
      "Calculating the correlations for: H8qpFitIesth86zqR4cwYg\n",
      "Calculating the correlations for: 3BCsAgo_1i4xMuTyLKMLRQ\n",
      "Calculating the correlations for: N0apJkxIem2E8irTBRKnHw\n",
      "Calculating the correlations for: VsewHMsfj1Mgsl2i_hio7w\n",
      "Calculating the correlations for: dn_ipqbm7_jUz5X3rDez_A\n",
      "Calculating the correlations for: zdE82PiD6wquvjYLyhOJNA\n",
      "Calculating the correlations for: --9e1ONYQuAa-CB_Rrw7Tw\n",
      "Calculating the correlations for: A5Rkh7UymKm0_Rxm9K2PJw\n"
     ]
    },
    {
     "ename": "KeyboardInterrupt",
     "evalue": "",
     "output_type": "error",
     "traceback": [
      "\u001b[0;31m---------------------------------------------------------------------------\u001b[0m",
      "\u001b[0;31mKeyboardInterrupt\u001b[0m                         Traceback (most recent call last)",
      "\u001b[0;32m<ipython-input-81-774543998bfc>\u001b[0m in \u001b[0;36m<module>\u001b[0;34m()\u001b[0m\n\u001b[1;32m     11\u001b[0m         \u001b[0;32mfor\u001b[0m \u001b[0mbiz2\u001b[0m \u001b[0;32min\u001b[0m \u001b[0mtop_biz\u001b[0m\u001b[0;34m[\u001b[0m\u001b[0mj\u001b[0m\u001b[0;34m+\u001b[0m\u001b[0;36m1\u001b[0m\u001b[0;34m:\u001b[0m \u001b[0;34m]\u001b[0m\u001b[0;34m:\u001b[0m\u001b[0;34m\u001b[0m\u001b[0m\n\u001b[1;32m     12\u001b[0m             \u001b[0;32mif\u001b[0m \u001b[0mbiz1\u001b[0m \u001b[0;34m!=\u001b[0m \u001b[0mbiz2\u001b[0m\u001b[0;34m:\u001b[0m\u001b[0;34m\u001b[0m\u001b[0m\n\u001b[0;32m---> 13\u001b[0;31m                 \u001b[0mwriter\u001b[0m\u001b[0;34m.\u001b[0m\u001b[0mwriterow\u001b[0m\u001b[0;34m(\u001b[0m\u001b[0;34m{\u001b[0m\u001b[0;34m'biz1'\u001b[0m\u001b[0;34m:\u001b[0m\u001b[0mbiz1\u001b[0m\u001b[0;34m,\u001b[0m\u001b[0;34m'biz2'\u001b[0m\u001b[0;34m:\u001b[0m\u001b[0mbiz2\u001b[0m\u001b[0;34m,\u001b[0m\u001b[0;34m'Correlation'\u001b[0m\u001b[0;34m:\u001b[0m\u001b[0mcalculate_correlation\u001b[0m\u001b[0;34m(\u001b[0m\u001b[0mbiz1\u001b[0m\u001b[0;34m,\u001b[0m \u001b[0mbiz2\u001b[0m\u001b[0;34m)\u001b[0m\u001b[0;34m}\u001b[0m\u001b[0;34m)\u001b[0m\u001b[0;34m\u001b[0m\u001b[0m\n\u001b[0m",
      "\u001b[0;32m<ipython-input-80-3f7a63af14b6>\u001b[0m in \u001b[0;36mcalculate_correlation\u001b[0;34m(biz1, biz2)\u001b[0m\n\u001b[1;32m      9\u001b[0m     \u001b[0;31m# Then we look for the reviews given by common reviewers\u001b[0m\u001b[0;34m\u001b[0m\u001b[0;34m\u001b[0m\u001b[0m\n\u001b[1;32m     10\u001b[0m     \u001b[0mbiz_1_reviews\u001b[0m \u001b[0;34m=\u001b[0m \u001b[0mget_biz_reviews\u001b[0m\u001b[0;34m(\u001b[0m\u001b[0mbiz1\u001b[0m\u001b[0;34m,\u001b[0m \u001b[0mcommon_reviewers\u001b[0m\u001b[0;34m)\u001b[0m\u001b[0;34m\u001b[0m\u001b[0m\n\u001b[0;32m---> 11\u001b[0;31m     \u001b[0mbiz_2_reviews\u001b[0m \u001b[0;34m=\u001b[0m \u001b[0mget_biz_reviews\u001b[0m\u001b[0;34m(\u001b[0m\u001b[0mbiz2\u001b[0m\u001b[0;34m,\u001b[0m \u001b[0mcommon_reviewers\u001b[0m\u001b[0;34m)\u001b[0m\u001b[0;34m\u001b[0m\u001b[0m\n\u001b[0m\u001b[1;32m     12\u001b[0m \u001b[0;34m\u001b[0m\u001b[0m\n\u001b[1;32m     13\u001b[0m     \u001b[0;31m# Calculate the Pearson Correlation Score\u001b[0m\u001b[0;34m\u001b[0m\u001b[0;34m\u001b[0m\u001b[0m\n",
      "\u001b[0;32m<ipython-input-78-3663b072522e>\u001b[0m in \u001b[0;36mget_biz_reviews\u001b[0;34m(biz, common_reviewers)\u001b[0m\n\u001b[1;32m      1\u001b[0m \u001b[0;31m# Let's create a function that collect the reviews of our common reviewers\u001b[0m\u001b[0;34m\u001b[0m\u001b[0;34m\u001b[0m\u001b[0m\n\u001b[1;32m      2\u001b[0m \u001b[0;32mdef\u001b[0m \u001b[0mget_biz_reviews\u001b[0m\u001b[0;34m(\u001b[0m\u001b[0mbiz\u001b[0m\u001b[0;34m,\u001b[0m \u001b[0mcommon_reviewers\u001b[0m\u001b[0;34m)\u001b[0m\u001b[0;34m:\u001b[0m\u001b[0;34m\u001b[0m\u001b[0m\n\u001b[0;32m----> 3\u001b[0;31m     \u001b[0mmask\u001b[0m \u001b[0;34m=\u001b[0m \u001b[0;34m(\u001b[0m\u001b[0mrestaurant_df_trim_usr\u001b[0m\u001b[0;34m.\u001b[0m\u001b[0muser_id\u001b[0m\u001b[0;34m.\u001b[0m\u001b[0misin\u001b[0m\u001b[0;34m(\u001b[0m\u001b[0mcommon_reviewers\u001b[0m\u001b[0;34m)\u001b[0m\u001b[0;34m)\u001b[0m \u001b[0;34m&\u001b[0m \u001b[0;34m(\u001b[0m\u001b[0mrestaurant_df_trim_usr\u001b[0m\u001b[0;34m.\u001b[0m\u001b[0mbusiness_id\u001b[0m\u001b[0;34m==\u001b[0m\u001b[0mbiz\u001b[0m\u001b[0;34m)\u001b[0m\u001b[0;34m\u001b[0m\u001b[0m\n\u001b[0m\u001b[1;32m      4\u001b[0m     \u001b[0mreviews\u001b[0m \u001b[0;34m=\u001b[0m \u001b[0mrestaurant_df_trim_usr\u001b[0m\u001b[0;34m[\u001b[0m\u001b[0mmask\u001b[0m\u001b[0;34m]\u001b[0m\u001b[0;34m.\u001b[0m\u001b[0msort_values\u001b[0m\u001b[0;34m(\u001b[0m\u001b[0;34m'user_id'\u001b[0m\u001b[0;34m)\u001b[0m\u001b[0;34m\u001b[0m\u001b[0m\n\u001b[1;32m      5\u001b[0m     \u001b[0mreviews\u001b[0m \u001b[0;34m=\u001b[0m \u001b[0mreviews\u001b[0m\u001b[0;34m[\u001b[0m\u001b[0mreviews\u001b[0m\u001b[0;34m.\u001b[0m\u001b[0muser_id\u001b[0m\u001b[0;34m.\u001b[0m\u001b[0mduplicated\u001b[0m\u001b[0;34m(\u001b[0m\u001b[0;34m)\u001b[0m\u001b[0;34m==\u001b[0m\u001b[0mFalse\u001b[0m\u001b[0;34m]\u001b[0m\u001b[0;34m\u001b[0m\u001b[0m\n",
      "\u001b[0;32m/Users/apple/anaconda/envs/py27/lib/python2.7/site-packages/pandas/core/ops.pyc\u001b[0m in \u001b[0;36mwrapper\u001b[0;34m(self, other, axis)\u001b[0m\n\u001b[1;32m    853\u001b[0m \u001b[0;34m\u001b[0m\u001b[0m\n\u001b[1;32m    854\u001b[0m             \u001b[0;32mwith\u001b[0m \u001b[0mnp\u001b[0m\u001b[0;34m.\u001b[0m\u001b[0merrstate\u001b[0m\u001b[0;34m(\u001b[0m\u001b[0mall\u001b[0m\u001b[0;34m=\u001b[0m\u001b[0;34m'ignore'\u001b[0m\u001b[0;34m)\u001b[0m\u001b[0;34m:\u001b[0m\u001b[0;34m\u001b[0m\u001b[0m\n\u001b[0;32m--> 855\u001b[0;31m                 \u001b[0mres\u001b[0m \u001b[0;34m=\u001b[0m \u001b[0mna_op\u001b[0m\u001b[0;34m(\u001b[0m\u001b[0mvalues\u001b[0m\u001b[0;34m,\u001b[0m \u001b[0mother\u001b[0m\u001b[0;34m)\u001b[0m\u001b[0;34m\u001b[0m\u001b[0m\n\u001b[0m\u001b[1;32m    856\u001b[0m             \u001b[0;32mif\u001b[0m \u001b[0misscalar\u001b[0m\u001b[0;34m(\u001b[0m\u001b[0mres\u001b[0m\u001b[0;34m)\u001b[0m\u001b[0;34m:\u001b[0m\u001b[0;34m\u001b[0m\u001b[0m\n\u001b[1;32m    857\u001b[0m                 raise TypeError('Could not compare %s type with Series' %\n",
      "\u001b[0;32m/Users/apple/anaconda/envs/py27/lib/python2.7/site-packages/pandas/core/ops.pyc\u001b[0m in \u001b[0;36mna_op\u001b[0;34m(x, y)\u001b[0m\n\u001b[1;32m    757\u001b[0m \u001b[0;34m\u001b[0m\u001b[0m\n\u001b[1;32m    758\u001b[0m         \u001b[0;32mif\u001b[0m \u001b[0mis_object_dtype\u001b[0m\u001b[0;34m(\u001b[0m\u001b[0mx\u001b[0m\u001b[0;34m.\u001b[0m\u001b[0mdtype\u001b[0m\u001b[0;34m)\u001b[0m\u001b[0;34m:\u001b[0m\u001b[0;34m\u001b[0m\u001b[0m\n\u001b[0;32m--> 759\u001b[0;31m             \u001b[0mresult\u001b[0m \u001b[0;34m=\u001b[0m \u001b[0m_comp_method_OBJECT_ARRAY\u001b[0m\u001b[0;34m(\u001b[0m\u001b[0mop\u001b[0m\u001b[0;34m,\u001b[0m \u001b[0mx\u001b[0m\u001b[0;34m,\u001b[0m \u001b[0my\u001b[0m\u001b[0;34m)\u001b[0m\u001b[0;34m\u001b[0m\u001b[0m\n\u001b[0m\u001b[1;32m    760\u001b[0m         \u001b[0;32melse\u001b[0m\u001b[0;34m:\u001b[0m\u001b[0;34m\u001b[0m\u001b[0m\n\u001b[1;32m    761\u001b[0m \u001b[0;34m\u001b[0m\u001b[0m\n",
      "\u001b[0;32m/Users/apple/anaconda/envs/py27/lib/python2.7/site-packages/pandas/core/ops.pyc\u001b[0m in \u001b[0;36m_comp_method_OBJECT_ARRAY\u001b[0;34m(op, x, y)\u001b[0m\n\u001b[1;32m    737\u001b[0m         \u001b[0mresult\u001b[0m \u001b[0;34m=\u001b[0m \u001b[0mlib\u001b[0m\u001b[0;34m.\u001b[0m\u001b[0mvec_compare\u001b[0m\u001b[0;34m(\u001b[0m\u001b[0mx\u001b[0m\u001b[0;34m,\u001b[0m \u001b[0my\u001b[0m\u001b[0;34m,\u001b[0m \u001b[0mop\u001b[0m\u001b[0;34m)\u001b[0m\u001b[0;34m\u001b[0m\u001b[0m\n\u001b[1;32m    738\u001b[0m     \u001b[0;32melse\u001b[0m\u001b[0;34m:\u001b[0m\u001b[0;34m\u001b[0m\u001b[0m\n\u001b[0;32m--> 739\u001b[0;31m         \u001b[0mresult\u001b[0m \u001b[0;34m=\u001b[0m \u001b[0mlib\u001b[0m\u001b[0;34m.\u001b[0m\u001b[0mscalar_compare\u001b[0m\u001b[0;34m(\u001b[0m\u001b[0mx\u001b[0m\u001b[0;34m,\u001b[0m \u001b[0my\u001b[0m\u001b[0;34m,\u001b[0m \u001b[0mop\u001b[0m\u001b[0;34m)\u001b[0m\u001b[0;34m\u001b[0m\u001b[0m\n\u001b[0m\u001b[1;32m    740\u001b[0m     \u001b[0;32mreturn\u001b[0m \u001b[0mresult\u001b[0m\u001b[0;34m\u001b[0m\u001b[0m\n\u001b[1;32m    741\u001b[0m \u001b[0;34m\u001b[0m\u001b[0m\n",
      "\u001b[0;31mKeyboardInterrupt\u001b[0m: "
     ]
    }
   ],
   "source": [
    "import csv\n",
    "with open(\"/Users/apple/Desktop/capstone/model/pred_restaurant_pearsonr_v3.csv\", 'w') as csvfile:\n",
    "    fieldnames = ['biz1','biz2', 'Correlation']\n",
    "    writer = csv.DictWriter(csvfile, delimiter=\",\", fieldnames=fieldnames)\n",
    "    writer.writeheader()\n",
    "    top_biz = []\n",
    "    for i in most_reviewed_biz_trim.business_id:\n",
    "        top_biz.append(i)\n",
    "    for j, biz1 in enumerate(top_biz):\n",
    "        print \"Calculating the correlations for:\", biz1\n",
    "        for biz2 in top_biz[j+1: ]:\n",
    "            if biz1 != biz2:\n",
    "                writer.writerow({'biz1':biz1,'biz2':biz2,'Correlation':calculate_correlation(biz1, biz2)})"
   ]
  },
  {
   "cell_type": "code",
   "execution_count": null,
   "metadata": {
    "collapsed": true
   },
   "outputs": [],
   "source": []
  }
 ],
 "metadata": {
  "kernelspec": {
   "display_name": "Python 2",
   "language": "python",
   "name": "python2"
  },
  "language_info": {
   "codemirror_mode": {
    "name": "ipython",
    "version": 2
   },
   "file_extension": ".py",
   "mimetype": "text/x-python",
   "name": "python",
   "nbconvert_exporter": "python",
   "pygments_lexer": "ipython2",
   "version": "2.7.13"
  }
 },
 "nbformat": 4,
 "nbformat_minor": 2
}
