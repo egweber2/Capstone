{
 "cells": [
  {
   "cell_type": "code",
   "execution_count": null,
   "metadata": {
    "collapsed": true
   },
   "outputs": [],
   "source": [
    "#read in json files\n",
    "import pandas as pd\n",
    "import sys\n",
    "reload(sys)\n",
    "sys.setdefaultencoding(\"utf-8\")\n",
    "yelp_review = pd.read_json(\"/Users/apple/Desktop/capstone/yelp_dataset_challenge_round9/yelp_academic_dataset_review.json\",\n",
    "            lines=True, encoding = \"utf-8\")"
   ]
  },
  {
   "cell_type": "code",
   "execution_count": null,
   "metadata": {
    "collapsed": true
   },
   "outputs": [],
   "source": [
    "business = pd.read_json(\"/Users/apple/Desktop/capstone/yelp_dataset_challenge_round9/yelp_academic_dataset_business.json\",\n",
    "            lines=True, encoding = \"utf-8\")"
   ]
  },
  {
   "cell_type": "code",
   "execution_count": null,
   "metadata": {
    "collapsed": true
   },
   "outputs": [],
   "source": [
    "yelp_user = pd.read_json(\"/Users/apple/Desktop/capstone/yelp_dataset_challenge_round9/yelp_academic_dataset_user.json\",\n",
    "            lines=True, encoding = \"utf-8\")"
   ]
  },
  {
   "cell_type": "code",
   "execution_count": null,
   "metadata": {
    "collapsed": true
   },
   "outputs": [],
   "source": [
    "#merge business,user and review\n",
    "biz_rev_usr = pd.merge(pd.merge(yelp_review, business, on='business_id'), yelp_user, on='user_id')"
   ]
  },
  {
   "cell_type": "code",
   "execution_count": null,
   "metadata": {
    "collapsed": true
   },
   "outputs": [],
   "source": [
    "#subset all biz_rev_usr in Las Vegas\n",
    "LV_df = biz_rev_usr[(biz_rev_usr.city == 'Las Vegas') | (biz_rev_usr.city == 'N. Las Vegas') |\n",
    "                (biz_rev_usr.city == 'North Las Vegas') | (biz_rev_usr.city == 'las vegas') |\n",
    "                (biz_rev_usr.city == 'Las  Vegas') |(biz_rev_usr.city == 'N Las Vegas') |\n",
    "                (biz_rev_usr.city == 'South Las Vegas') | (biz_rev_usr.city == 'West Las Vegas') | \n",
    "                (biz_rev_usr.city == 'Las Vegas Strip') |(biz_rev_usr.city == 'Las Vegas NV') |\n",
    "                (biz_rev_usr.city == 'Lake Las Vegas') | (biz_rev_usr.city == 'LasVegas') |\n",
    "                (biz_rev_usr.city == 'Las vegas') |(biz_rev_usr.city == 'N W Las Vegas') | \n",
    "                (biz_rev_usr.city == 'Las Vegas East') |(biz_rev_usr.city == 'N W Las Vegas') | \n",
    "                (biz_rev_usr.city== 'N E Las Vegas')]"
   ]
  },
  {
   "cell_type": "code",
   "execution_count": null,
   "metadata": {
    "collapsed": true
   },
   "outputs": [],
   "source": [
    "#subset small sample from LV_df\n",
    "LV_sample = LV_df.iloc[0:100000,:]"
   ]
  }
 ],
 "metadata": {
  "kernelspec": {
   "display_name": "Python 2",
   "language": "python",
   "name": "python2"
  },
  "language_info": {
   "codemirror_mode": {
    "name": "ipython",
    "version": 2
   },
   "file_extension": ".py",
   "mimetype": "text/x-python",
   "name": "python",
   "nbconvert_exporter": "python",
   "pygments_lexer": "ipython2",
   "version": "2.7.13"
  }
 },
 "nbformat": 4,
 "nbformat_minor": 2
}
