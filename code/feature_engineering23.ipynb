{
 "cells": [
  {
   "cell_type": "code",
   "execution_count": 1,
   "metadata": {
    "collapsed": true
   },
   "outputs": [],
   "source": [
    "import pandas as pd\n",
    "import numpy as np"
   ]
  },
  {
   "cell_type": "code",
   "execution_count": 2,
   "metadata": {
    "collapsed": false
   },
   "outputs": [
    {
     "name": "stderr",
     "output_type": "stream",
     "text": [
      "/Users/ethanweber/anaconda/lib/python2.7/site-packages/IPython/core/interactiveshell.py:2717: DtypeWarning: Columns (0,4,6,17,18,32,34,36,38,40) have mixed types. Specify dtype option on import or set low_memory=False.\n",
      "  interactivity=interactivity, compiler=compiler, result=result)\n"
     ]
    }
   ],
   "source": [
    "lv_df = pd.read_csv('/Users/ethanweber/Downloads/LV_df.csv')"
   ]
  },
  {
   "cell_type": "code",
   "execution_count": 3,
   "metadata": {
    "collapsed": false
   },
   "outputs": [],
   "source": [
    "def fix_categories(x):\n",
    "    x = str(x)\n",
    "    x = x.replace('[', '').replace(']', '').replace(',', '').split(\"u'\")\n",
    "    x = map(lambda y: y.replace(\"'\", \"\"), x)\n",
    "    x = map(lambda y: y.replace('u\"', \"\").replace('\"', \"\").strip(), x)\n",
    "    if filter(None, x) != None: \n",
    "        return filter(None, x)\n",
    "    else:\n",
    "        return x\n",
    "\n",
    "lv_df['categories'] = map(fix_categories, lv_df['categories'])"
   ]
  },
  {
   "cell_type": "code",
   "execution_count": 4,
   "metadata": {
    "collapsed": false
   },
   "outputs": [],
   "source": [
    "def get_big_cat(z):\n",
    "    catlist = ['Active Life', 'Arts & Entertainment', 'Automotive', 'Beauty & Spas', 'Education', 'Event Planning & Services', 'Financial Services', 'Food', 'Health & Medical', 'Home Services', 'Hotels & Travel', 'Local Flavor', 'Local Services',  'Nightlife', 'Pets', 'Professional Services', 'Public Services & Government', 'Real Estate', 'Religious Organizations', 'Restaurants', 'Shopping']\n",
    "    return filter(lambda x: x in catlist, z)\n",
    "lv_df['big_cat'] = map(get_big_cat, lv_df['categories'])"
   ]
  },
  {
   "cell_type": "code",
   "execution_count": 5,
   "metadata": {
    "collapsed": false
   },
   "outputs": [],
   "source": [
    "def get_little_cat(z):\n",
    "    catlist = ['Active Life', 'Arts & Entertainment', 'Automotive', 'Beauty & Spas', 'Education', 'Event Planning & Services', 'Financial Services', 'Food', 'Health & Medical', 'Home Services', 'Hotels & Travel', 'Local Flavor', 'Local Services',  'Nightlife', 'Pets', 'Professional Services', 'Public Services & Government', 'Real Estate', 'Religious Organizations', 'Restaurants', 'Shopping']\n",
    "    return filter(lambda x: (x in catlist) == False, z)\n",
    "\n",
    "lv_df['categories'] = map(get_little_cat, lv_df['categories'])"
   ]
  },
  {
   "cell_type": "code",
   "execution_count": null,
   "metadata": {
    "collapsed": false
   },
   "outputs": [],
   "source": [
    "def get_excluder(z):\n",
    "    rmlist = ['Automotive', 'Education', 'Financial Services', 'Mass Media', 'Home Services', 'Local Services', 'Pets', 'Professional Services', 'Public Services & Government', 'Real Estate', 'Religious Organizations']\n",
    "    for i in rmlist:\n",
    "        if i in z:\n",
    "            return 1\n",
    "    return 0\n",
    "\n",
    "#lv_df['rm'] = map(get_excluder, lv_df['big_cat'])"
   ]
  },
  {
   "cell_type": "code",
   "execution_count": null,
   "metadata": {
    "collapsed": false
   },
   "outputs": [],
   "source": [
    "lv_df = lv_df[lv_df['rm'] == 0]\n"
   ]
  },
  {
   "cell_type": "code",
   "execution_count": null,
   "metadata": {
    "collapsed": false,
    "scrolled": true
   },
   "outputs": [],
   "source": [
    "lv_df.categories[0]"
   ]
  },
  {
   "cell_type": "code",
   "execution_count": null,
   "metadata": {
    "collapsed": false
   },
   "outputs": [],
   "source": []
  },
  {
   "cell_type": "code",
   "execution_count": null,
   "metadata": {
    "collapsed": true
   },
   "outputs": [],
   "source": [
    "def nested(x):\n",
    "    for i in x:\n",
    "        if i == None or i =='':\n",
    "            pass\n",
    "        elif i[-len(' True,'):] == ' True,':\n",
    "            print i[:-len(': True,')]\n",
    "        elif i[-len(' False,'):] == ' False,':\n",
    "            pass"
   ]
  },
  {
   "cell_type": "code",
   "execution_count": null,
   "metadata": {
    "collapsed": true
   },
   "outputs": [],
   "source": []
  },
  {
   "cell_type": "code",
   "execution_count": null,
   "metadata": {
    "collapsed": false
   },
   "outputs": [],
   "source": [
    "lv_df2[]"
   ]
  },
  {
   "cell_type": "code",
   "execution_count": null,
   "metadata": {
    "collapsed": false
   },
   "outputs": [],
   "source": [
    "lv_df2 = lv_df\n",
    "#del lv_df2['index']\n",
    "del lv_df2['Unnamed: 0']"
   ]
  },
  {
   "cell_type": "code",
   "execution_count": null,
   "metadata": {
    "collapsed": false
   },
   "outputs": [],
   "source": [
    "lv_df2.text2"
   ]
  },
  {
   "cell_type": "code",
   "execution_count": null,
   "metadata": {
    "collapsed": false
   },
   "outputs": [],
   "source": []
  },
  {
   "cell_type": "code",
   "execution_count": null,
   "metadata": {
    "collapsed": false
   },
   "outputs": [],
   "source": [
    "import re\n",
    "from sklearn.feature_extraction.text import CountVectorizer\n",
    "from sklearn.metrics.pairwise import euclidean_distances\n",
    "\n",
    "import nltk\n",
    "from nltk.tag import pos_tag\n",
    "from nltk import word_tokenize\n",
    "from nltk.corpus import stopwords\n",
    "stop = stopwords.words('english')\n",
    "def cleaning_text(sentence):\n",
    "    sentence = str(sentence)\n",
    "    sentence=sentence.lower()\n",
    "    sentence=re.sub('[^\\w\\s]',' ', sentence) #removes punctuations\n",
    "    sentence=re.sub('_',' ', sentence) #removes punctuations\n",
    "    sentence=re.sub('\\d+',' ', sentence) #removes digits\n",
    "    cleaned=' '.join([w for w in sentence.split() if not w in stop]) # removes english stopwords\n",
    "    cleaned=' '.join([w for w , pos in pos_tag(cleaned.split()) if (pos == 'NN' or pos=='JJ' or pos=='JJR' or pos=='JJS' )])\n",
    "    \n",
    "#selecting only nouns and adjectives\n",
    "    cleaned=' '.join([w for w in cleaned.split() if not len(w)<=2 ]) #removes single lettered words and digits\n",
    "    cleaned=cleaned.strip()\n",
    "    return cleaned\n",
    "\n",
    "#lv_df['text'] = lv_df['text'].apply(lambda x: cleaning_text(x))"
   ]
  },
  {
   "cell_type": "code",
   "execution_count": null,
   "metadata": {
    "collapsed": false
   },
   "outputs": [],
   "source": [
    "import re\n",
    "from sklearn.feature_extraction.text import CountVectorizer\n",
    "from sklearn.metrics.pairwise import euclidean_distances\n",
    "import gensim\n",
    "import nltk\n",
    "from nltk.tag import pos_tag\n",
    "from nltk import word_tokenize\n",
    "from nltk.corpus import stopwords\n",
    "stop = stopwords.words('english')\n",
    "\n",
    "lmtizer=nltk.stem.WordNetLemmatizer()\n",
    "stemmer = nltk.stem.PorterStemmer() # Create our stemmer \n",
    "stem_lem = lambda x: lmtizer.lemmatize(stemmer.stem(x))"
   ]
  },
  {
   "cell_type": "code",
   "execution_count": null,
   "metadata": {
    "collapsed": false
   },
   "outputs": [],
   "source": []
  },
  {
   "cell_type": "code",
   "execution_count": null,
   "metadata": {
    "collapsed": false
   },
   "outputs": [],
   "source": [
    "def split_stem_lem(x):\n",
    "    try:\n",
    "        x = map(lambda y: stem_lem(y), cleaning_text(x).split())\n",
    "        return x\n",
    "    except:\n",
    "        print 'Fuck'\n",
    "        return None\n",
    "    \n"
   ]
  },
  {
   "cell_type": "code",
   "execution_count": null,
   "metadata": {
    "collapsed": false
   },
   "outputs": [],
   "source": [
    "def fix_big_cat(x):\n",
    "    return x.replace('[', '').replace(']', '').split(',')\n"
   ]
  },
  {
   "cell_type": "code",
   "execution_count": null,
   "metadata": {
    "collapsed": false
   },
   "outputs": [],
   "source": [
    "import pandas as pd\n",
    "lv_df = pd.read_csv('lv_df_final.csv', sep='|', encoding='utf-8')"
   ]
  },
  {
   "cell_type": "code",
   "execution_count": null,
   "metadata": {
    "collapsed": false
   },
   "outputs": [],
   "source": []
  },
  {
   "cell_type": "code",
   "execution_count": null,
   "metadata": {
    "collapsed": false,
    "scrolled": true
   },
   "outputs": [],
   "source": [
    "def fix_attributes(x):\n",
    "    x = str(x)\n",
    "    x = sum(map(lambda x: x.split('u\"'), x.replace('[', '').replace(']', '').split(\"u'\")), [])\n",
    "    x = map(lambda y: y.replace(\"'\", \"\").replace('\"', \"\"), x)\n",
    "    x = map(lambda y: y.replace('u\"', \"\").replace('\"', \"\").strip(), x)\n",
    "    if filter(None, x) != None: \n",
    "        x = nested(x)\n",
    "        return filter(None, x)\n",
    "    else:\n",
    "        return x\n",
    "    \n",
    "    \n",
    "def ambiance_other(x):\n",
    "    x = x.remove('{').remove('}')\n",
    "    left, right = x.items()[0]\n",
    "    right = right[:-2]\n",
    "    right = right.split(',')\n",
    "    right = map(lambda x: x.split(':'), right)\n",
    "    right = map(lambda x: x[0].strip() if (x[1].strip() == 'True') else None, right)\n",
    "    #left = x[:-2]#.split(',')\n",
    "    #left = map(lambda x: x.split(':'), left)\n",
    "    return {left : filter(lambda x: x!= None, right)}\n",
    "\n",
    "\n",
    "\n",
    "    \n",
    "def truevals(x):\n",
    "    try:\n",
    "        z = x.split(':', 1)\n",
    "        #print z\n",
    "        if z[1] == ' True,':\n",
    "            return z[0]\n",
    "        elif z[1] == ' False,':\n",
    "            pass\n",
    "        elif z[1] == ' no,':\n",
    "            pass\n",
    "        elif z[1].replace('{', \"\").strip() == 'no':\n",
    "            pass\n",
    "        elif (z[1][-2:] == '},'):\n",
    "            z2 = map(lambda x: x.strip().split(':'), z[1].replace('{', '').replace('}', '').split(','))\n",
    "            return {z[0] : map(lambda x: x[0].strip().replace(',', ''), filter(lambda x: ' True' in x, z2))}\n",
    "            #z = {z[0]: filter(lambda x: x!= None, map(lambda x: x[0] if (x[1] == ' True') else None, z2))}\n",
    "        elif (z[1][-1:] == '}'):\n",
    "            z2 = map(lambda x: x.strip().split(':'), z[1].replace('{', '').replace('}', '').split(','))\n",
    "            return {z[0] : map(lambda x: x[0].strip().replace(',', ''), filter(lambda x: ' True' in x, z2))}\n",
    "            #z = {z[0]: filter(lambda x: x!= None, map(lambda x: x[0] if (x[1] == ' True') else None, z2))}\n",
    "        else:\n",
    "            return {z[0] : z[1].replace('{', \"\").strip().replace(',', '')}\n",
    "    except:\n",
    "        return None\n",
    "    \n",
    "    \n",
    "\n",
    "\n",
    "\n",
    "\n",
    "def nested(x):\n",
    "    out = []\n",
    "    for i in x:\n",
    "        j = truevals(i)\n",
    "        if j != None:\n",
    "            out.append(truevals(i))\n",
    "            \n",
    "        #elif i[-len(' True,'):] == ' True,':\n",
    "        #    i = i[:-len(': True,')]\n",
    "        #elif i[-len(' False,'):] == ' False,':\n",
    "        #    pass\n",
    "        #else:\n",
    "        #    i = i.split(':', 1)\n",
    "        #    print i\n",
    "        #if j != ['']:\n",
    "        #    try:\n",
    "        #        if j[1][0] == '{':\n",
    "        #            j = {j[0].strip() : j[1].strip()}\n",
    "        #            print j\n",
    "        #    except:\n",
    "        #        pass\n",
    "    return out\n",
    "\n",
    "\n",
    "        \n",
    "main_att = lambda x: list(filter(lambda x: x != None, fix_attributes(x)))\n"
   ]
  },
  {
   "cell_type": "code",
   "execution_count": null,
   "metadata": {
    "collapsed": false
   },
   "outputs": [],
   "source": [
    "lv_df['attributes'] = map(main_att, lv_df['attributes'])"
   ]
  },
  {
   "cell_type": "code",
   "execution_count": null,
   "metadata": {
    "collapsed": false
   },
   "outputs": [],
   "source": [
    "lv_df['attributes'][1]"
   ]
  },
  {
   "cell_type": "code",
   "execution_count": null,
   "metadata": {
    "collapsed": false
   },
   "outputs": [],
   "source": []
  },
  {
   "cell_type": "code",
   "execution_count": null,
   "metadata": {
    "collapsed": true
   },
   "outputs": [],
   "source": []
  },
  {
   "cell_type": "code",
   "execution_count": null,
   "metadata": {
    "collapsed": false
   },
   "outputs": [],
   "source": [
    "def fix_text2(x):\n",
    "    x = str(x)\n",
    "    x = x.replace('[', '').replace(']', '').replace(',', '').split(\" \")\n",
    "    x = map(lambda y: y.replace(\"'\", \"\"), x)\n",
    "    x = map(lambda y: y.replace('u\"', \"\").replace('\"', \"\").strip(), x)\n",
    "    if filter(None, x) != None: \n",
    "        return filter(None, x)\n",
    "    else:\n",
    "        return x"
   ]
  },
  {
   "cell_type": "code",
   "execution_count": null,
   "metadata": {
    "collapsed": false
   },
   "outputs": [],
   "source": [
    "import pandas as pd\n",
    "import numpy as np\n",
    "\n",
    "print 'going...'\n",
    "lv_df = pd.read_csv('lv_df_final.csv', sep='|', encoding='utf-8')\n",
    "print 'fixing text2...'\n",
    "lv_df['text2'] = map(fix_text2, lv_df['text2'])\n",
    "print 'fixed text2..'\n",
    "def fix_cat(x):\n",
    "    return str(x).replace('[', '').replace(']', '').split(',')\n",
    "print 'fixing big_cat'\n",
    "lv_df['big_cat'] = map(fix_cat, lv_df['big_cat'])\n",
    "print 'fixing categories'\n",
    "lv_df['categories'] = map(fix_cat, lv_df['categories'])"
   ]
  },
  {
   "cell_type": "code",
   "execution_count": null,
   "metadata": {
    "collapsed": false
   },
   "outputs": [],
   "source": [
    "del lv_df['text']"
   ]
  },
  {
   "cell_type": "code",
   "execution_count": null,
   "metadata": {
    "collapsed": false
   },
   "outputs": [],
   "source": [
    "lv_df.attributes"
   ]
  },
  {
   "cell_type": "code",
   "execution_count": null,
   "metadata": {
    "collapsed": false
   },
   "outputs": [],
   "source": []
  },
  {
   "cell_type": "markdown",
   "metadata": {
    "collapsed": false,
    "scrolled": true
   },
   "source": [
    "## flattened = [val for sublist in list(lv_df2['text2']) for val in sublist]"
   ]
  },
  {
   "cell_type": "code",
   "execution_count": null,
   "metadata": {
    "collapsed": false
   },
   "outputs": [],
   "source": [
    "tokens = flattened"
   ]
  },
  {
   "cell_type": "code",
   "execution_count": null,
   "metadata": {
    "collapsed": false
   },
   "outputs": [],
   "source": [
    "corpus = list(lv_df['text2'])"
   ]
  },
  {
   "cell_type": "code",
   "execution_count": null,
   "metadata": {
    "collapsed": false
   },
   "outputs": [],
   "source": [
    "clipped_corpus = gensim.utils.ClippedCorpus(corpus, max_docs=None) \n",
    "id2word = gensim.corpora.Dictionary.load_from_text('wiki_en_wordids.txt')\n",
    "lsi = gensim.models.lsimodel.LsiModel(corpus=clipped_corpus, id2word=id2word, num_topics=20)"
   ]
  },
  {
   "cell_type": "code",
   "execution_count": null,
   "metadata": {
    "collapsed": false
   },
   "outputs": [],
   "source": [
    "print clipped_corpus"
   ]
  },
  {
   "cell_type": "code",
   "execution_count": null,
   "metadata": {
    "collapsed": false
   },
   "outputs": [],
   "source": [
    "def recover_cat_list(x):\n",
    "    x = str(x).replace('[', '').replace(']', '').split(',')\n",
    "    x = map(lambda y: y.replace(\"'\", \"\"), x)\n",
    "    x = map(lambda y: y.replace('u\"', \"\").replace('\"', \"\").strip(), x)\n",
    "    if filter(None, x) != None: \n",
    "        return filter(None, x)\n",
    "    else:\n",
    "        return x"
   ]
  },
  {
   "cell_type": "code",
   "execution_count": null,
   "metadata": {
    "collapsed": true
   },
   "outputs": [],
   "source": [
    "lv_df['categories'] = map(recover_cat_list, lv_df['categories'])"
   ]
  },
  {
   "cell_type": "code",
   "execution_count": null,
   "metadata": {
    "collapsed": false
   },
   "outputs": [],
   "source": [
    "lv_df['big_cat'] = map(recover_cat_list, lv_df['big_cat'])"
   ]
  },
  {
   "cell_type": "code",
   "execution_count": null,
   "metadata": {
    "collapsed": false
   },
   "outputs": [],
   "source": [
    "import logging\n",
    "import os\n",
    "import sys\n",
    "import re\n",
    "import tarfile\n",
    "import itertools\n",
    "\n",
    "\n",
    "import nltk\n",
    "from nltk.collocations import TrigramCollocationFinder\n",
    "from nltk.metrics import BigramAssocMeasures, TrigramAssocMeasures\n",
    "\n",
    "\n",
    "import gensim\n",
    "from gensim.parsing.preprocessing import STOPWORDS\n",
    "\n",
    "def flatten(x):\n",
    "    return sum(list(x), [])\n",
    "\n",
    "def tokenize(text):\n",
    "    return [token for token in gensim.utils.simple_preprocess(text) if token not in STOPWORDS]"
   ]
  },
  {
   "cell_type": "code",
   "execution_count": null,
   "metadata": {
    "collapsed": false
   },
   "outputs": [],
   "source": [
    "col_list = list(lv_df2['text2'])\n",
    "#word_list = sum(, [])"
   ]
  },
  {
   "cell_type": "code",
   "execution_count": null,
   "metadata": {
    "collapsed": false
   },
   "outputs": [],
   "source": [
    "vector = next(iter(tokens))"
   ]
  },
  {
   "cell_type": "code",
   "execution_count": 6,
   "metadata": {
    "collapsed": false
   },
   "outputs": [],
   "source": [
    "restaurant_df = lv_df[map(lambda x: 'Restaurants' in x, lv_df['big_cat'])]"
   ]
  },
  {
   "cell_type": "code",
   "execution_count": 7,
   "metadata": {
    "collapsed": false
   },
   "outputs": [],
   "source": [
    "restaurant_df = restaurant_df[restaurant_df.is_open == 1.0]"
   ]
  },
  {
   "cell_type": "code",
   "execution_count": null,
   "metadata": {
    "collapsed": false
   },
   "outputs": [],
   "source": []
  },
  {
   "cell_type": "code",
   "execution_count": 8,
   "metadata": {
    "collapsed": false
   },
   "outputs": [],
   "source": [
    "rest_df = restaurant_df.drop_duplicates('business_id')"
   ]
  },
  {
   "cell_type": "code",
   "execution_count": 12,
   "metadata": {
    "collapsed": false
   },
   "outputs": [],
   "source": [
    "del rest_df['Unnamed: 0']"
   ]
  },
  {
   "cell_type": "code",
   "execution_count": null,
   "metadata": {
    "collapsed": false
   },
   "outputs": [],
   "source": []
  },
  {
   "cell_type": "code",
   "execution_count": 13,
   "metadata": {
    "collapsed": true
   },
   "outputs": [],
   "source": [
    "master_list = sum(list(rest_df.categories), [])"
   ]
  },
  {
   "cell_type": "code",
   "execution_count": 14,
   "metadata": {
    "collapsed": true
   },
   "outputs": [],
   "source": [
    "d = {}"
   ]
  },
  {
   "cell_type": "code",
   "execution_count": 15,
   "metadata": {
    "collapsed": false
   },
   "outputs": [],
   "source": [
    "for i in list(set(master_list)):\n",
    "    d[i] = master_list.count(i)"
   ]
  },
  {
   "cell_type": "code",
   "execution_count": 16,
   "metadata": {
    "collapsed": true
   },
   "outputs": [],
   "source": [
    "bc_list = sum(list(rest_df.big_cat), [])"
   ]
  },
  {
   "cell_type": "code",
   "execution_count": 17,
   "metadata": {
    "collapsed": true
   },
   "outputs": [],
   "source": [
    "for i in list(set(bc_list)):\n",
    "    if i == 'Restaurants':\n",
    "        pass\n",
    "    else:\n",
    "        d[i] = bc_list.count(i)"
   ]
  },
  {
   "cell_type": "code",
   "execution_count": 19,
   "metadata": {
    "collapsed": false
   },
   "outputs": [],
   "source": [
    "z = 0\n",
    "cat_list = []\n",
    "for i in d:\n",
    "    if d[i] >= 12:\n",
    "        cat_list.append(i)\n"
   ]
  },
  {
   "cell_type": "code",
   "execution_count": 20,
   "metadata": {
    "collapsed": false
   },
   "outputs": [
    {
     "data": {
      "text/plain": [
       "['Buffets',\n",
       " 'Creperies',\n",
       " 'Juice Bars & Smoothies',\n",
       " 'Grocery',\n",
       " 'Delis',\n",
       " 'Halal',\n",
       " 'Cantonese',\n",
       " 'Noodles',\n",
       " 'Chicken Wings',\n",
       " 'Food Stands',\n",
       " 'Lounges',\n",
       " 'Cajun/Creole',\n",
       " 'Greek',\n",
       " 'Chinese',\n",
       " 'Food Trucks',\n",
       " 'Middle Eastern',\n",
       " 'Diners',\n",
       " 'Sports Bars',\n",
       " 'Vegetarian',\n",
       " 'Chicken Shop',\n",
       " 'Taiwanese',\n",
       " 'Vietnamese',\n",
       " 'Pizza',\n",
       " 'Poke',\n",
       " 'Food Court',\n",
       " 'Music Venues',\n",
       " 'Seafood',\n",
       " 'Japanese',\n",
       " 'Hot Dogs',\n",
       " 'Salvadoran',\n",
       " 'Sandwiches',\n",
       " 'Dim Sum',\n",
       " 'Nightlife',\n",
       " 'Cocktail Bars',\n",
       " 'Dive Bars',\n",
       " 'Active Life',\n",
       " 'Latin American',\n",
       " 'Coffee & Tea',\n",
       " 'Cheesesteaks',\n",
       " 'Tapas Bars',\n",
       " 'Szechuan',\n",
       " 'Burgers',\n",
       " 'Indian',\n",
       " 'Bubble Tea',\n",
       " 'Wine & Spirits',\n",
       " 'Barbeque',\n",
       " 'Party & Event Planning',\n",
       " 'Food',\n",
       " 'Venues & Event Spaces',\n",
       " 'Ethnic Food',\n",
       " 'Comfort Food',\n",
       " 'Soul Food',\n",
       " 'Gluten-Free',\n",
       " 'Arts & Entertainment',\n",
       " 'Sushi Bars',\n",
       " 'French',\n",
       " 'Food Delivery Services',\n",
       " 'Italian',\n",
       " 'Mediterranean',\n",
       " 'Tex-Mex',\n",
       " 'Dance Clubs',\n",
       " 'American (New)',\n",
       " 'Caterers',\n",
       " 'Breakfast & Brunch',\n",
       " 'Shopping',\n",
       " 'Hawaiian',\n",
       " 'Thai',\n",
       " 'Beer Bar',\n",
       " 'Asian Fusion',\n",
       " 'Southern',\n",
       " 'Ramen',\n",
       " 'Casinos',\n",
       " 'Wine Bars',\n",
       " 'Hotels',\n",
       " 'Bagels',\n",
       " 'Salad',\n",
       " 'Local Flavor',\n",
       " 'Hotels & Travel',\n",
       " 'Soup',\n",
       " 'American (Traditional)',\n",
       " 'Street Vendors',\n",
       " 'Tapas/Small Plates',\n",
       " 'Karaoke',\n",
       " 'Filipino',\n",
       " 'Steakhouses',\n",
       " 'Desserts',\n",
       " 'Event Planning & Services',\n",
       " 'Beer',\n",
       " 'Cafes',\n",
       " 'Ice Cream & Frozen Yogurt',\n",
       " 'Bars',\n",
       " 'Korean',\n",
       " 'Vegan',\n",
       " 'Pubs',\n",
       " 'Gastropubs',\n",
       " 'Bakeries',\n",
       " 'Breweries',\n",
       " 'Fast Food',\n",
       " 'Mexican',\n",
       " 'Specialty Food',\n",
       " 'Spanish']"
      ]
     },
     "execution_count": 20,
     "metadata": {},
     "output_type": "execute_result"
    }
   ],
   "source": [
    "cat_list"
   ]
  },
  {
   "cell_type": "code",
   "execution_count": 24,
   "metadata": {
    "collapsed": false
   },
   "outputs": [],
   "source": [
    "cat_df = pd.DataFrame(rest_df.iloc[:,[0, 12, 47]])\n"
   ]
  },
  {
   "cell_type": "code",
   "execution_count": 28,
   "metadata": {
    "collapsed": false
   },
   "outputs": [
    {
     "data": {
      "text/html": [
       "<div>\n",
       "<table border=\"1\" class=\"dataframe\">\n",
       "  <thead>\n",
       "    <tr style=\"text-align: right;\">\n",
       "      <th></th>\n",
       "      <th>index</th>\n",
       "      <th>business_id</th>\n",
       "      <th>categories</th>\n",
       "      <th>big_cat</th>\n",
       "    </tr>\n",
       "  </thead>\n",
       "  <tbody>\n",
       "    <tr>\n",
       "      <th>0</th>\n",
       "      <td>0</td>\n",
       "      <td>CiYLq33nAyghFkUR15pP-Q</td>\n",
       "      <td>[Mexican]</td>\n",
       "      <td>[Restaurants]</td>\n",
       "    </tr>\n",
       "    <tr>\n",
       "      <th>1</th>\n",
       "      <td>1</td>\n",
       "      <td>P7pxQFqr7yBKMMI2J51udw</td>\n",
       "      <td>[American (New), Burgers, Bars, American (Trad...</td>\n",
       "      <td>[Restaurants, Nightlife]</td>\n",
       "    </tr>\n",
       "    <tr>\n",
       "      <th>2</th>\n",
       "      <td>2</td>\n",
       "      <td>g8OnV26ywJlZpezdBnOWUQ</td>\n",
       "      <td>[Breakfast &amp; Brunch, American (New)]</td>\n",
       "      <td>[Restaurants]</td>\n",
       "    </tr>\n",
       "    <tr>\n",
       "      <th>3</th>\n",
       "      <td>4</td>\n",
       "      <td>gTlDDzDEHyDQ6iwjNhpI6A</td>\n",
       "      <td>[Indian]</td>\n",
       "      <td>[Restaurants]</td>\n",
       "    </tr>\n",
       "    <tr>\n",
       "      <th>4</th>\n",
       "      <td>5</td>\n",
       "      <td>-WLrZPzjKfrftLWaCi1QZQ</td>\n",
       "      <td>[Breakfast &amp; Brunch, Diners]</td>\n",
       "      <td>[Restaurants]</td>\n",
       "    </tr>\n",
       "    <tr>\n",
       "      <th>5</th>\n",
       "      <td>6</td>\n",
       "      <td>3LWsVfsSmb_Nzbi2YQ-NIA</td>\n",
       "      <td>[Halal, Vegetarian, Indian, Buffets, Food Deli...</td>\n",
       "      <td>[Restaurants, Food]</td>\n",
       "    </tr>\n",
       "    <tr>\n",
       "      <th>6</th>\n",
       "      <td>7</td>\n",
       "      <td>AnXovUgUHJap3QaDRnjL1w</td>\n",
       "      <td>[Diners, American (New), Breakfast &amp; Brunch]</td>\n",
       "      <td>[Restaurants]</td>\n",
       "    </tr>\n",
       "    <tr>\n",
       "      <th>7</th>\n",
       "      <td>11</td>\n",
       "      <td>d_L-rfS1vT3JMzgCUGtiow</td>\n",
       "      <td>[Tapas/Small Plates, Breakfast &amp; Brunch, Mexican]</td>\n",
       "      <td>[Restaurants]</td>\n",
       "    </tr>\n",
       "    <tr>\n",
       "      <th>8</th>\n",
       "      <td>12</td>\n",
       "      <td>LYWbyu1EQM2o5hwHG5_Ldg</td>\n",
       "      <td>[Sushi Bars, Seafood]</td>\n",
       "      <td>[Restaurants]</td>\n",
       "    </tr>\n",
       "    <tr>\n",
       "      <th>9</th>\n",
       "      <td>16</td>\n",
       "      <td>ujHiaprwCQ5ewziu0Vi9rw</td>\n",
       "      <td>[American (New), Buffets]</td>\n",
       "      <td>[Restaurants]</td>\n",
       "    </tr>\n",
       "    <tr>\n",
       "      <th>10</th>\n",
       "      <td>26</td>\n",
       "      <td>cYwJA2A6I12KNkm2rtXd5g</td>\n",
       "      <td>[Burgers]</td>\n",
       "      <td>[Restaurants]</td>\n",
       "    </tr>\n",
       "    <tr>\n",
       "      <th>11</th>\n",
       "      <td>27</td>\n",
       "      <td>K7lWdNUhCbcnEvI0NhGewg</td>\n",
       "      <td>[Breakfast &amp; Brunch, Buffets]</td>\n",
       "      <td>[Restaurants]</td>\n",
       "    </tr>\n",
       "    <tr>\n",
       "      <th>12</th>\n",
       "      <td>28</td>\n",
       "      <td>z45xS0Kc6GpiITwrpkRVdQ</td>\n",
       "      <td>[Italian, Steakhouses]</td>\n",
       "      <td>[Restaurants]</td>\n",
       "    </tr>\n",
       "    <tr>\n",
       "      <th>13</th>\n",
       "      <td>35</td>\n",
       "      <td>YRyYbOSwvHkZsZOLv98oQg</td>\n",
       "      <td>[Greek, Seafood]</td>\n",
       "      <td>[Restaurants]</td>\n",
       "    </tr>\n",
       "    <tr>\n",
       "      <th>14</th>\n",
       "      <td>39</td>\n",
       "      <td>N7yuiiu8jhQ-Fl9Npflreg</td>\n",
       "      <td>[Thai]</td>\n",
       "      <td>[Restaurants]</td>\n",
       "    </tr>\n",
       "    <tr>\n",
       "      <th>15</th>\n",
       "      <td>42</td>\n",
       "      <td>_w5hBpkjHs5_Hv3pLeHtIw</td>\n",
       "      <td>[Tapas Bars, Spanish]</td>\n",
       "      <td>[Restaurants]</td>\n",
       "    </tr>\n",
       "    <tr>\n",
       "      <th>16</th>\n",
       "      <td>44</td>\n",
       "      <td>vAh6WNioOEw7G9tGhd_JQw</td>\n",
       "      <td>[Chinese]</td>\n",
       "      <td>[Restaurants]</td>\n",
       "    </tr>\n",
       "    <tr>\n",
       "      <th>17</th>\n",
       "      <td>45</td>\n",
       "      <td>O7ot_LMlCfLpOP9tBqeNfw</td>\n",
       "      <td>[Asian Fusion, Japanese, Sushi Bars]</td>\n",
       "      <td>[Restaurants]</td>\n",
       "    </tr>\n",
       "    <tr>\n",
       "      <th>18</th>\n",
       "      <td>47</td>\n",
       "      <td>iA8Ve2sZKN5Vz3mYKrtCaQ</td>\n",
       "      <td>[Thai, Vegetarian, Vegan]</td>\n",
       "      <td>[Restaurants]</td>\n",
       "    </tr>\n",
       "    <tr>\n",
       "      <th>19</th>\n",
       "      <td>48</td>\n",
       "      <td>8yiLVWzJyyTEhYE0fVNvlA</td>\n",
       "      <td>[Italian]</td>\n",
       "      <td>[Restaurants]</td>\n",
       "    </tr>\n",
       "    <tr>\n",
       "      <th>20</th>\n",
       "      <td>49</td>\n",
       "      <td>GI-CAiZ_Gg3h21PwrANB4Q</td>\n",
       "      <td>[Seafood, American (Traditional), Steakhouses]</td>\n",
       "      <td>[Restaurants]</td>\n",
       "    </tr>\n",
       "    <tr>\n",
       "      <th>21</th>\n",
       "      <td>50</td>\n",
       "      <td>7sPNbCx7vGAaH7SbNPZ6oA</td>\n",
       "      <td>[Beer, Wine &amp; Spirits, Burgers, Asian Fusion, ...</td>\n",
       "      <td>[Restaurants, Nightlife, Food]</td>\n",
       "    </tr>\n",
       "    <tr>\n",
       "      <th>22</th>\n",
       "      <td>52</td>\n",
       "      <td>_8VkSb_Mryb6bHQxSWB7Pg</td>\n",
       "      <td>[Japanese, Hot Pot, Fondue, Sushi Bars]</td>\n",
       "      <td>[Restaurants]</td>\n",
       "    </tr>\n",
       "    <tr>\n",
       "      <th>23</th>\n",
       "      <td>54</td>\n",
       "      <td>UNI1agsPX2k3eJSJVB91nw</td>\n",
       "      <td>[Cajun/Creole, Seafood, American (Traditional)]</td>\n",
       "      <td>[Restaurants]</td>\n",
       "    </tr>\n",
       "    <tr>\n",
       "      <th>24</th>\n",
       "      <td>55</td>\n",
       "      <td>GJ_bXUPv672YwNg4TneJog</td>\n",
       "      <td>[Asian Fusion, Mexican, Chinese]</td>\n",
       "      <td>[Restaurants]</td>\n",
       "    </tr>\n",
       "    <tr>\n",
       "      <th>25</th>\n",
       "      <td>56</td>\n",
       "      <td>_kdpjoGrIzA64E6aXHA66w</td>\n",
       "      <td>[Tapas Bars, Spanish]</td>\n",
       "      <td>[Restaurants]</td>\n",
       "    </tr>\n",
       "    <tr>\n",
       "      <th>26</th>\n",
       "      <td>57</td>\n",
       "      <td>BIbjBxoiJLS8CnNsSP64TQ</td>\n",
       "      <td>[Mexican]</td>\n",
       "      <td>[Restaurants]</td>\n",
       "    </tr>\n",
       "    <tr>\n",
       "      <th>27</th>\n",
       "      <td>58</td>\n",
       "      <td>7vHvQCjPq5pWj7Rio1A--w</td>\n",
       "      <td>[Japanese, Sushi Bars]</td>\n",
       "      <td>[Restaurants]</td>\n",
       "    </tr>\n",
       "    <tr>\n",
       "      <th>28</th>\n",
       "      <td>59</td>\n",
       "      <td>aQ222ydz_GSRZV66xNt4kQ</td>\n",
       "      <td>[Japanese, Sushi Bars]</td>\n",
       "      <td>[Restaurants]</td>\n",
       "    </tr>\n",
       "    <tr>\n",
       "      <th>29</th>\n",
       "      <td>60</td>\n",
       "      <td>UMqfeCItzQ2glr4d9apGlA</td>\n",
       "      <td>[Coffee &amp; Tea, Vegan, Tea Rooms]</td>\n",
       "      <td>[Food, Restaurants]</td>\n",
       "    </tr>\n",
       "    <tr>\n",
       "      <th>...</th>\n",
       "      <td>...</td>\n",
       "      <td>...</td>\n",
       "      <td>...</td>\n",
       "      <td>...</td>\n",
       "    </tr>\n",
       "    <tr>\n",
       "      <th>4063</th>\n",
       "      <td>687834</td>\n",
       "      <td>bD9f8IT_-7d_Y0n2R24kUg</td>\n",
       "      <td>[Steakhouses]</td>\n",
       "      <td>[Restaurants]</td>\n",
       "    </tr>\n",
       "    <tr>\n",
       "      <th>4064</th>\n",
       "      <td>688984</td>\n",
       "      <td>xxaqaD9IVsqxiNF8FoHdYA</td>\n",
       "      <td>[Sandwiches, Delis]</td>\n",
       "      <td>[Restaurants]</td>\n",
       "    </tr>\n",
       "    <tr>\n",
       "      <th>4065</th>\n",
       "      <td>692668</td>\n",
       "      <td>ta8x5JgBJnKaDWfYvpEYnw</td>\n",
       "      <td>[Chinese, Fast Food]</td>\n",
       "      <td>[Restaurants]</td>\n",
       "    </tr>\n",
       "    <tr>\n",
       "      <th>4066</th>\n",
       "      <td>697096</td>\n",
       "      <td>tm4MJbmvpT1uKEYHJBYr4Q</td>\n",
       "      <td>[Music Venues, Ethiopian, Hookah Bars, Bars]</td>\n",
       "      <td>[Arts &amp; Entertainment, Restaurants, Nightlife]</td>\n",
       "    </tr>\n",
       "    <tr>\n",
       "      <th>4067</th>\n",
       "      <td>703037</td>\n",
       "      <td>VjvZik_uBJ-UyHdT2PdPPg</td>\n",
       "      <td>[Latin American, Seafood]</td>\n",
       "      <td>[Restaurants]</td>\n",
       "    </tr>\n",
       "    <tr>\n",
       "      <th>4068</th>\n",
       "      <td>708512</td>\n",
       "      <td>6WE1SLCq_gUzJGQpglYM9A</td>\n",
       "      <td>[Pizza]</td>\n",
       "      <td>[Restaurants]</td>\n",
       "    </tr>\n",
       "    <tr>\n",
       "      <th>4069</th>\n",
       "      <td>716490</td>\n",
       "      <td>FFXdXv0J6weMdXoUErGbpQ</td>\n",
       "      <td>[Karaoke, Breakfast &amp; Brunch]</td>\n",
       "      <td>[Food, Nightlife, Restaurants]</td>\n",
       "    </tr>\n",
       "    <tr>\n",
       "      <th>4070</th>\n",
       "      <td>730567</td>\n",
       "      <td>L_rnF5qiCYSu9d1yIv5Cvw</td>\n",
       "      <td>[Specialty Food, Food Trucks, Soul Food, Ethni...</td>\n",
       "      <td>[Restaurants, Food]</td>\n",
       "    </tr>\n",
       "    <tr>\n",
       "      <th>4071</th>\n",
       "      <td>737024</td>\n",
       "      <td>d_N_4ZwgzQjI-J0iEfM5CQ</td>\n",
       "      <td>[Ethnic Food, Asian Fusion, Imported Food, Pan...</td>\n",
       "      <td>[Restaurants, Food]</td>\n",
       "    </tr>\n",
       "    <tr>\n",
       "      <th>4072</th>\n",
       "      <td>755543</td>\n",
       "      <td>CmzJMXgsD7deXT7QSaLi1Q</td>\n",
       "      <td>[Caterers, Barbeque]</td>\n",
       "      <td>[Event Planning &amp; Services, Restaurants]</td>\n",
       "    </tr>\n",
       "    <tr>\n",
       "      <th>4073</th>\n",
       "      <td>764491</td>\n",
       "      <td>mrjhrTycW0iLumjMZCfrzw</td>\n",
       "      <td>[Mexican]</td>\n",
       "      <td>[Restaurants]</td>\n",
       "    </tr>\n",
       "    <tr>\n",
       "      <th>4074</th>\n",
       "      <td>775369</td>\n",
       "      <td>HusY0jtxYpF9lGUJ92-xDQ</td>\n",
       "      <td>[Fast Food]</td>\n",
       "      <td>[Restaurants]</td>\n",
       "    </tr>\n",
       "    <tr>\n",
       "      <th>4075</th>\n",
       "      <td>780084</td>\n",
       "      <td>S0yP4IZmwVpeqxSe0R2Fvw</td>\n",
       "      <td>[Fast Food, Sandwiches, Pizza]</td>\n",
       "      <td>[Restaurants]</td>\n",
       "    </tr>\n",
       "    <tr>\n",
       "      <th>4076</th>\n",
       "      <td>788545</td>\n",
       "      <td>Fanu7vgveGy1LyLV8R9aMA</td>\n",
       "      <td>[Karaoke, Indian, Bars, Chinese, Szechuan, Bar...</td>\n",
       "      <td>[Nightlife, Restaurants]</td>\n",
       "    </tr>\n",
       "    <tr>\n",
       "      <th>4077</th>\n",
       "      <td>793742</td>\n",
       "      <td>Rqfxz80m6ysgmp8JMeiThA</td>\n",
       "      <td>[Pizza]</td>\n",
       "      <td>[Restaurants]</td>\n",
       "    </tr>\n",
       "    <tr>\n",
       "      <th>4078</th>\n",
       "      <td>842358</td>\n",
       "      <td>-Jo0rJr2mZxBVgaJqDs-TQ</td>\n",
       "      <td>[South African, African]</td>\n",
       "      <td>[Restaurants]</td>\n",
       "    </tr>\n",
       "    <tr>\n",
       "      <th>4079</th>\n",
       "      <td>851525</td>\n",
       "      <td>gMvDOj8MZ0ix55AbpbWs9Q</td>\n",
       "      <td>[Juice Bars &amp; Smoothies]</td>\n",
       "      <td>[Food, Restaurants]</td>\n",
       "    </tr>\n",
       "    <tr>\n",
       "      <th>4080</th>\n",
       "      <td>853939</td>\n",
       "      <td>Zua91nLoti4rx1VCkuIe6g</td>\n",
       "      <td>[Asian Fusion, Bars, Tapas Bars, Indian, Lounges]</td>\n",
       "      <td>[Restaurants, Nightlife]</td>\n",
       "    </tr>\n",
       "    <tr>\n",
       "      <th>4081</th>\n",
       "      <td>875008</td>\n",
       "      <td>DX690eOaqO7CK2Qr6__rMQ</td>\n",
       "      <td>[]</td>\n",
       "      <td>[Restaurants]</td>\n",
       "    </tr>\n",
       "    <tr>\n",
       "      <th>4082</th>\n",
       "      <td>887367</td>\n",
       "      <td>5k8kyvvReTf1RMq4jpayQg</td>\n",
       "      <td>[Ethiopian, Breakfast &amp; Brunch, African, Cafes]</td>\n",
       "      <td>[Restaurants]</td>\n",
       "    </tr>\n",
       "    <tr>\n",
       "      <th>4083</th>\n",
       "      <td>910314</td>\n",
       "      <td>jqDkZNJDo4oHYP8zHbSBBw</td>\n",
       "      <td>[Limos, Pizza, Transportation, Adult Entertain...</td>\n",
       "      <td>[Nightlife, Hotels &amp; Travel, Event Planning &amp; ...</td>\n",
       "    </tr>\n",
       "    <tr>\n",
       "      <th>4084</th>\n",
       "      <td>925678</td>\n",
       "      <td>W7RSjR3JoIMWxW1AeZH9ng</td>\n",
       "      <td>[Bars, American (New), Latin American, Sports ...</td>\n",
       "      <td>[Restaurants, Nightlife]</td>\n",
       "    </tr>\n",
       "    <tr>\n",
       "      <th>4085</th>\n",
       "      <td>942072</td>\n",
       "      <td>QSwpHbPjDhWYKP8qlmlkXg</td>\n",
       "      <td>[Party Bus Rentals, Venues &amp; Event Spaces, Tra...</td>\n",
       "      <td>[Hotels &amp; Travel, Event Planning &amp; Services, R...</td>\n",
       "    </tr>\n",
       "    <tr>\n",
       "      <th>4086</th>\n",
       "      <td>965419</td>\n",
       "      <td>P8wBSzIVgg-hw9XZ3LWphg</td>\n",
       "      <td>[Mexican]</td>\n",
       "      <td>[Restaurants]</td>\n",
       "    </tr>\n",
       "    <tr>\n",
       "      <th>4087</th>\n",
       "      <td>1094691</td>\n",
       "      <td>bPKT1uKJ20bd7BlqklMR4Q</td>\n",
       "      <td>[Bartenders, Gastropubs, Bars, Cocktail Bars]</td>\n",
       "      <td>[Nightlife, Event Planning &amp; Services, Restaur...</td>\n",
       "    </tr>\n",
       "    <tr>\n",
       "      <th>4088</th>\n",
       "      <td>1121781</td>\n",
       "      <td>gV9qWwd4eU8GffyuvQ4hwg</td>\n",
       "      <td>[Sushi Bars, Korean]</td>\n",
       "      <td>[Restaurants]</td>\n",
       "    </tr>\n",
       "    <tr>\n",
       "      <th>4089</th>\n",
       "      <td>1191436</td>\n",
       "      <td>SZaL8OqqiQVaSeaqFnc5Cw</td>\n",
       "      <td>[Salvadoran, Latin American, Fast Food, Mexican]</td>\n",
       "      <td>[Restaurants]</td>\n",
       "    </tr>\n",
       "    <tr>\n",
       "      <th>4090</th>\n",
       "      <td>1225907</td>\n",
       "      <td>C0yWT4lCXqZeKSdTUz89zg</td>\n",
       "      <td>[Japanese, Sushi Bars]</td>\n",
       "      <td>[Restaurants]</td>\n",
       "    </tr>\n",
       "    <tr>\n",
       "      <th>4091</th>\n",
       "      <td>1236932</td>\n",
       "      <td>BIwjYT9nqbkF7kbzne-tmQ</td>\n",
       "      <td>[American (New)]</td>\n",
       "      <td>[Food, Restaurants]</td>\n",
       "    </tr>\n",
       "    <tr>\n",
       "      <th>4092</th>\n",
       "      <td>1319078</td>\n",
       "      <td>eu8KmhsaeRr0WSbkZqQA9A</td>\n",
       "      <td>[Food Trucks, Soul Food, Caterers]</td>\n",
       "      <td>[Food, Event Planning &amp; Services, Restaurants]</td>\n",
       "    </tr>\n",
       "  </tbody>\n",
       "</table>\n",
       "<p>4093 rows × 4 columns</p>\n",
       "</div>"
      ],
      "text/plain": [
       "        index             business_id  \\\n",
       "0           0  CiYLq33nAyghFkUR15pP-Q   \n",
       "1           1  P7pxQFqr7yBKMMI2J51udw   \n",
       "2           2  g8OnV26ywJlZpezdBnOWUQ   \n",
       "3           4  gTlDDzDEHyDQ6iwjNhpI6A   \n",
       "4           5  -WLrZPzjKfrftLWaCi1QZQ   \n",
       "5           6  3LWsVfsSmb_Nzbi2YQ-NIA   \n",
       "6           7  AnXovUgUHJap3QaDRnjL1w   \n",
       "7          11  d_L-rfS1vT3JMzgCUGtiow   \n",
       "8          12  LYWbyu1EQM2o5hwHG5_Ldg   \n",
       "9          16  ujHiaprwCQ5ewziu0Vi9rw   \n",
       "10         26  cYwJA2A6I12KNkm2rtXd5g   \n",
       "11         27  K7lWdNUhCbcnEvI0NhGewg   \n",
       "12         28  z45xS0Kc6GpiITwrpkRVdQ   \n",
       "13         35  YRyYbOSwvHkZsZOLv98oQg   \n",
       "14         39  N7yuiiu8jhQ-Fl9Npflreg   \n",
       "15         42  _w5hBpkjHs5_Hv3pLeHtIw   \n",
       "16         44  vAh6WNioOEw7G9tGhd_JQw   \n",
       "17         45  O7ot_LMlCfLpOP9tBqeNfw   \n",
       "18         47  iA8Ve2sZKN5Vz3mYKrtCaQ   \n",
       "19         48  8yiLVWzJyyTEhYE0fVNvlA   \n",
       "20         49  GI-CAiZ_Gg3h21PwrANB4Q   \n",
       "21         50  7sPNbCx7vGAaH7SbNPZ6oA   \n",
       "22         52  _8VkSb_Mryb6bHQxSWB7Pg   \n",
       "23         54  UNI1agsPX2k3eJSJVB91nw   \n",
       "24         55  GJ_bXUPv672YwNg4TneJog   \n",
       "25         56  _kdpjoGrIzA64E6aXHA66w   \n",
       "26         57  BIbjBxoiJLS8CnNsSP64TQ   \n",
       "27         58  7vHvQCjPq5pWj7Rio1A--w   \n",
       "28         59  aQ222ydz_GSRZV66xNt4kQ   \n",
       "29         60  UMqfeCItzQ2glr4d9apGlA   \n",
       "...       ...                     ...   \n",
       "4063   687834  bD9f8IT_-7d_Y0n2R24kUg   \n",
       "4064   688984  xxaqaD9IVsqxiNF8FoHdYA   \n",
       "4065   692668  ta8x5JgBJnKaDWfYvpEYnw   \n",
       "4066   697096  tm4MJbmvpT1uKEYHJBYr4Q   \n",
       "4067   703037  VjvZik_uBJ-UyHdT2PdPPg   \n",
       "4068   708512  6WE1SLCq_gUzJGQpglYM9A   \n",
       "4069   716490  FFXdXv0J6weMdXoUErGbpQ   \n",
       "4070   730567  L_rnF5qiCYSu9d1yIv5Cvw   \n",
       "4071   737024  d_N_4ZwgzQjI-J0iEfM5CQ   \n",
       "4072   755543  CmzJMXgsD7deXT7QSaLi1Q   \n",
       "4073   764491  mrjhrTycW0iLumjMZCfrzw   \n",
       "4074   775369  HusY0jtxYpF9lGUJ92-xDQ   \n",
       "4075   780084  S0yP4IZmwVpeqxSe0R2Fvw   \n",
       "4076   788545  Fanu7vgveGy1LyLV8R9aMA   \n",
       "4077   793742  Rqfxz80m6ysgmp8JMeiThA   \n",
       "4078   842358  -Jo0rJr2mZxBVgaJqDs-TQ   \n",
       "4079   851525  gMvDOj8MZ0ix55AbpbWs9Q   \n",
       "4080   853939  Zua91nLoti4rx1VCkuIe6g   \n",
       "4081   875008  DX690eOaqO7CK2Qr6__rMQ   \n",
       "4082   887367  5k8kyvvReTf1RMq4jpayQg   \n",
       "4083   910314  jqDkZNJDo4oHYP8zHbSBBw   \n",
       "4084   925678  W7RSjR3JoIMWxW1AeZH9ng   \n",
       "4085   942072  QSwpHbPjDhWYKP8qlmlkXg   \n",
       "4086   965419  P8wBSzIVgg-hw9XZ3LWphg   \n",
       "4087  1094691  bPKT1uKJ20bd7BlqklMR4Q   \n",
       "4088  1121781  gV9qWwd4eU8GffyuvQ4hwg   \n",
       "4089  1191436  SZaL8OqqiQVaSeaqFnc5Cw   \n",
       "4090  1225907  C0yWT4lCXqZeKSdTUz89zg   \n",
       "4091  1236932  BIwjYT9nqbkF7kbzne-tmQ   \n",
       "4092  1319078  eu8KmhsaeRr0WSbkZqQA9A   \n",
       "\n",
       "                                             categories  \\\n",
       "0                                             [Mexican]   \n",
       "1     [American (New), Burgers, Bars, American (Trad...   \n",
       "2                  [Breakfast & Brunch, American (New)]   \n",
       "3                                              [Indian]   \n",
       "4                          [Breakfast & Brunch, Diners]   \n",
       "5     [Halal, Vegetarian, Indian, Buffets, Food Deli...   \n",
       "6          [Diners, American (New), Breakfast & Brunch]   \n",
       "7     [Tapas/Small Plates, Breakfast & Brunch, Mexican]   \n",
       "8                                 [Sushi Bars, Seafood]   \n",
       "9                             [American (New), Buffets]   \n",
       "10                                            [Burgers]   \n",
       "11                        [Breakfast & Brunch, Buffets]   \n",
       "12                               [Italian, Steakhouses]   \n",
       "13                                     [Greek, Seafood]   \n",
       "14                                               [Thai]   \n",
       "15                                [Tapas Bars, Spanish]   \n",
       "16                                            [Chinese]   \n",
       "17                 [Asian Fusion, Japanese, Sushi Bars]   \n",
       "18                            [Thai, Vegetarian, Vegan]   \n",
       "19                                            [Italian]   \n",
       "20       [Seafood, American (Traditional), Steakhouses]   \n",
       "21    [Beer, Wine & Spirits, Burgers, Asian Fusion, ...   \n",
       "22              [Japanese, Hot Pot, Fondue, Sushi Bars]   \n",
       "23      [Cajun/Creole, Seafood, American (Traditional)]   \n",
       "24                     [Asian Fusion, Mexican, Chinese]   \n",
       "25                                [Tapas Bars, Spanish]   \n",
       "26                                            [Mexican]   \n",
       "27                               [Japanese, Sushi Bars]   \n",
       "28                               [Japanese, Sushi Bars]   \n",
       "29                     [Coffee & Tea, Vegan, Tea Rooms]   \n",
       "...                                                 ...   \n",
       "4063                                      [Steakhouses]   \n",
       "4064                                [Sandwiches, Delis]   \n",
       "4065                               [Chinese, Fast Food]   \n",
       "4066       [Music Venues, Ethiopian, Hookah Bars, Bars]   \n",
       "4067                          [Latin American, Seafood]   \n",
       "4068                                            [Pizza]   \n",
       "4069                      [Karaoke, Breakfast & Brunch]   \n",
       "4070  [Specialty Food, Food Trucks, Soul Food, Ethni...   \n",
       "4071  [Ethnic Food, Asian Fusion, Imported Food, Pan...   \n",
       "4072                               [Caterers, Barbeque]   \n",
       "4073                                          [Mexican]   \n",
       "4074                                        [Fast Food]   \n",
       "4075                     [Fast Food, Sandwiches, Pizza]   \n",
       "4076  [Karaoke, Indian, Bars, Chinese, Szechuan, Bar...   \n",
       "4077                                            [Pizza]   \n",
       "4078                           [South African, African]   \n",
       "4079                           [Juice Bars & Smoothies]   \n",
       "4080  [Asian Fusion, Bars, Tapas Bars, Indian, Lounges]   \n",
       "4081                                                 []   \n",
       "4082    [Ethiopian, Breakfast & Brunch, African, Cafes]   \n",
       "4083  [Limos, Pizza, Transportation, Adult Entertain...   \n",
       "4084  [Bars, American (New), Latin American, Sports ...   \n",
       "4085  [Party Bus Rentals, Venues & Event Spaces, Tra...   \n",
       "4086                                          [Mexican]   \n",
       "4087      [Bartenders, Gastropubs, Bars, Cocktail Bars]   \n",
       "4088                               [Sushi Bars, Korean]   \n",
       "4089   [Salvadoran, Latin American, Fast Food, Mexican]   \n",
       "4090                             [Japanese, Sushi Bars]   \n",
       "4091                                   [American (New)]   \n",
       "4092                 [Food Trucks, Soul Food, Caterers]   \n",
       "\n",
       "                                                big_cat  \n",
       "0                                         [Restaurants]  \n",
       "1                              [Restaurants, Nightlife]  \n",
       "2                                         [Restaurants]  \n",
       "3                                         [Restaurants]  \n",
       "4                                         [Restaurants]  \n",
       "5                                   [Restaurants, Food]  \n",
       "6                                         [Restaurants]  \n",
       "7                                         [Restaurants]  \n",
       "8                                         [Restaurants]  \n",
       "9                                         [Restaurants]  \n",
       "10                                        [Restaurants]  \n",
       "11                                        [Restaurants]  \n",
       "12                                        [Restaurants]  \n",
       "13                                        [Restaurants]  \n",
       "14                                        [Restaurants]  \n",
       "15                                        [Restaurants]  \n",
       "16                                        [Restaurants]  \n",
       "17                                        [Restaurants]  \n",
       "18                                        [Restaurants]  \n",
       "19                                        [Restaurants]  \n",
       "20                                        [Restaurants]  \n",
       "21                       [Restaurants, Nightlife, Food]  \n",
       "22                                        [Restaurants]  \n",
       "23                                        [Restaurants]  \n",
       "24                                        [Restaurants]  \n",
       "25                                        [Restaurants]  \n",
       "26                                        [Restaurants]  \n",
       "27                                        [Restaurants]  \n",
       "28                                        [Restaurants]  \n",
       "29                                  [Food, Restaurants]  \n",
       "...                                                 ...  \n",
       "4063                                      [Restaurants]  \n",
       "4064                                      [Restaurants]  \n",
       "4065                                      [Restaurants]  \n",
       "4066     [Arts & Entertainment, Restaurants, Nightlife]  \n",
       "4067                                      [Restaurants]  \n",
       "4068                                      [Restaurants]  \n",
       "4069                     [Food, Nightlife, Restaurants]  \n",
       "4070                                [Restaurants, Food]  \n",
       "4071                                [Restaurants, Food]  \n",
       "4072           [Event Planning & Services, Restaurants]  \n",
       "4073                                      [Restaurants]  \n",
       "4074                                      [Restaurants]  \n",
       "4075                                      [Restaurants]  \n",
       "4076                           [Nightlife, Restaurants]  \n",
       "4077                                      [Restaurants]  \n",
       "4078                                      [Restaurants]  \n",
       "4079                                [Food, Restaurants]  \n",
       "4080                           [Restaurants, Nightlife]  \n",
       "4081                                      [Restaurants]  \n",
       "4082                                      [Restaurants]  \n",
       "4083  [Nightlife, Hotels & Travel, Event Planning & ...  \n",
       "4084                           [Restaurants, Nightlife]  \n",
       "4085  [Hotels & Travel, Event Planning & Services, R...  \n",
       "4086                                      [Restaurants]  \n",
       "4087  [Nightlife, Event Planning & Services, Restaur...  \n",
       "4088                                      [Restaurants]  \n",
       "4089                                      [Restaurants]  \n",
       "4090                                      [Restaurants]  \n",
       "4091                                [Food, Restaurants]  \n",
       "4092     [Food, Event Planning & Services, Restaurants]  \n",
       "\n",
       "[4093 rows x 4 columns]"
      ]
     },
     "execution_count": 28,
     "metadata": {},
     "output_type": "execute_result"
    }
   ],
   "source": [
    "cat_df = cat_df.reset_index()\n",
    "cat_df"
   ]
  },
  {
   "cell_type": "code",
   "execution_count": 30,
   "metadata": {
    "collapsed": false
   },
   "outputs": [
    {
     "data": {
      "text/plain": [
       "Index([u'business_id', u'categories', u'big_cat'], dtype='object')"
      ]
     },
     "execution_count": 30,
     "metadata": {},
     "output_type": "execute_result"
    }
   ],
   "source": [
    "del cat_df['index']\n",
    "cat_df.columns"
   ]
  },
  {
   "cell_type": "code",
   "execution_count": 32,
   "metadata": {
    "collapsed": false
   },
   "outputs": [
    {
     "name": "stdout",
     "output_type": "stream",
     "text": [
      "Buffets\n",
      "Creperies\n",
      "Juice Bars & Smoothies\n",
      "Grocery\n",
      "Delis\n",
      "Halal\n",
      "Cantonese\n",
      "Noodles\n",
      "Chicken Wings\n",
      "Food Stands\n",
      "Lounges\n",
      "Cajun/Creole\n",
      "Greek\n",
      "Chinese\n",
      "Food Trucks\n",
      "Middle Eastern\n",
      "Diners\n",
      "Sports Bars\n",
      "Vegetarian\n",
      "Chicken Shop\n",
      "Taiwanese\n",
      "Vietnamese\n",
      "Pizza\n",
      "Poke\n",
      "Food Court\n",
      "Music Venues\n",
      "Seafood\n",
      "Japanese\n",
      "Hot Dogs\n",
      "Salvadoran\n",
      "Sandwiches\n",
      "Dim Sum\n",
      "Nightlife\n",
      "Cocktail Bars\n",
      "Dive Bars\n",
      "Active Life\n",
      "Latin American\n",
      "Coffee & Tea\n",
      "Cheesesteaks\n",
      "Tapas Bars\n",
      "Szechuan\n",
      "Burgers\n",
      "Indian\n",
      "Bubble Tea\n",
      "Wine & Spirits\n",
      "Barbeque\n",
      "Party & Event Planning\n",
      "Food\n",
      "Venues & Event Spaces\n",
      "Ethnic Food\n",
      "Comfort Food\n",
      "Soul Food\n",
      "Gluten-Free\n",
      "Arts & Entertainment\n",
      "Sushi Bars\n",
      "French\n",
      "Food Delivery Services\n",
      "Italian\n",
      "Mediterranean\n",
      "Tex-Mex\n",
      "Dance Clubs\n",
      "American (New)\n",
      "Caterers\n",
      "Breakfast & Brunch\n",
      "Shopping\n",
      "Hawaiian\n",
      "Thai\n",
      "Beer Bar\n",
      "Asian Fusion\n",
      "Southern\n",
      "Ramen\n",
      "Casinos\n",
      "Wine Bars\n",
      "Hotels\n",
      "Bagels\n",
      "Salad\n",
      "Local Flavor\n",
      "Hotels & Travel\n",
      "Soup\n",
      "American (Traditional)\n",
      "Street Vendors\n",
      "Tapas/Small Plates\n",
      "Karaoke\n",
      "Filipino\n",
      "Steakhouses\n",
      "Desserts\n",
      "Event Planning & Services\n",
      "Beer\n",
      "Cafes\n",
      "Ice Cream & Frozen Yogurt\n",
      "Bars\n",
      "Korean\n",
      "Vegan\n",
      "Pubs\n",
      "Gastropubs\n",
      "Bakeries\n",
      "Breweries\n",
      "Fast Food\n",
      "Mexican\n",
      "Specialty Food\n",
      "Spanish\n"
     ]
    }
   ],
   "source": [
    "for i in cat_list:\n",
    "    print i\n",
    "    cat_df[i] = pd.Series([0]*len(cat_df))"
   ]
  },
  {
   "cell_type": "code",
   "execution_count": 33,
   "metadata": {
    "collapsed": false,
    "scrolled": true
   },
   "outputs": [
    {
     "name": "stdout",
     "output_type": "stream",
     "text": [
      "0\n"
     ]
    },
    {
     "name": "stderr",
     "output_type": "stream",
     "text": [
      "/Users/ethanweber/anaconda/lib/python2.7/site-packages/ipykernel/__main__.py:8: SettingWithCopyWarning: \n",
      "A value is trying to be set on a copy of a slice from a DataFrame\n",
      "\n",
      "See the caveats in the documentation: http://pandas.pydata.org/pandas-docs/stable/indexing.html#indexing-view-versus-copy\n"
     ]
    },
    {
     "name": "stdout",
     "output_type": "stream",
     "text": [
      "100\n",
      "200\n",
      "300\n",
      "400\n",
      "500\n",
      "600\n",
      "700\n",
      "800\n",
      "900\n",
      "1000\n",
      "1100\n",
      "1200\n",
      "1300\n",
      "1400\n",
      "1500\n",
      "1600\n",
      "1700\n",
      "1800\n",
      "1900\n",
      "2000\n",
      "2100\n",
      "2200\n",
      "2300\n",
      "2400\n",
      "2500\n",
      "2600\n",
      "2700\n",
      "2800\n",
      "2900\n",
      "3000\n",
      "3100\n",
      "3200\n",
      "3300\n",
      "3400\n",
      "3500\n",
      "3600\n",
      "3700\n",
      "3800\n",
      "3900\n",
      "4000\n"
     ]
    }
   ],
   "source": [
    "for i in range(len(cat_df)):\n",
    "    if (i % 100 == 0):\n",
    "        print i\n",
    "    cats = (cat_df.big_cat[i] + cat_df.categories[i])\n",
    "    inter = list(set(cats) & set(cat_list))\n",
    "    if inter != []:\n",
    "        for j in inter:\n",
    "            cat_df[j][i] = 1"
   ]
  },
  {
   "cell_type": "code",
   "execution_count": 50,
   "metadata": {
    "collapsed": false,
    "scrolled": true
   },
   "outputs": [
    {
     "data": {
      "text/plain": [
       "{'Correlation': 1.0,\n",
       " 'biz_1': '3LWsVfsSmb_Nzbi2YQ-NIA',\n",
       " 'biz_2': '-wDNRL4lm1UgeFLG9KcrjQ'}"
      ]
     },
     "execution_count": 50,
     "metadata": {},
     "output_type": "execute_result"
    }
   ],
   "source": [
    "from scipy.spatial.distance import cosine\n",
    "\n",
    "i = 5\n",
    "j = 720\n",
    "cat_df.iloc[1,0]\n",
    "({'biz_1': cat_df.iloc[i,0], 'biz_2': cat_df.iloc[j,0], 'Correlation': (cosine(cat_df.iloc[i,1:], cat_df.iloc[j,1:]))})"
   ]
  },
  {
   "cell_type": "code",
   "execution_count": 53,
   "metadata": {
    "collapsed": false
   },
   "outputs": [
    {
     "name": "stdout",
     "output_type": "stream",
     "text": [
      "3.0\n"
     ]
    }
   ],
   "source": [
    "from math import*\n",
    "\n",
    "def euclidean_distance(x,y):\n",
    "\n",
    "    return sqrt(sum(pow(a-b,2) for a, b in zip(x, y)))\n",
    "\n",
    "print euclidean_distance(cat_df.iloc[i,1:], cat_df.iloc[j,1:])"
   ]
  },
  {
   "cell_type": "code",
   "execution_count": 48,
   "metadata": {
    "collapsed": false
   },
   "outputs": [
    {
     "data": {
      "text/plain": [
       "(Buffets                      1\n",
       " Creperies                    0\n",
       " Juice Bars & Smoothies       0\n",
       " Grocery                      0\n",
       " Delis                        0\n",
       " Halal                        1\n",
       " Cantonese                    0\n",
       " Noodles                      0\n",
       " Chicken Wings                0\n",
       " Food Stands                  0\n",
       " Lounges                      0\n",
       " Cajun/Creole                 0\n",
       " Greek                        0\n",
       " Chinese                      0\n",
       " Food Trucks                  0\n",
       " Middle Eastern               0\n",
       " Diners                       0\n",
       " Sports Bars                  0\n",
       " Vegetarian                   1\n",
       " Chicken Shop                 0\n",
       " Taiwanese                    0\n",
       " Vietnamese                   0\n",
       " Pizza                        0\n",
       " Poke                         0\n",
       " Food Court                   0\n",
       " Music Venues                 0\n",
       " Seafood                      0\n",
       " Japanese                     0\n",
       " Hot Dogs                     0\n",
       " Salvadoran                   0\n",
       "                             ..\n",
       " Casinos                      0\n",
       " Wine Bars                    0\n",
       " Hotels                       0\n",
       " Bagels                       0\n",
       " Salad                        0\n",
       " Local Flavor                 0\n",
       " Hotels & Travel              0\n",
       " Soup                         0\n",
       " American (Traditional)       0\n",
       " Street Vendors               0\n",
       " Tapas/Small Plates           0\n",
       " Karaoke                      0\n",
       " Filipino                     0\n",
       " Steakhouses                  0\n",
       " Desserts                     0\n",
       " Event Planning & Services    0\n",
       " Beer                         0\n",
       " Cafes                        0\n",
       " Ice Cream & Frozen Yogurt    0\n",
       " Bars                         0\n",
       " Korean                       0\n",
       " Vegan                        0\n",
       " Pubs                         0\n",
       " Gastropubs                   0\n",
       " Bakeries                     0\n",
       " Breweries                    0\n",
       " Fast Food                    0\n",
       " Mexican                      0\n",
       " Specialty Food               0\n",
       " Spanish                      0\n",
       " Name: 5, dtype: object, Buffets                      0\n",
       " Creperies                    0\n",
       " Juice Bars & Smoothies       0\n",
       " Grocery                      0\n",
       " Delis                        0\n",
       " Halal                        0\n",
       " Cantonese                    0\n",
       " Noodles                      0\n",
       " Chicken Wings                0\n",
       " Food Stands                  0\n",
       " Lounges                      0\n",
       " Cajun/Creole                 0\n",
       " Greek                        0\n",
       " Chinese                      1\n",
       " Food Trucks                  0\n",
       " Middle Eastern               0\n",
       " Diners                       0\n",
       " Sports Bars                  0\n",
       " Vegetarian                   0\n",
       " Chicken Shop                 0\n",
       " Taiwanese                    0\n",
       " Vietnamese                   0\n",
       " Pizza                        0\n",
       " Poke                         0\n",
       " Food Court                   0\n",
       " Music Venues                 0\n",
       " Seafood                      0\n",
       " Japanese                     1\n",
       " Hot Dogs                     0\n",
       " Salvadoran                   0\n",
       "                             ..\n",
       " Casinos                      0\n",
       " Wine Bars                    0\n",
       " Hotels                       0\n",
       " Bagels                       0\n",
       " Salad                        0\n",
       " Local Flavor                 0\n",
       " Hotels & Travel              0\n",
       " Soup                         0\n",
       " American (Traditional)       0\n",
       " Street Vendors               0\n",
       " Tapas/Small Plates           0\n",
       " Karaoke                      0\n",
       " Filipino                     0\n",
       " Steakhouses                  0\n",
       " Desserts                     0\n",
       " Event Planning & Services    0\n",
       " Beer                         0\n",
       " Cafes                        0\n",
       " Ice Cream & Frozen Yogurt    0\n",
       " Bars                         0\n",
       " Korean                       0\n",
       " Vegan                        0\n",
       " Pubs                         0\n",
       " Gastropubs                   0\n",
       " Bakeries                     0\n",
       " Breweries                    0\n",
       " Fast Food                    0\n",
       " Mexican                      0\n",
       " Specialty Food               0\n",
       " Spanish                      0\n",
       " Name: 720, dtype: object)"
      ]
     },
     "execution_count": 48,
     "metadata": {},
     "output_type": "execute_result"
    }
   ],
   "source": [
    "cat_df.iloc[i,1:], cat_df.iloc[j,1:]"
   ]
  },
  {
   "cell_type": "code",
   "execution_count": 35,
   "metadata": {
    "collapsed": false
   },
   "outputs": [],
   "source": [
    "del cat_df['categories']\n",
    "del cat_df['big_cat']"
   ]
  },
  {
   "cell_type": "code",
   "execution_count": 37,
   "metadata": {
    "collapsed": false
   },
   "outputs": [],
   "source": [
    "cat_df.to_pickle('categories_df.pkl')"
   ]
  },
  {
   "cell_type": "code",
   "execution_count": 67,
   "metadata": {
    "collapsed": false
   },
   "outputs": [],
   "source": [
    "import csv\n",
    "with open('/Users/ethanweber/Desktop/categ_corr.csv', 'w') as csvfile:\n",
    "    fieldnames = ['biz_1','biz_2', 'Euclidean']\n",
    "    writer = csv.DictWriter(csvfile, delimiter=\"|\", fieldnames=fieldnames)\n",
    "    writer.writeheader()\n",
    "    top_biz = []\n",
    "    for i in range(4092):\n",
    "        for j in range((i+1), 4093):\n",
    "            writer.writerow({'biz_1': cat_df.iloc[i,0], 'biz_2': cat_df.iloc[j,0], 'Euclidean': euclidean_distance(cat_df.iloc[i,1:], cat_df.iloc[j,1:])})\n"
   ]
  },
  {
   "cell_type": "code",
   "execution_count": 56,
   "metadata": {
    "collapsed": true
   },
   "outputs": [],
   "source": [
    "def jaccard_similarity(x,y):\n",
    "\n",
    "    intersection_cardinality = len(set.intersection(*[set(x), set(y)]))\n",
    "    union_cardinality = len(set.union(*[set(x), set(y)]))\n",
    "    return intersection_cardinality/float(union_cardinality)\n"
   ]
  },
  {
   "cell_type": "code",
   "execution_count": 65,
   "metadata": {
    "collapsed": false
   },
   "outputs": [
    {
     "name": "stdout",
     "output_type": "stream",
     "text": [
      "{'biz_2': 'P7pxQFqr7yBKMMI2J51udw', 'biz_1': 'CiYLq33nAyghFkUR15pP-Q', 'Correlation': 2.449489742783178}\n",
      "{'biz_2': 'g8OnV26ywJlZpezdBnOWUQ', 'biz_1': 'CiYLq33nAyghFkUR15pP-Q', 'Correlation': 1.7320508075688772}\n",
      "{'biz_2': 'gTlDDzDEHyDQ6iwjNhpI6A', 'biz_1': 'CiYLq33nAyghFkUR15pP-Q', 'Correlation': 1.4142135623730951}\n",
      "{'biz_2': '-WLrZPzjKfrftLWaCi1QZQ', 'biz_1': 'CiYLq33nAyghFkUR15pP-Q', 'Correlation': 1.7320508075688772}\n",
      "{'biz_2': '3LWsVfsSmb_Nzbi2YQ-NIA', 'biz_1': 'CiYLq33nAyghFkUR15pP-Q', 'Correlation': 2.6457513110645907}\n",
      "{'biz_2': 'AnXovUgUHJap3QaDRnjL1w', 'biz_1': 'CiYLq33nAyghFkUR15pP-Q', 'Correlation': 2.0}\n",
      "{'biz_2': 'd_L-rfS1vT3JMzgCUGtiow', 'biz_1': 'CiYLq33nAyghFkUR15pP-Q', 'Correlation': 1.4142135623730951}\n",
      "{'biz_2': 'LYWbyu1EQM2o5hwHG5_Ldg', 'biz_1': 'CiYLq33nAyghFkUR15pP-Q', 'Correlation': 1.7320508075688772}\n",
      "{'biz_2': 'ujHiaprwCQ5ewziu0Vi9rw', 'biz_1': 'CiYLq33nAyghFkUR15pP-Q', 'Correlation': 1.7320508075688772}\n",
      "{'biz_2': 'cYwJA2A6I12KNkm2rtXd5g', 'biz_1': 'CiYLq33nAyghFkUR15pP-Q', 'Correlation': 1.4142135623730951}\n",
      "{'biz_2': 'K7lWdNUhCbcnEvI0NhGewg', 'biz_1': 'CiYLq33nAyghFkUR15pP-Q', 'Correlation': 1.7320508075688772}\n",
      "{'biz_2': 'z45xS0Kc6GpiITwrpkRVdQ', 'biz_1': 'CiYLq33nAyghFkUR15pP-Q', 'Correlation': 1.7320508075688772}\n",
      "{'biz_2': 'YRyYbOSwvHkZsZOLv98oQg', 'biz_1': 'CiYLq33nAyghFkUR15pP-Q', 'Correlation': 1.7320508075688772}\n",
      "{'biz_2': 'N7yuiiu8jhQ-Fl9Npflreg', 'biz_1': 'CiYLq33nAyghFkUR15pP-Q', 'Correlation': 1.4142135623730951}\n",
      "{'biz_2': '_w5hBpkjHs5_Hv3pLeHtIw', 'biz_1': 'CiYLq33nAyghFkUR15pP-Q', 'Correlation': 1.7320508075688772}\n",
      "{'biz_2': 'vAh6WNioOEw7G9tGhd_JQw', 'biz_1': 'CiYLq33nAyghFkUR15pP-Q', 'Correlation': 1.4142135623730951}\n",
      "{'biz_2': 'O7ot_LMlCfLpOP9tBqeNfw', 'biz_1': 'CiYLq33nAyghFkUR15pP-Q', 'Correlation': 2.0}\n",
      "{'biz_2': 'iA8Ve2sZKN5Vz3mYKrtCaQ', 'biz_1': 'CiYLq33nAyghFkUR15pP-Q', 'Correlation': 2.0}\n",
      "{'biz_2': '8yiLVWzJyyTEhYE0fVNvlA', 'biz_1': 'CiYLq33nAyghFkUR15pP-Q', 'Correlation': 1.4142135623730951}\n",
      "{'biz_2': 'g8OnV26ywJlZpezdBnOWUQ', 'biz_1': 'P7pxQFqr7yBKMMI2J51udw', 'Correlation': 2.23606797749979}\n",
      "{'biz_2': 'gTlDDzDEHyDQ6iwjNhpI6A', 'biz_1': 'P7pxQFqr7yBKMMI2J51udw', 'Correlation': 2.449489742783178}\n",
      "{'biz_2': '-WLrZPzjKfrftLWaCi1QZQ', 'biz_1': 'P7pxQFqr7yBKMMI2J51udw', 'Correlation': 2.6457513110645907}\n",
      "{'biz_2': '3LWsVfsSmb_Nzbi2YQ-NIA', 'biz_1': 'P7pxQFqr7yBKMMI2J51udw', 'Correlation': 3.3166247903554}\n",
      "{'biz_2': 'AnXovUgUHJap3QaDRnjL1w', 'biz_1': 'P7pxQFqr7yBKMMI2J51udw', 'Correlation': 2.449489742783178}\n",
      "{'biz_2': 'd_L-rfS1vT3JMzgCUGtiow', 'biz_1': 'P7pxQFqr7yBKMMI2J51udw', 'Correlation': 2.8284271247461903}\n",
      "{'biz_2': 'LYWbyu1EQM2o5hwHG5_Ldg', 'biz_1': 'P7pxQFqr7yBKMMI2J51udw', 'Correlation': 2.6457513110645907}\n",
      "{'biz_2': 'ujHiaprwCQ5ewziu0Vi9rw', 'biz_1': 'P7pxQFqr7yBKMMI2J51udw', 'Correlation': 2.23606797749979}\n",
      "{'biz_2': 'cYwJA2A6I12KNkm2rtXd5g', 'biz_1': 'P7pxQFqr7yBKMMI2J51udw', 'Correlation': 2.0}\n",
      "{'biz_2': 'K7lWdNUhCbcnEvI0NhGewg', 'biz_1': 'P7pxQFqr7yBKMMI2J51udw', 'Correlation': 2.6457513110645907}\n",
      "{'biz_2': 'z45xS0Kc6GpiITwrpkRVdQ', 'biz_1': 'P7pxQFqr7yBKMMI2J51udw', 'Correlation': 2.6457513110645907}\n",
      "{'biz_2': 'YRyYbOSwvHkZsZOLv98oQg', 'biz_1': 'P7pxQFqr7yBKMMI2J51udw', 'Correlation': 2.6457513110645907}\n",
      "{'biz_2': 'N7yuiiu8jhQ-Fl9Npflreg', 'biz_1': 'P7pxQFqr7yBKMMI2J51udw', 'Correlation': 2.449489742783178}\n",
      "{'biz_2': '_w5hBpkjHs5_Hv3pLeHtIw', 'biz_1': 'P7pxQFqr7yBKMMI2J51udw', 'Correlation': 2.6457513110645907}\n",
      "{'biz_2': 'vAh6WNioOEw7G9tGhd_JQw', 'biz_1': 'P7pxQFqr7yBKMMI2J51udw', 'Correlation': 2.449489742783178}\n",
      "{'biz_2': 'O7ot_LMlCfLpOP9tBqeNfw', 'biz_1': 'P7pxQFqr7yBKMMI2J51udw', 'Correlation': 2.8284271247461903}\n",
      "{'biz_2': 'iA8Ve2sZKN5Vz3mYKrtCaQ', 'biz_1': 'P7pxQFqr7yBKMMI2J51udw', 'Correlation': 2.8284271247461903}\n",
      "{'biz_2': '8yiLVWzJyyTEhYE0fVNvlA', 'biz_1': 'P7pxQFqr7yBKMMI2J51udw', 'Correlation': 2.449489742783178}\n",
      "{'biz_2': 'gTlDDzDEHyDQ6iwjNhpI6A', 'biz_1': 'g8OnV26ywJlZpezdBnOWUQ', 'Correlation': 1.7320508075688772}\n",
      "{'biz_2': '-WLrZPzjKfrftLWaCi1QZQ', 'biz_1': 'g8OnV26ywJlZpezdBnOWUQ', 'Correlation': 1.4142135623730951}\n",
      "{'biz_2': '3LWsVfsSmb_Nzbi2YQ-NIA', 'biz_1': 'g8OnV26ywJlZpezdBnOWUQ', 'Correlation': 2.8284271247461903}\n",
      "{'biz_2': 'AnXovUgUHJap3QaDRnjL1w', 'biz_1': 'g8OnV26ywJlZpezdBnOWUQ', 'Correlation': 1.0}\n",
      "{'biz_2': 'd_L-rfS1vT3JMzgCUGtiow', 'biz_1': 'g8OnV26ywJlZpezdBnOWUQ', 'Correlation': 1.7320508075688772}\n",
      "{'biz_2': 'LYWbyu1EQM2o5hwHG5_Ldg', 'biz_1': 'g8OnV26ywJlZpezdBnOWUQ', 'Correlation': 2.0}\n",
      "{'biz_2': 'ujHiaprwCQ5ewziu0Vi9rw', 'biz_1': 'g8OnV26ywJlZpezdBnOWUQ', 'Correlation': 1.4142135623730951}\n",
      "{'biz_2': 'cYwJA2A6I12KNkm2rtXd5g', 'biz_1': 'g8OnV26ywJlZpezdBnOWUQ', 'Correlation': 1.7320508075688772}\n",
      "{'biz_2': 'K7lWdNUhCbcnEvI0NhGewg', 'biz_1': 'g8OnV26ywJlZpezdBnOWUQ', 'Correlation': 1.4142135623730951}\n",
      "{'biz_2': 'z45xS0Kc6GpiITwrpkRVdQ', 'biz_1': 'g8OnV26ywJlZpezdBnOWUQ', 'Correlation': 2.0}\n",
      "{'biz_2': 'YRyYbOSwvHkZsZOLv98oQg', 'biz_1': 'g8OnV26ywJlZpezdBnOWUQ', 'Correlation': 2.0}\n",
      "{'biz_2': 'N7yuiiu8jhQ-Fl9Npflreg', 'biz_1': 'g8OnV26ywJlZpezdBnOWUQ', 'Correlation': 1.7320508075688772}\n",
      "{'biz_2': '_w5hBpkjHs5_Hv3pLeHtIw', 'biz_1': 'g8OnV26ywJlZpezdBnOWUQ', 'Correlation': 2.0}\n",
      "{'biz_2': 'vAh6WNioOEw7G9tGhd_JQw', 'biz_1': 'g8OnV26ywJlZpezdBnOWUQ', 'Correlation': 1.7320508075688772}\n",
      "{'biz_2': 'O7ot_LMlCfLpOP9tBqeNfw', 'biz_1': 'g8OnV26ywJlZpezdBnOWUQ', 'Correlation': 2.23606797749979}\n",
      "{'biz_2': 'iA8Ve2sZKN5Vz3mYKrtCaQ', 'biz_1': 'g8OnV26ywJlZpezdBnOWUQ', 'Correlation': 2.23606797749979}\n",
      "{'biz_2': '8yiLVWzJyyTEhYE0fVNvlA', 'biz_1': 'g8OnV26ywJlZpezdBnOWUQ', 'Correlation': 1.7320508075688772}\n",
      "{'biz_2': '-WLrZPzjKfrftLWaCi1QZQ', 'biz_1': 'gTlDDzDEHyDQ6iwjNhpI6A', 'Correlation': 1.7320508075688772}\n",
      "{'biz_2': '3LWsVfsSmb_Nzbi2YQ-NIA', 'biz_1': 'gTlDDzDEHyDQ6iwjNhpI6A', 'Correlation': 2.23606797749979}\n",
      "{'biz_2': 'AnXovUgUHJap3QaDRnjL1w', 'biz_1': 'gTlDDzDEHyDQ6iwjNhpI6A', 'Correlation': 2.0}\n",
      "{'biz_2': 'd_L-rfS1vT3JMzgCUGtiow', 'biz_1': 'gTlDDzDEHyDQ6iwjNhpI6A', 'Correlation': 2.0}\n",
      "{'biz_2': 'LYWbyu1EQM2o5hwHG5_Ldg', 'biz_1': 'gTlDDzDEHyDQ6iwjNhpI6A', 'Correlation': 1.7320508075688772}\n",
      "{'biz_2': 'ujHiaprwCQ5ewziu0Vi9rw', 'biz_1': 'gTlDDzDEHyDQ6iwjNhpI6A', 'Correlation': 1.7320508075688772}\n",
      "{'biz_2': 'cYwJA2A6I12KNkm2rtXd5g', 'biz_1': 'gTlDDzDEHyDQ6iwjNhpI6A', 'Correlation': 1.4142135623730951}\n",
      "{'biz_2': 'K7lWdNUhCbcnEvI0NhGewg', 'biz_1': 'gTlDDzDEHyDQ6iwjNhpI6A', 'Correlation': 1.7320508075688772}\n",
      "{'biz_2': 'z45xS0Kc6GpiITwrpkRVdQ', 'biz_1': 'gTlDDzDEHyDQ6iwjNhpI6A', 'Correlation': 1.7320508075688772}\n",
      "{'biz_2': 'YRyYbOSwvHkZsZOLv98oQg', 'biz_1': 'gTlDDzDEHyDQ6iwjNhpI6A', 'Correlation': 1.7320508075688772}\n",
      "{'biz_2': 'N7yuiiu8jhQ-Fl9Npflreg', 'biz_1': 'gTlDDzDEHyDQ6iwjNhpI6A', 'Correlation': 1.4142135623730951}\n",
      "{'biz_2': '_w5hBpkjHs5_Hv3pLeHtIw', 'biz_1': 'gTlDDzDEHyDQ6iwjNhpI6A', 'Correlation': 1.7320508075688772}\n",
      "{'biz_2': 'vAh6WNioOEw7G9tGhd_JQw', 'biz_1': 'gTlDDzDEHyDQ6iwjNhpI6A', 'Correlation': 1.4142135623730951}\n",
      "{'biz_2': 'O7ot_LMlCfLpOP9tBqeNfw', 'biz_1': 'gTlDDzDEHyDQ6iwjNhpI6A', 'Correlation': 2.0}\n",
      "{'biz_2': 'iA8Ve2sZKN5Vz3mYKrtCaQ', 'biz_1': 'gTlDDzDEHyDQ6iwjNhpI6A', 'Correlation': 2.0}\n",
      "{'biz_2': '8yiLVWzJyyTEhYE0fVNvlA', 'biz_1': 'gTlDDzDEHyDQ6iwjNhpI6A', 'Correlation': 1.4142135623730951}\n",
      "{'biz_2': '3LWsVfsSmb_Nzbi2YQ-NIA', 'biz_1': '-WLrZPzjKfrftLWaCi1QZQ', 'Correlation': 2.8284271247461903}\n",
      "{'biz_2': 'AnXovUgUHJap3QaDRnjL1w', 'biz_1': '-WLrZPzjKfrftLWaCi1QZQ', 'Correlation': 1.0}\n",
      "{'biz_2': 'd_L-rfS1vT3JMzgCUGtiow', 'biz_1': '-WLrZPzjKfrftLWaCi1QZQ', 'Correlation': 1.7320508075688772}\n",
      "{'biz_2': 'LYWbyu1EQM2o5hwHG5_Ldg', 'biz_1': '-WLrZPzjKfrftLWaCi1QZQ', 'Correlation': 2.0}\n",
      "{'biz_2': 'ujHiaprwCQ5ewziu0Vi9rw', 'biz_1': '-WLrZPzjKfrftLWaCi1QZQ', 'Correlation': 2.0}\n",
      "{'biz_2': 'cYwJA2A6I12KNkm2rtXd5g', 'biz_1': '-WLrZPzjKfrftLWaCi1QZQ', 'Correlation': 1.7320508075688772}\n",
      "{'biz_2': 'K7lWdNUhCbcnEvI0NhGewg', 'biz_1': '-WLrZPzjKfrftLWaCi1QZQ', 'Correlation': 1.4142135623730951}\n",
      "{'biz_2': 'z45xS0Kc6GpiITwrpkRVdQ', 'biz_1': '-WLrZPzjKfrftLWaCi1QZQ', 'Correlation': 2.0}\n",
      "{'biz_2': 'YRyYbOSwvHkZsZOLv98oQg', 'biz_1': '-WLrZPzjKfrftLWaCi1QZQ', 'Correlation': 2.0}\n",
      "{'biz_2': 'N7yuiiu8jhQ-Fl9Npflreg', 'biz_1': '-WLrZPzjKfrftLWaCi1QZQ', 'Correlation': 1.7320508075688772}\n",
      "{'biz_2': '_w5hBpkjHs5_Hv3pLeHtIw', 'biz_1': '-WLrZPzjKfrftLWaCi1QZQ', 'Correlation': 2.0}\n",
      "{'biz_2': 'vAh6WNioOEw7G9tGhd_JQw', 'biz_1': '-WLrZPzjKfrftLWaCi1QZQ', 'Correlation': 1.7320508075688772}\n",
      "{'biz_2': 'O7ot_LMlCfLpOP9tBqeNfw', 'biz_1': '-WLrZPzjKfrftLWaCi1QZQ', 'Correlation': 2.23606797749979}\n",
      "{'biz_2': 'iA8Ve2sZKN5Vz3mYKrtCaQ', 'biz_1': '-WLrZPzjKfrftLWaCi1QZQ', 'Correlation': 2.23606797749979}\n",
      "{'biz_2': '8yiLVWzJyyTEhYE0fVNvlA', 'biz_1': '-WLrZPzjKfrftLWaCi1QZQ', 'Correlation': 1.7320508075688772}\n",
      "{'biz_2': 'AnXovUgUHJap3QaDRnjL1w', 'biz_1': '3LWsVfsSmb_Nzbi2YQ-NIA', 'Correlation': 3.0}\n",
      "{'biz_2': 'd_L-rfS1vT3JMzgCUGtiow', 'biz_1': '3LWsVfsSmb_Nzbi2YQ-NIA', 'Correlation': 3.0}\n",
      "{'biz_2': 'LYWbyu1EQM2o5hwHG5_Ldg', 'biz_1': '3LWsVfsSmb_Nzbi2YQ-NIA', 'Correlation': 2.8284271247461903}\n",
      "{'biz_2': 'ujHiaprwCQ5ewziu0Vi9rw', 'biz_1': '3LWsVfsSmb_Nzbi2YQ-NIA', 'Correlation': 2.449489742783178}\n",
      "{'biz_2': 'cYwJA2A6I12KNkm2rtXd5g', 'biz_1': '3LWsVfsSmb_Nzbi2YQ-NIA', 'Correlation': 2.6457513110645907}\n",
      "{'biz_2': 'K7lWdNUhCbcnEvI0NhGewg', 'biz_1': '3LWsVfsSmb_Nzbi2YQ-NIA', 'Correlation': 2.449489742783178}\n",
      "{'biz_2': 'z45xS0Kc6GpiITwrpkRVdQ', 'biz_1': '3LWsVfsSmb_Nzbi2YQ-NIA', 'Correlation': 2.8284271247461903}\n",
      "{'biz_2': 'YRyYbOSwvHkZsZOLv98oQg', 'biz_1': '3LWsVfsSmb_Nzbi2YQ-NIA', 'Correlation': 2.8284271247461903}\n",
      "{'biz_2': 'N7yuiiu8jhQ-Fl9Npflreg', 'biz_1': '3LWsVfsSmb_Nzbi2YQ-NIA', 'Correlation': 2.6457513110645907}\n",
      "{'biz_2': '_w5hBpkjHs5_Hv3pLeHtIw', 'biz_1': '3LWsVfsSmb_Nzbi2YQ-NIA', 'Correlation': 2.8284271247461903}\n",
      "{'biz_2': 'vAh6WNioOEw7G9tGhd_JQw', 'biz_1': '3LWsVfsSmb_Nzbi2YQ-NIA', 'Correlation': 2.6457513110645907}\n",
      "{'biz_2': 'O7ot_LMlCfLpOP9tBqeNfw', 'biz_1': '3LWsVfsSmb_Nzbi2YQ-NIA', 'Correlation': 3.0}\n",
      "{'biz_2': 'iA8Ve2sZKN5Vz3mYKrtCaQ', 'biz_1': '3LWsVfsSmb_Nzbi2YQ-NIA', 'Correlation': 2.6457513110645907}\n",
      "{'biz_2': '8yiLVWzJyyTEhYE0fVNvlA', 'biz_1': '3LWsVfsSmb_Nzbi2YQ-NIA', 'Correlation': 2.6457513110645907}\n",
      "{'biz_2': 'd_L-rfS1vT3JMzgCUGtiow', 'biz_1': 'AnXovUgUHJap3QaDRnjL1w', 'Correlation': 2.0}\n",
      "{'biz_2': 'LYWbyu1EQM2o5hwHG5_Ldg', 'biz_1': 'AnXovUgUHJap3QaDRnjL1w', 'Correlation': 2.23606797749979}\n",
      "{'biz_2': 'ujHiaprwCQ5ewziu0Vi9rw', 'biz_1': 'AnXovUgUHJap3QaDRnjL1w', 'Correlation': 1.7320508075688772}\n",
      "{'biz_2': 'cYwJA2A6I12KNkm2rtXd5g', 'biz_1': 'AnXovUgUHJap3QaDRnjL1w', 'Correlation': 2.0}\n",
      "{'biz_2': 'K7lWdNUhCbcnEvI0NhGewg', 'biz_1': 'AnXovUgUHJap3QaDRnjL1w', 'Correlation': 1.7320508075688772}\n",
      "{'biz_2': 'z45xS0Kc6GpiITwrpkRVdQ', 'biz_1': 'AnXovUgUHJap3QaDRnjL1w', 'Correlation': 2.23606797749979}\n",
      "{'biz_2': 'YRyYbOSwvHkZsZOLv98oQg', 'biz_1': 'AnXovUgUHJap3QaDRnjL1w', 'Correlation': 2.23606797749979}\n",
      "{'biz_2': 'N7yuiiu8jhQ-Fl9Npflreg', 'biz_1': 'AnXovUgUHJap3QaDRnjL1w', 'Correlation': 2.0}\n",
      "{'biz_2': '_w5hBpkjHs5_Hv3pLeHtIw', 'biz_1': 'AnXovUgUHJap3QaDRnjL1w', 'Correlation': 2.23606797749979}\n",
      "{'biz_2': 'vAh6WNioOEw7G9tGhd_JQw', 'biz_1': 'AnXovUgUHJap3QaDRnjL1w', 'Correlation': 2.0}\n",
      "{'biz_2': 'O7ot_LMlCfLpOP9tBqeNfw', 'biz_1': 'AnXovUgUHJap3QaDRnjL1w', 'Correlation': 2.449489742783178}\n",
      "{'biz_2': 'iA8Ve2sZKN5Vz3mYKrtCaQ', 'biz_1': 'AnXovUgUHJap3QaDRnjL1w', 'Correlation': 2.449489742783178}\n",
      "{'biz_2': '8yiLVWzJyyTEhYE0fVNvlA', 'biz_1': 'AnXovUgUHJap3QaDRnjL1w', 'Correlation': 2.0}\n",
      "{'biz_2': 'LYWbyu1EQM2o5hwHG5_Ldg', 'biz_1': 'd_L-rfS1vT3JMzgCUGtiow', 'Correlation': 2.23606797749979}\n",
      "{'biz_2': 'ujHiaprwCQ5ewziu0Vi9rw', 'biz_1': 'd_L-rfS1vT3JMzgCUGtiow', 'Correlation': 2.23606797749979}\n",
      "{'biz_2': 'cYwJA2A6I12KNkm2rtXd5g', 'biz_1': 'd_L-rfS1vT3JMzgCUGtiow', 'Correlation': 2.0}\n",
      "{'biz_2': 'K7lWdNUhCbcnEvI0NhGewg', 'biz_1': 'd_L-rfS1vT3JMzgCUGtiow', 'Correlation': 1.7320508075688772}\n",
      "{'biz_2': 'z45xS0Kc6GpiITwrpkRVdQ', 'biz_1': 'd_L-rfS1vT3JMzgCUGtiow', 'Correlation': 2.23606797749979}\n",
      "{'biz_2': 'YRyYbOSwvHkZsZOLv98oQg', 'biz_1': 'd_L-rfS1vT3JMzgCUGtiow', 'Correlation': 2.23606797749979}\n",
      "{'biz_2': 'N7yuiiu8jhQ-Fl9Npflreg', 'biz_1': 'd_L-rfS1vT3JMzgCUGtiow', 'Correlation': 2.0}\n",
      "{'biz_2': '_w5hBpkjHs5_Hv3pLeHtIw', 'biz_1': 'd_L-rfS1vT3JMzgCUGtiow', 'Correlation': 2.23606797749979}\n",
      "{'biz_2': 'vAh6WNioOEw7G9tGhd_JQw', 'biz_1': 'd_L-rfS1vT3JMzgCUGtiow', 'Correlation': 2.0}\n",
      "{'biz_2': 'O7ot_LMlCfLpOP9tBqeNfw', 'biz_1': 'd_L-rfS1vT3JMzgCUGtiow', 'Correlation': 2.449489742783178}\n",
      "{'biz_2': 'iA8Ve2sZKN5Vz3mYKrtCaQ', 'biz_1': 'd_L-rfS1vT3JMzgCUGtiow', 'Correlation': 2.449489742783178}\n",
      "{'biz_2': '8yiLVWzJyyTEhYE0fVNvlA', 'biz_1': 'd_L-rfS1vT3JMzgCUGtiow', 'Correlation': 2.0}\n",
      "{'biz_2': 'ujHiaprwCQ5ewziu0Vi9rw', 'biz_1': 'LYWbyu1EQM2o5hwHG5_Ldg', 'Correlation': 2.0}\n",
      "{'biz_2': 'cYwJA2A6I12KNkm2rtXd5g', 'biz_1': 'LYWbyu1EQM2o5hwHG5_Ldg', 'Correlation': 1.7320508075688772}\n",
      "{'biz_2': 'K7lWdNUhCbcnEvI0NhGewg', 'biz_1': 'LYWbyu1EQM2o5hwHG5_Ldg', 'Correlation': 2.0}\n",
      "{'biz_2': 'z45xS0Kc6GpiITwrpkRVdQ', 'biz_1': 'LYWbyu1EQM2o5hwHG5_Ldg', 'Correlation': 2.0}\n",
      "{'biz_2': 'YRyYbOSwvHkZsZOLv98oQg', 'biz_1': 'LYWbyu1EQM2o5hwHG5_Ldg', 'Correlation': 1.4142135623730951}\n",
      "{'biz_2': 'N7yuiiu8jhQ-Fl9Npflreg', 'biz_1': 'LYWbyu1EQM2o5hwHG5_Ldg', 'Correlation': 1.7320508075688772}\n",
      "{'biz_2': '_w5hBpkjHs5_Hv3pLeHtIw', 'biz_1': 'LYWbyu1EQM2o5hwHG5_Ldg', 'Correlation': 2.0}\n",
      "{'biz_2': 'vAh6WNioOEw7G9tGhd_JQw', 'biz_1': 'LYWbyu1EQM2o5hwHG5_Ldg', 'Correlation': 1.7320508075688772}\n",
      "{'biz_2': 'O7ot_LMlCfLpOP9tBqeNfw', 'biz_1': 'LYWbyu1EQM2o5hwHG5_Ldg', 'Correlation': 1.7320508075688772}\n",
      "{'biz_2': 'iA8Ve2sZKN5Vz3mYKrtCaQ', 'biz_1': 'LYWbyu1EQM2o5hwHG5_Ldg', 'Correlation': 2.23606797749979}\n",
      "{'biz_2': '8yiLVWzJyyTEhYE0fVNvlA', 'biz_1': 'LYWbyu1EQM2o5hwHG5_Ldg', 'Correlation': 1.7320508075688772}\n",
      "{'biz_2': 'cYwJA2A6I12KNkm2rtXd5g', 'biz_1': 'ujHiaprwCQ5ewziu0Vi9rw', 'Correlation': 1.7320508075688772}\n",
      "{'biz_2': 'K7lWdNUhCbcnEvI0NhGewg', 'biz_1': 'ujHiaprwCQ5ewziu0Vi9rw', 'Correlation': 1.4142135623730951}\n",
      "{'biz_2': 'z45xS0Kc6GpiITwrpkRVdQ', 'biz_1': 'ujHiaprwCQ5ewziu0Vi9rw', 'Correlation': 2.0}\n",
      "{'biz_2': 'YRyYbOSwvHkZsZOLv98oQg', 'biz_1': 'ujHiaprwCQ5ewziu0Vi9rw', 'Correlation': 2.0}\n",
      "{'biz_2': 'N7yuiiu8jhQ-Fl9Npflreg', 'biz_1': 'ujHiaprwCQ5ewziu0Vi9rw', 'Correlation': 1.7320508075688772}\n",
      "{'biz_2': '_w5hBpkjHs5_Hv3pLeHtIw', 'biz_1': 'ujHiaprwCQ5ewziu0Vi9rw', 'Correlation': 2.0}\n",
      "{'biz_2': 'vAh6WNioOEw7G9tGhd_JQw', 'biz_1': 'ujHiaprwCQ5ewziu0Vi9rw', 'Correlation': 1.7320508075688772}\n",
      "{'biz_2': 'O7ot_LMlCfLpOP9tBqeNfw', 'biz_1': 'ujHiaprwCQ5ewziu0Vi9rw', 'Correlation': 2.23606797749979}\n",
      "{'biz_2': 'iA8Ve2sZKN5Vz3mYKrtCaQ', 'biz_1': 'ujHiaprwCQ5ewziu0Vi9rw', 'Correlation': 2.23606797749979}\n",
      "{'biz_2': '8yiLVWzJyyTEhYE0fVNvlA', 'biz_1': 'ujHiaprwCQ5ewziu0Vi9rw', 'Correlation': 1.7320508075688772}\n",
      "{'biz_2': 'K7lWdNUhCbcnEvI0NhGewg', 'biz_1': 'cYwJA2A6I12KNkm2rtXd5g', 'Correlation': 1.7320508075688772}\n",
      "{'biz_2': 'z45xS0Kc6GpiITwrpkRVdQ', 'biz_1': 'cYwJA2A6I12KNkm2rtXd5g', 'Correlation': 1.7320508075688772}\n",
      "{'biz_2': 'YRyYbOSwvHkZsZOLv98oQg', 'biz_1': 'cYwJA2A6I12KNkm2rtXd5g', 'Correlation': 1.7320508075688772}\n",
      "{'biz_2': 'N7yuiiu8jhQ-Fl9Npflreg', 'biz_1': 'cYwJA2A6I12KNkm2rtXd5g', 'Correlation': 1.4142135623730951}\n",
      "{'biz_2': '_w5hBpkjHs5_Hv3pLeHtIw', 'biz_1': 'cYwJA2A6I12KNkm2rtXd5g', 'Correlation': 1.7320508075688772}\n",
      "{'biz_2': 'vAh6WNioOEw7G9tGhd_JQw', 'biz_1': 'cYwJA2A6I12KNkm2rtXd5g', 'Correlation': 1.4142135623730951}\n",
      "{'biz_2': 'O7ot_LMlCfLpOP9tBqeNfw', 'biz_1': 'cYwJA2A6I12KNkm2rtXd5g', 'Correlation': 2.0}\n",
      "{'biz_2': 'iA8Ve2sZKN5Vz3mYKrtCaQ', 'biz_1': 'cYwJA2A6I12KNkm2rtXd5g', 'Correlation': 2.0}\n",
      "{'biz_2': '8yiLVWzJyyTEhYE0fVNvlA', 'biz_1': 'cYwJA2A6I12KNkm2rtXd5g', 'Correlation': 1.4142135623730951}\n",
      "{'biz_2': 'z45xS0Kc6GpiITwrpkRVdQ', 'biz_1': 'K7lWdNUhCbcnEvI0NhGewg', 'Correlation': 2.0}\n",
      "{'biz_2': 'YRyYbOSwvHkZsZOLv98oQg', 'biz_1': 'K7lWdNUhCbcnEvI0NhGewg', 'Correlation': 2.0}\n",
      "{'biz_2': 'N7yuiiu8jhQ-Fl9Npflreg', 'biz_1': 'K7lWdNUhCbcnEvI0NhGewg', 'Correlation': 1.7320508075688772}\n",
      "{'biz_2': '_w5hBpkjHs5_Hv3pLeHtIw', 'biz_1': 'K7lWdNUhCbcnEvI0NhGewg', 'Correlation': 2.0}\n",
      "{'biz_2': 'vAh6WNioOEw7G9tGhd_JQw', 'biz_1': 'K7lWdNUhCbcnEvI0NhGewg', 'Correlation': 1.7320508075688772}\n",
      "{'biz_2': 'O7ot_LMlCfLpOP9tBqeNfw', 'biz_1': 'K7lWdNUhCbcnEvI0NhGewg', 'Correlation': 2.23606797749979}\n",
      "{'biz_2': 'iA8Ve2sZKN5Vz3mYKrtCaQ', 'biz_1': 'K7lWdNUhCbcnEvI0NhGewg', 'Correlation': 2.23606797749979}\n",
      "{'biz_2': '8yiLVWzJyyTEhYE0fVNvlA', 'biz_1': 'K7lWdNUhCbcnEvI0NhGewg', 'Correlation': 1.7320508075688772}\n",
      "{'biz_2': 'YRyYbOSwvHkZsZOLv98oQg', 'biz_1': 'z45xS0Kc6GpiITwrpkRVdQ', 'Correlation': 2.0}\n",
      "{'biz_2': 'N7yuiiu8jhQ-Fl9Npflreg', 'biz_1': 'z45xS0Kc6GpiITwrpkRVdQ', 'Correlation': 1.7320508075688772}\n",
      "{'biz_2': '_w5hBpkjHs5_Hv3pLeHtIw', 'biz_1': 'z45xS0Kc6GpiITwrpkRVdQ', 'Correlation': 2.0}\n",
      "{'biz_2': 'vAh6WNioOEw7G9tGhd_JQw', 'biz_1': 'z45xS0Kc6GpiITwrpkRVdQ', 'Correlation': 1.7320508075688772}\n",
      "{'biz_2': 'O7ot_LMlCfLpOP9tBqeNfw', 'biz_1': 'z45xS0Kc6GpiITwrpkRVdQ', 'Correlation': 2.23606797749979}\n",
      "{'biz_2': 'iA8Ve2sZKN5Vz3mYKrtCaQ', 'biz_1': 'z45xS0Kc6GpiITwrpkRVdQ', 'Correlation': 2.23606797749979}\n",
      "{'biz_2': '8yiLVWzJyyTEhYE0fVNvlA', 'biz_1': 'z45xS0Kc6GpiITwrpkRVdQ', 'Correlation': 1.0}\n",
      "{'biz_2': 'N7yuiiu8jhQ-Fl9Npflreg', 'biz_1': 'YRyYbOSwvHkZsZOLv98oQg', 'Correlation': 1.7320508075688772}\n",
      "{'biz_2': '_w5hBpkjHs5_Hv3pLeHtIw', 'biz_1': 'YRyYbOSwvHkZsZOLv98oQg', 'Correlation': 2.0}\n",
      "{'biz_2': 'vAh6WNioOEw7G9tGhd_JQw', 'biz_1': 'YRyYbOSwvHkZsZOLv98oQg', 'Correlation': 1.7320508075688772}\n",
      "{'biz_2': 'O7ot_LMlCfLpOP9tBqeNfw', 'biz_1': 'YRyYbOSwvHkZsZOLv98oQg', 'Correlation': 2.23606797749979}\n",
      "{'biz_2': 'iA8Ve2sZKN5Vz3mYKrtCaQ', 'biz_1': 'YRyYbOSwvHkZsZOLv98oQg', 'Correlation': 2.23606797749979}\n",
      "{'biz_2': '8yiLVWzJyyTEhYE0fVNvlA', 'biz_1': 'YRyYbOSwvHkZsZOLv98oQg', 'Correlation': 1.7320508075688772}\n",
      "{'biz_2': '_w5hBpkjHs5_Hv3pLeHtIw', 'biz_1': 'N7yuiiu8jhQ-Fl9Npflreg', 'Correlation': 1.7320508075688772}\n",
      "{'biz_2': 'vAh6WNioOEw7G9tGhd_JQw', 'biz_1': 'N7yuiiu8jhQ-Fl9Npflreg', 'Correlation': 1.4142135623730951}\n",
      "{'biz_2': 'O7ot_LMlCfLpOP9tBqeNfw', 'biz_1': 'N7yuiiu8jhQ-Fl9Npflreg', 'Correlation': 2.0}\n",
      "{'biz_2': 'iA8Ve2sZKN5Vz3mYKrtCaQ', 'biz_1': 'N7yuiiu8jhQ-Fl9Npflreg', 'Correlation': 1.4142135623730951}\n",
      "{'biz_2': '8yiLVWzJyyTEhYE0fVNvlA', 'biz_1': 'N7yuiiu8jhQ-Fl9Npflreg', 'Correlation': 1.4142135623730951}\n",
      "{'biz_2': 'vAh6WNioOEw7G9tGhd_JQw', 'biz_1': '_w5hBpkjHs5_Hv3pLeHtIw', 'Correlation': 1.7320508075688772}\n",
      "{'biz_2': 'O7ot_LMlCfLpOP9tBqeNfw', 'biz_1': '_w5hBpkjHs5_Hv3pLeHtIw', 'Correlation': 2.23606797749979}\n",
      "{'biz_2': 'iA8Ve2sZKN5Vz3mYKrtCaQ', 'biz_1': '_w5hBpkjHs5_Hv3pLeHtIw', 'Correlation': 2.23606797749979}\n",
      "{'biz_2': '8yiLVWzJyyTEhYE0fVNvlA', 'biz_1': '_w5hBpkjHs5_Hv3pLeHtIw', 'Correlation': 1.7320508075688772}\n",
      "{'biz_2': 'O7ot_LMlCfLpOP9tBqeNfw', 'biz_1': 'vAh6WNioOEw7G9tGhd_JQw', 'Correlation': 2.0}\n",
      "{'biz_2': 'iA8Ve2sZKN5Vz3mYKrtCaQ', 'biz_1': 'vAh6WNioOEw7G9tGhd_JQw', 'Correlation': 2.0}\n",
      "{'biz_2': '8yiLVWzJyyTEhYE0fVNvlA', 'biz_1': 'vAh6WNioOEw7G9tGhd_JQw', 'Correlation': 1.4142135623730951}\n",
      "{'biz_2': 'iA8Ve2sZKN5Vz3mYKrtCaQ', 'biz_1': 'O7ot_LMlCfLpOP9tBqeNfw', 'Correlation': 2.449489742783178}\n",
      "{'biz_2': '8yiLVWzJyyTEhYE0fVNvlA', 'biz_1': 'O7ot_LMlCfLpOP9tBqeNfw', 'Correlation': 2.0}\n",
      "{'biz_2': '8yiLVWzJyyTEhYE0fVNvlA', 'biz_1': 'iA8Ve2sZKN5Vz3mYKrtCaQ', 'Correlation': 2.0}\n"
     ]
    }
   ],
   "source": [
    "for i in range(20):\n",
    "    for j in range((i+1), 20):\n",
    "        #print({'biz_1': cat_df.iloc[i,0], 'biz_2': cat_df.iloc[j,0], 'euclidean': cosine(cat_df.iloc[i,1:], cat_df.iloc[j,1:])})\n",
    "        print ({'biz_1': cat_df.iloc[i,0], 'biz_2': cat_df.iloc[j,0], 'Euclidean': euclidean_distance(cat_df.iloc[i,1:], cat_df.iloc[j,1:])})\n",
    "        #print ({cat_df.iloc[i,0], cat_df.iloc[j,0], 'jaccard': jaccard_similarity(cat_df.iloc[i,1:], cat_df.iloc[j,1:])})"
   ]
  },
  {
   "cell_type": "code",
   "execution_count": null,
   "metadata": {
    "collapsed": false
   },
   "outputs": [],
   "source": [
    "flatten = lambda l: [item for sublist in l for item in sublist]\n",
    "joiner = lambda x: ' '.join(flatten(x))"
   ]
  },
  {
   "cell_type": "code",
   "execution_count": null,
   "metadata": {
    "collapsed": false
   },
   "outputs": [],
   "source": [
    "rest_2['text2'] = map(joiner, rest_2['text2'])"
   ]
  },
  {
   "cell_type": "code",
   "execution_count": null,
   "metadata": {
    "collapsed": true
   },
   "outputs": [],
   "source": [
    "tfidf_df = rest_2"
   ]
  },
  {
   "cell_type": "code",
   "execution_count": null,
   "metadata": {
    "collapsed": false
   },
   "outputs": [],
   "source": [
    "tfidf_df['biz_ID'] = tfidf_df.index"
   ]
  },
  {
   "cell_type": "code",
   "execution_count": null,
   "metadata": {
    "collapsed": false
   },
   "outputs": [],
   "source": [
    "tfidf_df.head()"
   ]
  },
  {
   "cell_type": "code",
   "execution_count": null,
   "metadata": {
    "collapsed": true
   },
   "outputs": [],
   "source": [
    "from sklearn.feature_extraction.text import CountVectorizer\n",
    "from sklearn.feature_extraction.text import TfidfTransformer\n",
    "from sklearn.decomposition import LatentDirichletAllocation\n",
    "from sklearn.datasets import fetch_20newsgroups"
   ]
  },
  {
   "cell_type": "code",
   "execution_count": null,
   "metadata": {
    "collapsed": false
   },
   "outputs": [],
   "source": [
    "n_features = 1000\n",
    "\n",
    "tf_vectorizer = CountVectorizer(max_df=0.95, min_df=2, max_features=n_features,\n",
    "                                stop_words='english')\n",
    "tf = tf_vectorizer.fit_transform(tfidf_df['text2'])\n",
    "TF = TfidfTransformer()\n",
    "tf_idf = TF.fit_transform(tf)\n",
    "tf_idf = tf_idf.toarray() #convert sparse matrix to array\n",
    "#tf_idf.toarray()[:100, :100]"
   ]
  },
  {
   "cell_type": "code",
   "execution_count": null,
   "metadata": {
    "collapsed": false
   },
   "outputs": [],
   "source": [
    "index_list = list(final_df.index)\n",
    "list_ij = []\n",
    "\n",
    "cosine_df = pd.DataFrame(columns=['biz_1', 'biz_2'])\n",
    "for i in range(4781):\n",
    "    print i\n",
    "    for j in range((i+1), 4782):\n",
    "        list_ij.append({'biz_1': index_list[i], 'biz_2': index_list[j]})\n",
    "        #cosine_df = cosine_df.append({'biz_1': index_list[i], 'biz_2': index_list[j]}, ignore_index = True)\n"
   ]
  },
  {
   "cell_type": "code",
   "execution_count": null,
   "metadata": {
    "collapsed": false
   },
   "outputs": [],
   "source": [
    "import csv\n",
    "with open(\"/Users/apple/Desktop/capstone/model/pred_restaurant_pearsonr.csv\", 'w') as csvfile:\n",
    "    fieldnames = ['biz1','biz2', 'Correlation']\n",
    "    writer = csv.DictWriter(csvfile, delimiter=\",\", fieldnames=fieldnames)\n",
    "    writer.writeheader()\n",
    "    top_biz = []\n",
    "    for i in most_reviewed_biz.business_id:\n",
    "        top_biz.append(i)\n",
    "    for biz1 in top_biz:\n",
    "    #print \"Calculating the correlations for:\", biz1\n",
    "        for biz2 in top_biz:\n",
    "            if biz1 != biz2:\n",
    "                writer.writerow({'biz1':biz1,'biz2':biz2,'Correlation':calculate_correlation(biz1, biz2)})    "
   ]
  },
  {
   "cell_type": "code",
   "execution_count": null,
   "metadata": {
    "collapsed": false
   },
   "outputs": [],
   "source": [
    "i= 5\n",
    "j= 6\n",
    "type(final_df.iloc[i ,1000])"
   ]
  },
  {
   "cell_type": "code",
   "execution_count": null,
   "metadata": {
    "collapsed": false
   },
   "outputs": [],
   "source": [
    "str(final_df.iloc[i ,1000]), str(final_df.iloc[j ,1000]), cosine(final_df.iloc[i,1:1000], final_df.iloc[j,1:1000])"
   ]
  },
  {
   "cell_type": "code",
   "execution_count": null,
   "metadata": {
    "collapsed": false
   },
   "outputs": [],
   "source": [
    "import pandas as pd\n",
    "import numpy as np\n",
    "from scipy.spatial.distance import cosine\n",
    "\n",
    "#cosine(final_df.iloc[0], final_df.iloc[1])\n",
    "#[final_df.iloc[i, 1000], final_df.iloc[j, 1000]]\n",
    "\n",
    "import csv\n",
    "with open('/Users/ethanweber/Desktop/cosine_corr.csv', 'w') as csvfile:\n",
    "    fieldnames = ['biz_1','biz_2', 'Correlation']\n",
    "    writer = csv.DictWriter(csvfile, delimiter=\"|\", fieldnames=fieldnames)\n",
    "    writer.writeheader()\n",
    "    top_biz = []\n",
    "    for i in range(4781):\n",
    "        for j in range((i+1), 4782):\n",
    "            writer.writerow({'biz_1': final_df.iloc[i ,1000], 'biz_2': final_df.iloc[j ,1000], 'Correlation': cosine(final_df.iloc[i , 1:1000], final_df.iloc[j, 1:1000])})"
   ]
  },
  {
   "cell_type": "code",
   "execution_count": null,
   "metadata": {
    "collapsed": false,
    "scrolled": true
   },
   "outputs": [],
   "source": []
  },
  {
   "cell_type": "code",
   "execution_count": null,
   "metadata": {
    "collapsed": false
   },
   "outputs": [],
   "source": [
    "#final_df = pd.DataFrame(tf_idf, columns = tf_vectorizer.get_feature_names())\n",
    "final_df['names'] = pd.Series(list(tfidf_df['biz_ID']))\n",
    "#trimDF_train = pd.concat([tf_idf.drop(['text2'], axis=1), tf_idf.add_prefix('tf_idf')], axis=1)"
   ]
  },
  {
   "cell_type": "code",
   "execution_count": null,
   "metadata": {
    "collapsed": false
   },
   "outputs": [],
   "source": [
    "final_df = final_df.iloc[:, range(1000)]"
   ]
  },
  {
   "cell_type": "code",
   "execution_count": null,
   "metadata": {
    "collapsed": false
   },
   "outputs": [],
   "source": [
    "#lv_df['categories'] = map(fix_categories, lv_df['categories'])\n"
   ]
  },
  {
   "cell_type": "code",
   "execution_count": null,
   "metadata": {
    "collapsed": false
   },
   "outputs": [],
   "source": [
    "#catlist = ['Active Life', 'Arts & Entertainment', 'Automotive', 'Beauty & Spas', 'Education', 'Event Planning & Services', 'Financial Services', 'Food', 'Home Services', 'Health & Medical', 'Hotels & Travel', 'Local Flavor', 'Local Services', 'Mass Media', 'Nightlife', 'Pets', 'Professional Services', 'Public Services & Government', 'Real Estate', 'Religious Organizations', 'Restaurants', 'Shopping']\n",
    "#rmlist = ['Automotive', 'Education', 'Financial Services',  'Health & Medical', 'Mass Media', 'Home Services', 'Local Services', 'Pets', 'Professional Services', 'Public Services & Government', 'Real Estate', 'Religious Organizations']\n",
    "#new_list = ['Active Life', 'Arts & Entertainment', 'Beauty & Spas', 'Event Planning & Services', 'Food', 'Hotels & Travel', 'Local Flavor', 'Nightlife', 'Restaurants', 'Shopping']\n",
    "#print len(sorted((rmlist) + (new_list)))\n",
    "#print len(sorted(catlist))"
   ]
  },
  {
   "cell_type": "code",
   "execution_count": null,
   "metadata": {
    "collapsed": false
   },
   "outputs": [],
   "source": [
    "#lv_df.to_pickle('lv_df.pkl')  # where to save it, usually as a .pkl\n",
    "\n",
    "#lv_df = pd.read_pickle('lv_df.pkl')\n"
   ]
  },
  {
   "cell_type": "code",
   "execution_count": null,
   "metadata": {
    "collapsed": false
   },
   "outputs": [],
   "source": []
  },
  {
   "cell_type": "code",
   "execution_count": null,
   "metadata": {
    "collapsed": false
   },
   "outputs": [],
   "source": [
    "type(lv_df.big_cat[3])"
   ]
  },
  {
   "cell_type": "code",
   "execution_count": null,
   "metadata": {
    "collapsed": false
   },
   "outputs": [],
   "source": [
    "restaurant_df"
   ]
  },
  {
   "cell_type": "code",
   "execution_count": null,
   "metadata": {
    "collapsed": false
   },
   "outputs": [],
   "source": [
    "max(final_df.iloc[1])"
   ]
  },
  {
   "cell_type": "code",
   "execution_count": null,
   "metadata": {
    "collapsed": false
   },
   "outputs": [],
   "source": [
    "active_df = lv_df2[map(lambda x: 'Active Life' in x, lv_df2['big_cat'])]\n",
    "arts_df = lv_df2[map(lambda x: 'Arts & Entertainment' in x, lv_df2['big_cat'])]\n",
    "beauty_df = lv_df2[map(lambda x: 'Beauty & Spas' in x, lv_df2['big_cat'])]\n",
    "events_df = lv_df2[map(lambda x: 'Event Planning & Services' in x, lv_df2['big_cat'])]\n",
    "food_df = lv_df2[map(lambda x: 'Food' in x, lv_df2['big_cat'])]\n",
    "hotels_df = lv_df2[map(lambda x: 'Hotels & Travel' in x, lv_df2['big_cat'])]\n",
    "local_df = lv_df2[map(lambda x: 'Local Flavor' in x, lv_df2['big_cat'])]\n",
    "nightlife_df = lv_df2[map(lambda x: 'Nightlife' in x, lv_df2['big_cat'])]\n",
    "restaurant_df = lv_df2[map(lambda x: 'Restaurants' in x, lv_df2['big_cat'])]\n",
    "shops_df = lv_df2[map(lambda x: 'Shopping' in x, lv_df2['big_cat'])]"
   ]
  },
  {
   "cell_type": "code",
   "execution_count": null,
   "metadata": {
    "collapsed": true
   },
   "outputs": [],
   "source": [
    "active_df.to_csv('active_df.csv', sep='|', encoding='utf-8')\n",
    "arts_df.to_csv('arts_df.csv', sep='|', encoding='utf-8')\n",
    "beauty_df.to_csv('beauty_df.csv', sep='|', encoding='utf-8')\n",
    "events_df.to_csv('events_df.csv', sep='|', encoding='utf-8')\n",
    "food_df.to_csv('food_df.csv', sep='|', encoding='utf-8')\n",
    "hotels_df.to_csv('hotels_df.csv', sep='|', encoding='utf-8')\n",
    "local_df.to_csv('local_df.csv', sep='|', encoding='utf-8')\n",
    "nightlife_df.to_csv('nightlife_df.csv', sep='|', encoding='utf-8')\n",
    "restaurant_df.to_csv('restaurant_df.csv', sep='|', encoding='utf-8')\n",
    "shops_df.to_csv('shops_df.csv', sep='|', encoding='utf-8')"
   ]
  },
  {
   "cell_type": "code",
   "execution_count": null,
   "metadata": {
    "collapsed": false
   },
   "outputs": [],
   "source": [
    "active_df.to_pickle('./pickles/active_df.pkl')\n",
    "arts_df.to_pickle('./pickles/arts_df.pkl')\n",
    "beauty_df.to_pickle('./pickles/beauty_df.pkl')\n",
    "events_df.to_pickle('./pickles/events_df.pkl')\n",
    "food_df.to_pickle('./pickles/food_df.pkl')\n",
    "hotels_df.to_pickle('./pickles/hotels_df.pkl')\n",
    "local_df.to_pickle('./pickles/local_df.pkl')\n",
    "nightlife_df.to_pickle('./pickles/nightlife_df.pkl')\n",
    "restaurant_df.to_pickle('./pickles/restaurant_df.pkl')\n",
    "shops_df.to_pickle('./pickles/shops_df.pkl')"
   ]
  },
  {
   "cell_type": "code",
   "execution_count": null,
   "metadata": {
    "collapsed": true
   },
   "outputs": [],
   "source": [
    "logging.basicConfig(format='%(levelname)s : %(message)s', level=logging.INFO)\n",
    "logging.root.level = logging.INFO  # ipython sometimes messes up the logging setup; restore"
   ]
  },
  {
   "cell_type": "code",
   "execution_count": null,
   "metadata": {
    "collapsed": true
   },
   "outputs": [],
   "source": [
    "restaurant_df = lv_df[map(lambda x: 'Restaurants' in x, lv_df2['big_cat'])]"
   ]
  },
  {
   "cell_type": "code",
   "execution_count": null,
   "metadata": {
    "collapsed": false
   },
   "outputs": [],
   "source": [
    "restaurant_df"
   ]
  },
  {
   "cell_type": "code",
   "execution_count": null,
   "metadata": {
    "collapsed": true
   },
   "outputs": [],
   "source": [
    "n_features = 1000\n",
    "n_topics = 10\n",
    "n_top_words = 20"
   ]
  },
  {
   "cell_type": "code",
   "execution_count": null,
   "metadata": {
    "collapsed": true
   },
   "outputs": [],
   "source": [
    "tf = tf_vectorizer.fit_transform(text_train)\n",
    "TF = TfidfTransformer()\n",
    "tf_idf = TF.fit_transform(tf)\n",
    "tf_idf = tf_idf.toarray() #convert sparse matrix to array\n",
    "#tf_idf.toarray()[:100, :100]"
   ]
  },
  {
   "cell_type": "code",
   "execution_count": null,
   "metadata": {
    "collapsed": true
   },
   "outputs": [],
   "source": []
  },
  {
   "cell_type": "code",
   "execution_count": null,
   "metadata": {
    "collapsed": true
   },
   "outputs": [],
   "source": [
    "tf_vectorizer = CountVectorizer(max_df=0.95, min_df=2, max_features=n_features,\n",
    "                                stop_words='english')"
   ]
  },
  {
   "cell_type": "code",
   "execution_count": null,
   "metadata": {
    "collapsed": true
   },
   "outputs": [],
   "source": [
    "def iter_wiki(dump_file):\n",
    "    \"\"\"Yield each article from the Wikipedia dump, as a `(title, tokens)` 2-tuple.\"\"\"\n",
    "    ignore_namespaces = 'Wikipedia Category File Portal Template MediaWiki User Help Book Draft'.split()\n",
    "    for title, text, pageid in _extract_pages(smart_open(dump_file)):\n",
    "        text = filter_wiki(text)\n",
    "        tokens = tokenize(text)\n",
    "        if len(tokens) < 50 or any(title.startswith(ns + ':') for ns in ignore_namespaces):\n",
    "            continue  # ignore short articles and various meta-articles\n",
    "        yield title, tokens"
   ]
  },
  {
   "cell_type": "code",
   "execution_count": null,
   "metadata": {
    "collapsed": false
   },
   "outputs": [],
   "source": [
    "tf_idf"
   ]
  },
  {
   "cell_type": "code",
   "execution_count": null,
   "metadata": {
    "collapsed": false
   },
   "outputs": [],
   "source": []
  },
  {
   "cell_type": "code",
   "execution_count": null,
   "metadata": {
    "collapsed": true
   },
   "outputs": [],
   "source": []
  },
  {
   "cell_type": "code",
   "execution_count": null,
   "metadata": {
    "collapsed": false
   },
   "outputs": [],
   "source": [
    "\n",
    "tf = tf_vectorizer.fit_transform(text_train)\n",
    "TF = TfidfTransformer()\n",
    "tf_idf = TF.fit_transform(tf)\n",
    "tf_idf = tf_idf.toarray() #convert sparse matrix to array\n",
    "#tf_idf.toarray()[:100, :100]"
   ]
  },
  {
   "cell_type": "code",
   "execution_count": null,
   "metadata": {
    "collapsed": false
   },
   "outputs": [],
   "source": [
    "tf_idf"
   ]
  },
  {
   "cell_type": "code",
   "execution_count": null,
   "metadata": {
    "collapsed": false
   },
   "outputs": [],
   "source": []
  },
  {
   "cell_type": "code",
   "execution_count": null,
   "metadata": {
    "collapsed": false
   },
   "outputs": [],
   "source": []
  },
  {
   "cell_type": "code",
   "execution_count": null,
   "metadata": {
    "collapsed": false
   },
   "outputs": [],
   "source": []
  },
  {
   "cell_type": "code",
   "execution_count": null,
   "metadata": {
    "collapsed": false
   },
   "outputs": [],
   "source": [
    "#LV_samplei.categories = map(lambda x: fix_categories(str(x)) , LV_samplei.categories)"
   ]
  },
  {
   "cell_type": "raw",
   "metadata": {
    "collapsed": false
   },
   "source": [
    "#new_df['Biz_ID'] = pd.Series(list(set(LV_samplei.business_id)))\n",
    "#new_df['cat'] = pd.Series()\n",
    "#for i in range(len(new_df)):\n",
    "#    new_df['cat'][i] = LV_sample[LV_samplei.business_id ==  new_df['Biz_ID'][i]].categories.iloc[0]"
   ]
  },
  {
   "cell_type": "code",
   "execution_count": null,
   "metadata": {
    "collapsed": false
   },
   "outputs": [],
   "source": [
    "import gensim\n",
    "from gensim import corpora\n",
    "df_list = [active_df, arts_df, beauty_df, events_df, food_df, hotels_df, local_df, nightlife_df, restaurant_df, shops_df]"
   ]
  },
  {
   "cell_type": "code",
   "execution_count": null,
   "metadata": {
    "collapsed": true
   },
   "outputs": [],
   "source": [
    "Lda = gensim.models.ldamodel.LdaModel"
   ]
  },
  {
   "cell_type": "code",
   "execution_count": null,
   "metadata": {
    "collapsed": true
   },
   "outputs": [],
   "source": [
    "active_dict = corpora.Dictionary(active_df.categories)\n",
    "arts_dict = corpora.Dictionary(arts_df.categories)\n",
    "beauty_dict = corpora.Dictionary(beauty_df.categories)\n",
    "events_dict = corpora.Dictionary(events_df.categories)\n",
    "food_dict = corpora.Dictionary(food_df.categories)\n",
    "hotels_dict = corpora.Dictionary(hotels_df.categories)\n",
    "local_dict = corpora.Dictionary(local_df.categories)\n",
    "nightlife_dict = corpora.Dictionary(nightlife_df.categories)\n",
    "restaurant_dict = corpora.Dictionary(restaurant_df.categories)\n",
    "shops_dict = corpora.Dictionary(shops_df.categories)"
   ]
  },
  {
   "cell_type": "code",
   "execution_count": null,
   "metadata": {
    "collapsed": false
   },
   "outputs": [],
   "source": [
    "doc_term_active = [active_dict.doc2bow(x) for x in active_df.categories]\n",
    "doc_term_arts = [arts_dict.doc2bow(x) for x in arts_df.categories]\n",
    "doc_term_beauty = [beauty_dict.doc2bow(x) for x in beauty_df.categories]\n",
    "doc_term_events = [events_dict.doc2bow(x) for x in events_df.categories]\n",
    "doc_term_food = [food_dict.doc2bow(x) for x in food_df.categories]\n",
    "doc_term_hotels = [hotels_dict.doc2bow(x) for x in hotels_df.categories]\n",
    "doc_term_local = [local_dict.doc2bow(x) for x in local_df.categories]\n",
    "doc_term_nightlife = [nightlife_dict.doc2bow(x) for x in nightlife_df.categories]\n",
    "doc_term_restaurant = [restaurant_dict.doc2bow(x) for x in restaurant_df.categories]\n",
    "doc_term_shops = [shops_dict.doc2bow(x) for x in shops_df.categories]"
   ]
  },
  {
   "cell_type": "code",
   "execution_count": null,
   "metadata": {
    "collapsed": false
   },
   "outputs": [],
   "source": [
    "lda_active = Lda(doc_term_active, num_topics=3, id2word = active_dict, passes=3)\n",
    "print 'active done'\n",
    "lda_arts = Lda(doc_term_arts, num_topics=5, id2word = arts_dict, passes=3)\n",
    "print 'arts done'\n",
    "lda_beauty = Lda(doc_term_beauty, num_topics=3, id2word = beauty_dict, passes=3)\n",
    "print 'beauty done'\n",
    "lda_events = Lda(doc_term_events, num_topics=7, id2word = events_dict, passes=3)\n",
    "print 'events done'\n",
    "lda_food = Lda(doc_term_food, num_topics=10, id2word = food_dict, passes=3)\n",
    "print 'food done'\n",
    "lda_hotels = Lda(doc_term_hotels, num_topics=6, id2word = hotels_dict, passes=3)\n",
    "print 'hotels done'\n",
    "lda_local = Lda(doc_term_local, num_topics=3, id2word = local_dict, passes=3)\n",
    "print 'local done'\n",
    "lda_nightlife = Lda(doc_term_nightlife, num_topics=3, id2word = nightlife_dict, passes=3)\n",
    "print 'nightlife done'\n",
    "lda_restaurant = Lda(doc_term_restaurant, num_topics=45, id2word = restaurant_dict, passes=3)\n",
    "print 'restaurants done'\n",
    "lda_shops = Lda(doc_term_shops, num_topics=20, id2word = shops_dict, passes=3)\n",
    "print 'shops done'"
   ]
  },
  {
   "cell_type": "code",
   "execution_count": null,
   "metadata": {
    "collapsed": false
   },
   "outputs": [],
   "source": [
    "lda_active.save('./lda_pickles/lda_active.pkl')\n",
    "lda_arts.save('./lda_pickles/lda_arts.pkl')\n",
    "lda_beauty.save('./lda_pickles/lda_beauty.pkl')\n",
    "lda_events.save('./lda_pickles/lda_events.pkl')\n",
    "lda_food.save('./lda_pickles/lda_food.pkl')\n",
    "lda_hotels.save('./lda_pickles/lda_hotels.pkl')\n",
    "lda_local.save('./lda_pickles/lda_local.pkl')\n",
    "lda_nightlife.save('./lda_pickles/lda_nightlife.pkl')\n",
    "lda_restaurant.save('./lda_pickles/lda_restaurant.pkl')\n",
    "lda_shops.save('./lda_pickles/lda_shops.pkl')"
   ]
  },
  {
   "cell_type": "code",
   "execution_count": null,
   "metadata": {
    "collapsed": false
   },
   "outputs": [],
   "source": [
    "lda_list = [lda_active, lda_arts, lda_beauty, lda_events, lda_food, lda_hotels, lda_local, lda_nightlife, lda_restaurant, lda_shops] "
   ]
  },
  {
   "cell_type": "code",
   "execution_count": null,
   "metadata": {
    "collapsed": false,
    "scrolled": true
   },
   "outputs": [],
   "source": [
    "for i in lda_list:\n",
    "    print i\n",
    "    print i.print_topics(num_topics=3, num_words=3)[0]"
   ]
  },
  {
   "cell_type": "code",
   "execution_count": null,
   "metadata": {
    "collapsed": false
   },
   "outputs": [],
   "source": [
    "for i in range(10):\n",
    "    for j in range(i+1, (10)):\n",
    "        print i, j\n",
    "    "
   ]
  },
  {
   "cell_type": "code",
   "execution_count": null,
   "metadata": {
    "collapsed": true
   },
   "outputs": [],
   "source": [
    "for i in range(len())"
   ]
  },
  {
   "cell_type": "code",
   "execution_count": null,
   "metadata": {
    "collapsed": true
   },
   "outputs": [],
   "source": []
  },
  {
   "cell_type": "code",
   "execution_count": null,
   "metadata": {
    "collapsed": true
   },
   "outputs": [],
   "source": []
  },
  {
   "cell_type": "code",
   "execution_count": null,
   "metadata": {
    "collapsed": true
   },
   "outputs": [],
   "source": []
  },
  {
   "cell_type": "code",
   "execution_count": null,
   "metadata": {
    "collapsed": false,
    "scrolled": true
   },
   "outputs": [],
   "source": []
  },
  {
   "cell_type": "code",
   "execution_count": null,
   "metadata": {
    "collapsed": false
   },
   "outputs": [],
   "source": [
    "# As I want to avoid dealing with a huge sparse matrix, I will only select the top most reviewed books for our example \n",
    "\n",
    "most_reviewed_biz = pd.DataFrame({'count' : LV_test.groupby([\"name_x\"]).size()})\\\n",
    "                                    .reset_index().sort(['count'],ascending = False)\n",
    "\n",
    "most_reviewed_biz.head(20) "
   ]
  },
  {
   "cell_type": "code",
   "execution_count": null,
   "metadata": {
    "collapsed": true
   },
   "outputs": [],
   "source": [
    "# Let's create a function that collect the reviews of our common reviewers\n",
    "def get_biz_reviews(biz, common_reviewers):\n",
    "    mask = (LV_test.user_id.isin(common_reviewers)) & (LV_test.name_x==biz)\n",
    "    reviews = LV_test[mask].sort('user_id')\n",
    "    reviews = reviews[reviews.user_id.duplicated()==False]\n",
    "    return reviews"
   ]
  },
  {
   "cell_type": "code",
   "execution_count": null,
   "metadata": {
    "collapsed": true
   },
   "outputs": [],
   "source": [
    "# Importing the scipy library to measure the pearson correlation coefficient\n",
    "from scipy.stats.stats import pearsonr\n",
    "def calculate_correlation(biz1, biz2):\n",
    "    # We start by finding the common reviewers\n",
    "    biz_1_reviewers = LV_test[LV_test.name_x == biz1].user_id\n",
    "    biz_2_reviewers = LV_test[LV_test.name_x == biz2].user_id\n",
    "    common_reviewers = set(biz_1_reviewers).intersection(biz_2_reviewers)\n",
    "\n",
    "    # Then we look for the reviews given by common reviewers\n",
    "    biz_1_reviews = get_biz_reviews(biz1, common_reviewers)\n",
    "    biz_2_reviews = get_biz_reviews(biz2, common_reviewers)\n",
    "    \n",
    "    # Calculate the Pearson Correlation Score\n",
    "    return pearsonr(biz_1_reviews.stars_x, biz_2_reviews.stars_x)[0]"
   ]
  },
  {
   "cell_type": "code",
   "execution_count": null,
   "metadata": {
    "collapsed": false
   },
   "outputs": [],
   "source": [
    "# Getting the list of the most reviewed biz\n",
    "\n",
    "top_biz = []\n",
    "\n",
    "for i in most_reviewed_biz.name_x[0:13]:\n",
    "    top_biz.append(i)\n",
    "\n",
    "    \n",
    "# calculate the correlation for our top biz\n",
    "correlation_coefficient = []\n",
    "\n",
    "for biz1 in top_biz:\n",
    "    print \"Calculating the correlations for:\", biz1\n",
    "    for biz2 in top_biz:\n",
    "        if biz1 != biz2:\n",
    "            row = [biz1, biz2] + [calculate_correlation(biz1, biz2)]\n",
    "            correlation_coefficient.append(row)"
   ]
  },
  {
   "cell_type": "code",
   "execution_count": null,
   "metadata": {
    "collapsed": false
   },
   "outputs": [],
   "source": [
    "# Let's look at what the table of correlation looks like\n",
    "cols = [\"biz_1\", \"biz_2\", \"Correlation\"]\n",
    "correlation_coefficient = pd.DataFrame(correlation_coefficient, columns=cols).sort('Correlation')\n",
    "correlation_coefficient.head(10)"
   ]
  },
  {
   "cell_type": "code",
   "execution_count": null,
   "metadata": {
    "collapsed": true
   },
   "outputs": [],
   "source": [
    "def calc_correlation(corr, biz1, biz2):\n",
    "    mask = (corr.biz_1==biz1) & (corr.biz_2==biz2)\n",
    "    row = corr[mask]\n",
    "    corr = row\n",
    "    return corr.sum(axis=1).tolist()[0]"
   ]
  },
  {
   "cell_type": "code",
   "execution_count": null,
   "metadata": {
    "collapsed": false
   },
   "outputs": [],
   "source": [
    "calc_correlation(correlation_coefficient,\"McDonald's\", \"Smashburger\")"
   ]
  },
  {
   "cell_type": "code",
   "execution_count": null,
   "metadata": {
    "collapsed": true
   },
   "outputs": [],
   "source": []
  }
 ],
 "metadata": {
  "anaconda-cloud": {},
  "kernelspec": {
   "display_name": "Python [default]",
   "language": "python",
   "name": "python2"
  },
  "language_info": {
   "codemirror_mode": {
    "name": "ipython",
    "version": 2
   },
   "file_extension": ".py",
   "mimetype": "text/x-python",
   "name": "python",
   "nbconvert_exporter": "python",
   "pygments_lexer": "ipython2",
   "version": "2.7.12"
  }
 },
 "nbformat": 4,
 "nbformat_minor": 2
}
