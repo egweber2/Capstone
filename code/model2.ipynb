{
 "cells": [
  {
   "cell_type": "code",
   "execution_count": 1,
   "metadata": {
    "collapsed": true
   },
   "outputs": [],
   "source": [
    "import pandas as pd\n",
    "import numpy as np"
   ]
  },
  {
   "cell_type": "code",
   "execution_count": 2,
   "metadata": {
    "collapsed": false
   },
   "outputs": [
    {
     "name": "stderr",
     "output_type": "stream",
     "text": [
      "/Users/apple/anaconda/envs/py27/lib/python2.7/site-packages/IPython/core/interactiveshell.py:2717: DtypeWarning: Columns (0,4,6,17,18,32,34,36,38,40) have mixed types. Specify dtype option on import or set low_memory=False.\n",
      "  interactivity=interactivity, compiler=compiler, result=result)\n"
     ]
    }
   ],
   "source": [
    "LV_df = pd.read_csv('LV_df.csv')"
   ]
  },
  {
   "cell_type": "code",
   "execution_count": 3,
   "metadata": {
    "collapsed": false
   },
   "outputs": [
    {
     "data": {
      "text/plain": [
       "1325315"
      ]
     },
     "execution_count": 3,
     "metadata": {},
     "output_type": "execute_result"
    }
   ],
   "source": [
    "len(LV_df)"
   ]
  },
  {
   "cell_type": "code",
   "execution_count": 4,
   "metadata": {
    "collapsed": false
   },
   "outputs": [],
   "source": [
    "LV_df_open = LV_df[LV_df.is_open == 1]"
   ]
  },
  {
   "cell_type": "code",
   "execution_count": 5,
   "metadata": {
    "collapsed": true
   },
   "outputs": [],
   "source": [
    "LV_df_open = LV_df_open.rename(columns={'cool_x':'cool_review','funny_x':'funny_review','stars_x':'stars_rev',\n",
    "                                        'type_x':'type_review','useful_x':'useful_review',\n",
    "                                        'name_x': 'name_biz', 'review_count_x': 'review_count_biz',\n",
    "                                        'stars_y':'stars_biz', 'type_y':'type_biz','cool_y':'cool_usr',\n",
    "                                        'funny_y':'funny_usr','name_y':'name_usr',\n",
    "                                        'review_count_y':'review_count_usr','useful_y':'useful_usr'})"
   ]
  },
  {
   "cell_type": "code",
   "execution_count": 6,
   "metadata": {
    "collapsed": false
   },
   "outputs": [
    {
     "data": {
      "text/plain": [
       "array(['Unnamed: 0', 'business_id', 'cool_review', 'date', 'funny_review',\n",
       "       'review_id', 'stars_rev', 'text', 'type_review', 'useful_review',\n",
       "       'user_id', 'address', 'attributes', 'categories', 'city', 'hours',\n",
       "       'is_open', 'latitude', 'longitude', 'name_biz', 'neighborhood',\n",
       "       'postal_code', 'review_count_biz', 'stars_biz', 'state', 'type_biz',\n",
       "       'average_stars', 'compliment_cool', 'compliment_cute',\n",
       "       'compliment_funny', 'compliment_hot', 'compliment_list',\n",
       "       'compliment_more', 'compliment_note', 'compliment_photos',\n",
       "       'compliment_plain', 'compliment_profile', 'compliment_writer',\n",
       "       'cool_usr', 'elite', 'fans', 'friends', 'funny_usr', 'name_usr',\n",
       "       'review_count_usr', 'type', 'useful_usr', 'yelping_since'], dtype=object)"
      ]
     },
     "execution_count": 6,
     "metadata": {},
     "output_type": "execute_result"
    }
   ],
   "source": [
    "LV_df_open.columns.values"
   ]
  },
  {
   "cell_type": "code",
   "execution_count": 7,
   "metadata": {
    "collapsed": false
   },
   "outputs": [],
   "source": [
    "LV_df_BYuser = LV_df_open.groupby('user_id',as_index=False).count()"
   ]
  },
  {
   "cell_type": "code",
   "execution_count": 8,
   "metadata": {
    "collapsed": true
   },
   "outputs": [],
   "source": [
    "LV_df_BYitem = LV_df_open.groupby('business_id',as_index=False).count()"
   ]
  },
  {
   "cell_type": "code",
   "execution_count": 9,
   "metadata": {
    "collapsed": false
   },
   "outputs": [
    {
     "data": {
      "text/plain": [
       "20342"
      ]
     },
     "execution_count": 9,
     "metadata": {},
     "output_type": "execute_result"
    }
   ],
   "source": [
    "len(LV_df_BYitem)"
   ]
  },
  {
   "cell_type": "code",
   "execution_count": 10,
   "metadata": {
    "collapsed": false
   },
   "outputs": [
    {
     "data": {
      "text/plain": [
       "388608"
      ]
     },
     "execution_count": 10,
     "metadata": {},
     "output_type": "execute_result"
    }
   ],
   "source": [
    "len(LV_df_BYuser)"
   ]
  },
  {
   "cell_type": "code",
   "execution_count": 11,
   "metadata": {
    "collapsed": false
   },
   "outputs": [
    {
     "name": "stdout",
     "output_type": "stream",
     "text": [
      "mean # of ratings each user generated: 3.0384577775\n",
      "median # of ratings each user generated: 1.0\n"
     ]
    }
   ],
   "source": [
    "print \"mean # of ratings each user generated:\", LV_df_BYuser.business_id.mean()\n",
    "print \"median # of ratings each user generated:\", np.median(LV_df_BYuser.business_id)"
   ]
  },
  {
   "cell_type": "code",
   "execution_count": 12,
   "metadata": {
    "collapsed": false
   },
   "outputs": [
    {
     "name": "stdout",
     "output_type": "stream",
     "text": [
      "mean # of reviews each business received: 58.0458656966\n",
      "median # of reviews each business received: 12.0\n"
     ]
    }
   ],
   "source": [
    "print \"mean # of reviews each business received:\", LV_df_BYitem.user_id.mean()\n",
    "print \"median # of reviews each business received:\", np.median(LV_df_BYitem.user_id)"
   ]
  },
  {
   "cell_type": "code",
   "execution_count": 13,
   "metadata": {
    "collapsed": false
   },
   "outputs": [
    {
     "data": {
      "text/plain": [
       "6414"
      ]
     },
     "execution_count": 13,
     "metadata": {},
     "output_type": "execute_result"
    }
   ],
   "source": [
    "max(LV_df_BYitem.user_id)"
   ]
  },
  {
   "cell_type": "code",
   "execution_count": 14,
   "metadata": {
    "collapsed": false
   },
   "outputs": [],
   "source": [
    "%matplotlib inline\n",
    "import matplotlib.pyplot as plt\n",
    "import matplotlib"
   ]
  },
  {
   "cell_type": "code",
   "execution_count": 15,
   "metadata": {
    "collapsed": true
   },
   "outputs": [],
   "source": [
    "bins = np.arange(LV_df_BYuser.business_id.min(), LV_df_BYuser.business_id.max(), 20)"
   ]
  },
  {
   "cell_type": "code",
   "execution_count": 16,
   "metadata": {
    "collapsed": false
   },
   "outputs": [
    {
     "name": "stdout",
     "output_type": "stream",
     "text": [
      "224846\n"
     ]
    },
    {
     "data": {
      "image/png": "[encoded data removed]",
      "text/plain": [
       "<matplotlib.figure.Figure at 0x11017d510>"
      ]
     },
     "metadata": {},
     "output_type": "display_data"
    }
   ],
   "source": [
    "plt.hist(LV_df_BYuser.business_id,\n",
    "         bins=bins,\n",
    "        histtype = \"step\")\n",
    "\n",
    "plt.ylim([0, 500])\n",
    "plt.xlim([0,500])\n",
    "print len(LV_df_BYuser[LV_df_BYuser.business_id==1])"
   ]
  },
  {
   "cell_type": "code",
   "execution_count": 17,
   "metadata": {
    "collapsed": false
   },
   "outputs": [
    {
     "data": {
      "text/plain": [
       "337216"
      ]
     },
     "execution_count": 17,
     "metadata": {},
     "output_type": "execute_result"
    }
   ],
   "source": [
    "len(LV_df_BYuser[LV_df_BYuser.business_id < 5])"
   ]
  },
  {
   "cell_type": "code",
   "execution_count": 18,
   "metadata": {
    "collapsed": false
   },
   "outputs": [
    {
     "data": {
      "text/plain": [
       "388608"
      ]
     },
     "execution_count": 18,
     "metadata": {},
     "output_type": "execute_result"
    }
   ],
   "source": [
    "len(LV_df_BYuser)"
   ]
  },
  {
   "cell_type": "code",
   "execution_count": 19,
   "metadata": {
    "collapsed": false
   },
   "outputs": [
    {
     "data": {
      "text/plain": [
       "0.7425220273386034"
      ]
     },
     "execution_count": 19,
     "metadata": {},
     "output_type": "execute_result"
    }
   ],
   "source": [
    "len(LV_df_BYuser[LV_df_BYuser.business_id <= 2])/(len(LV_df_BYuser)*1.0)"
   ]
  },
  {
   "cell_type": "code",
   "execution_count": 20,
   "metadata": {
    "collapsed": false
   },
   "outputs": [],
   "source": [
    "#LV_reviewers_to_drop = LV_df_BYuser[LV_df_BYuser.business_id <= 2]\n",
    "#LV_df_open_trim = LV_df_open[LV_df_open.user_id.sort_values(axis=0) != LV_reviewers_to_drop.user_id.sort(axis=0)]"
   ]
  },
  {
   "cell_type": "code",
   "execution_count": 21,
   "metadata": {
    "collapsed": false
   },
   "outputs": [
    {
     "data": {
      "text/plain": [
       "1180769"
      ]
     },
     "execution_count": 21,
     "metadata": {},
     "output_type": "execute_result"
    }
   ],
   "source": [
    "len(LV_df_open)"
   ]
  },
  {
   "cell_type": "code",
   "execution_count": 22,
   "metadata": {
    "collapsed": false
   },
   "outputs": [
    {
     "data": {
      "text/html": [
       "<div>\n",
       "<table border=\"1\" class=\"dataframe\">\n",
       "  <thead>\n",
       "    <tr style=\"text-align: right;\">\n",
       "      <th></th>\n",
       "      <th>Unnamed: 0</th>\n",
       "      <th>business_id</th>\n",
       "      <th>cool_review</th>\n",
       "      <th>date</th>\n",
       "      <th>funny_review</th>\n",
       "      <th>review_id</th>\n",
       "      <th>stars_rev</th>\n",
       "      <th>text</th>\n",
       "      <th>type_review</th>\n",
       "      <th>useful_review</th>\n",
       "      <th>...</th>\n",
       "      <th>cool_usr</th>\n",
       "      <th>elite</th>\n",
       "      <th>fans</th>\n",
       "      <th>friends</th>\n",
       "      <th>funny_usr</th>\n",
       "      <th>name_usr</th>\n",
       "      <th>review_count_usr</th>\n",
       "      <th>type</th>\n",
       "      <th>useful_usr</th>\n",
       "      <th>yelping_since</th>\n",
       "    </tr>\n",
       "  </thead>\n",
       "  <tbody>\n",
       "    <tr>\n",
       "      <th>1264631</th>\n",
       "      <td>4003955</td>\n",
       "      <td>R0iz7n80-mDo2_uL_Q5ANg</td>\n",
       "      <td>0</td>\n",
       "      <td>2016-08-26</td>\n",
       "      <td>0</td>\n",
       "      <td>kIJMQvmsOwyK95ScIFFJqA</td>\n",
       "      <td>5</td>\n",
       "      <td>This is am AWESOME place to get some good beer...</td>\n",
       "      <td>review</td>\n",
       "      <td>0.0</td>\n",
       "      <td>...</td>\n",
       "      <td>0</td>\n",
       "      <td>[u'None']</td>\n",
       "      <td>0</td>\n",
       "      <td>[u'MbOHurW2euzdQQI3uYyF0Q', u'-SSqwv9wwEIq5iWj...</td>\n",
       "      <td>0.0</td>\n",
       "      <td>Scott</td>\n",
       "      <td>7.0</td>\n",
       "      <td>user</td>\n",
       "      <td>0.0</td>\n",
       "      <td>2013-02-19</td>\n",
       "    </tr>\n",
       "  </tbody>\n",
       "</table>\n",
       "<p>1 rows × 48 columns</p>\n",
       "</div>"
      ],
      "text/plain": [
       "        Unnamed: 0             business_id  cool_review        date  \\\n",
       "1264631    4003955  R0iz7n80-mDo2_uL_Q5ANg            0  2016-08-26   \n",
       "\n",
       "        funny_review               review_id stars_rev  \\\n",
       "1264631            0  kIJMQvmsOwyK95ScIFFJqA         5   \n",
       "\n",
       "                                                      text type_review  \\\n",
       "1264631  This is am AWESOME place to get some good beer...      review   \n",
       "\n",
       "         useful_review      ...      cool_usr      elite fans  \\\n",
       "1264631            0.0      ...             0  [u'None']    0   \n",
       "\n",
       "                                                   friends funny_usr name_usr  \\\n",
       "1264631  [u'MbOHurW2euzdQQI3uYyF0Q', u'-SSqwv9wwEIq5iWj...       0.0    Scott   \n",
       "\n",
       "         review_count_usr  type useful_usr yelping_since  \n",
       "1264631               7.0  user        0.0    2013-02-19  \n",
       "\n",
       "[1 rows x 48 columns]"
      ]
     },
     "execution_count": 22,
     "metadata": {},
     "output_type": "execute_result"
    }
   ],
   "source": [
    "LV_df_open[LV_df_open.user_id==\"--0WZ5gklOfbUIodJuKfaQ\"]"
   ]
  },
  {
   "cell_type": "code",
   "execution_count": 23,
   "metadata": {
    "collapsed": false
   },
   "outputs": [
    {
     "data": {
      "text/plain": [
       "224846"
      ]
     },
     "execution_count": 23,
     "metadata": {},
     "output_type": "execute_result"
    }
   ],
   "source": [
    "len(LV_df_BYuser[LV_df_BYuser.business_id == 1])"
   ]
  },
  {
   "cell_type": "code",
   "execution_count": 24,
   "metadata": {
    "collapsed": false
   },
   "outputs": [],
   "source": [
    "def fix_categories(x):\n",
    "    x = str(x)\n",
    "    x = x.replace('[', '').replace(']', '').replace(',', '').split(\"u'\")\n",
    "    x = map(lambda y: y.replace(\"'\", \"\"), x)\n",
    "    x = map(lambda y: y.replace('u\"', \"\").replace('\"', \"\").strip(), x)\n",
    "    if filter(None, x) != None: \n",
    "        return filter(None, x)\n",
    "    else:\n",
    "        return x\n",
    "\n",
    "LV_df_open['categories'] = map(fix_categories, LV_df_open['categories'])"
   ]
  },
  {
   "cell_type": "code",
   "execution_count": 25,
   "metadata": {
    "collapsed": true
   },
   "outputs": [],
   "source": [
    "def get_big_cat(z):\n",
    "    catlist = ['Active Life', 'Arts & Entertainment', 'Automotive', 'Beauty & Spas', 'Education', 'Event Planning & Services', 'Financial Services', 'Food', 'Health & Medical', 'Home Services', 'Hotels & Travel', 'Local Flavor', 'Local Services',  'Nightlife', 'Pets', 'Professional Services', 'Public Services & Government', 'Real Estate', 'Religious Organizations', 'Restaurants', 'Shopping']\n",
    "    return filter(lambda x: x in catlist, z)\n",
    "LV_df_open['big_cat'] = map(get_big_cat, LV_df_open['categories'])"
   ]
  },
  {
   "cell_type": "code",
   "execution_count": 26,
   "metadata": {
    "collapsed": false
   },
   "outputs": [
    {
     "name": "stdout",
     "output_type": "stream",
     "text": [
      "22\n",
      "22\n"
     ]
    }
   ],
   "source": [
    "catlist = ['Active Life', 'Arts & Entertainment', 'Automotive', 'Beauty & Spas', 'Education', 'Event Planning & Services', 'Financial Services', 'Food', 'Home Services', 'Health & Medical', 'Hotels & Travel', 'Local Flavor', 'Local Services', 'Mass Media', 'Nightlife', 'Pets', 'Professional Services', 'Public Services & Government', 'Real Estate', 'Religious Organizations', 'Restaurants', 'Shopping']\n",
    "rmlist = ['Automotive', 'Education', 'Financial Services',  'Health & Medical', 'Mass Media', 'Home Services', 'Local Services', 'Pets', 'Professional Services', 'Public Services & Government', 'Real Estate', 'Religious Organizations']\n",
    "new_list = ['Active Life', 'Arts & Entertainment', 'Beauty & Spas', 'Event Planning & Services', 'Food', 'Hotels & Travel', 'Local Flavor', 'Nightlife', 'Restaurants', 'Shopping']\n",
    "print len(sorted((rmlist) + (new_list)))\n",
    "print len(sorted(catlist))"
   ]
  },
  {
   "cell_type": "code",
   "execution_count": 27,
   "metadata": {
    "collapsed": true
   },
   "outputs": [],
   "source": [
    "def get_excluder(z):\n",
    "    rmlist = ['Automotive', 'Education', 'Financial Services', 'Mass Media', 'Home Services', 'Local Services', 'Pets', 'Professional Services', 'Public Services & Government', 'Real Estate', 'Religious Organizations']\n",
    "    for i in rmlist:\n",
    "        if i in z:\n",
    "            return 1\n",
    "    return 0\n",
    "\n",
    "LV_df_open['rm'] = map(get_excluder, LV_df_open['big_cat'])"
   ]
  },
  {
   "cell_type": "code",
   "execution_count": 28,
   "metadata": {
    "collapsed": true
   },
   "outputs": [],
   "source": [
    "active_df = LV_df_open[map(lambda x: 'Active Life' in x, LV_df_open['big_cat'])]\n",
    "arts_df = LV_df_open[map(lambda x: 'Arts & Entertainment' in x, LV_df_open['big_cat'])]\n",
    "beauty_df = LV_df_open[map(lambda x: 'Beauty & Spas' in x, LV_df_open['big_cat'])]\n",
    "events_df = LV_df_open[map(lambda x: 'Event Planning & Services' in x, LV_df_open['big_cat'])]\n",
    "food_df = LV_df_open[map(lambda x: 'Food' in x, LV_df_open['big_cat'])]\n",
    "hotels_df = LV_df_open[map(lambda x: 'Hotels & Travel' in x, LV_df_open['big_cat'])]\n",
    "local_df = LV_df_open[map(lambda x: 'Local Flavor' in x, LV_df_open['big_cat'])]\n",
    "nightlife_df = LV_df_open[map(lambda x: 'Nightlife' in x, LV_df_open['big_cat'])]\n",
    "restaurant_df = LV_df_open[map(lambda x: 'Restaurants' in x, LV_df_open['big_cat'])]\n",
    "shops_df = LV_df_open[map(lambda x: 'Shopping' in x, LV_df_open['big_cat'])]"
   ]
  },
  {
   "cell_type": "code",
   "execution_count": 29,
   "metadata": {
    "collapsed": false
   },
   "outputs": [
    {
     "data": {
      "text/plain": [
       "1674459"
      ]
     },
     "execution_count": 29,
     "metadata": {},
     "output_type": "execute_result"
    }
   ],
   "source": [
    "len(active_df)+len(arts_df)+len(beauty_df)+len(events_df)+len(food_df)+len(hotels_df)+len(local_df)+len(nightlife_df)+len(restaurant_df)+len(shops_df)"
   ]
  },
  {
   "cell_type": "code",
   "execution_count": null,
   "metadata": {
    "collapsed": true
   },
   "outputs": [],
   "source": [
    "# active_df.to_csv('active_df.csv')\n",
    "# arts_df.to_csv('arts_df.csv')\n",
    "# beauty_df.to_csv('beauty_df.csv')\n",
    "# events_df.to_csv('events_df.csv')\n",
    "# food_df.to_csv('food_df.csv')\n",
    "# hotels_df.to_csv('hotels_df.csv')\n",
    "# local_df.to_csv('local_df.csv')\n",
    "# nightlife_df.to_csv('nightlife_df.csv')\n",
    "# restaurant_df.to_csv('restaurant_df.csv')\n",
    "# shops_df.to_csv('shops_df.csv')"
   ]
  },
  {
   "cell_type": "code",
   "execution_count": 87,
   "metadata": {
    "collapsed": true
   },
   "outputs": [],
   "source": [
    "# Let's create a function that collect the reviews of our common reviewers\n",
    "def get_biz_reviews(biz, common_reviewers):\n",
    "    mask = (restaurant_df.user_id.isin(common_reviewers)) & (restaurant_df.business_id==biz)\n",
    "    reviews = restaurant_df[mask].sort_values('user_id')\n",
    "    reviews = reviews[reviews.user_id.duplicated()==False]\n",
    "    return reviews"
   ]
  },
  {
   "cell_type": "code",
   "execution_count": null,
   "metadata": {
    "collapsed": true
   },
   "outputs": [],
   "source": [
    "def common_reviewers(biz1,biz2):\n",
    "    biz_1_reviewers = restaurant_df[restaurant_df.business_id == biz1].user_id\n",
    "    biz_2_reviewers = restaurant_df[restaurant_df.business_id == biz2].user_id\n",
    "    common_reviewers = pd.Series(list(set(biz_1_reviewers).intersection(set(biz_2_reviewers))))\n",
    "    if "
   ]
  },
  {
   "cell_type": "code",
   "execution_count": 88,
   "metadata": {
    "collapsed": true
   },
   "outputs": [],
   "source": [
    "# Importing the scipy library to measure the pearson correlation coefficient\n",
    "from scipy.stats.stats import pearsonr\n",
    "def calculate_correlation(biz1, biz2):\n",
    "    # We start by finding the common reviewers\n",
    "    biz_1_reviewers = restaurant_df[restaurant_df.business_id == biz1].user_id\n",
    "    biz_2_reviewers = restaurant_df[restaurant_df.business_id == biz2].user_id\n",
    "    common_reviewers = pd.Series(list(set(biz_1_reviewers).intersection(set(biz_2_reviewers))))\n",
    "\n",
    "    # Then we look for the reviews given by common reviewers\n",
    "    biz_1_reviews = get_biz_reviews(biz1, common_reviewers)\n",
    "    biz_2_reviews = get_biz_reviews(biz2, common_reviewers)\n",
    "    \n",
    "    # Calculate the Pearson Correlation Score\n",
    "    return pearsonr(biz_1_reviews.stars_rev.apply(int), biz_2_reviews.stars_rev.apply(int))[0]"
   ]
  },
  {
   "cell_type": "code",
   "execution_count": 90,
   "metadata": {
    "collapsed": false
   },
   "outputs": [],
   "source": [
    "most_reviewed_biz = pd.DataFrame({'count' : restaurant_df.groupby([\"business_id\"]).size()})\\\n",
    "                                    .reset_index().sort_values(['count'],ascending = False)"
   ]
  },
  {
   "cell_type": "code",
   "execution_count": 98,
   "metadata": {
    "collapsed": false
   },
   "outputs": [
    {
     "data": {
      "text/plain": [
       "4093"
      ]
     },
     "execution_count": 98,
     "metadata": {},
     "output_type": "execute_result"
    }
   ],
   "source": [
    "len(most_reviewed_biz)"
   ]
  },
  {
   "cell_type": "code",
   "execution_count": 101,
   "metadata": {
    "collapsed": false
   },
   "outputs": [
    {
     "name": "stderr",
     "output_type": "stream",
     "text": [
      "/Users/apple/anaconda/envs/py27/lib/python2.7/site-packages/scipy/stats/stats.py:3029: RuntimeWarning: invalid value encountered in double_scalars\n",
      "  r = r_num / r_den\n",
      "/Users/apple/anaconda/envs/py27/lib/python2.7/site-packages/scipy/stats/stats.py:3024: RuntimeWarning: Mean of empty slice.\n",
      "  mx = x.mean()\n",
      "/Users/apple/anaconda/envs/py27/lib/python2.7/site-packages/numpy/core/_methods.py:80: RuntimeWarning: invalid value encountered in true_divide\n",
      "  ret = ret.dtype.type(ret / rcount)\n",
      "/Users/apple/anaconda/envs/py27/lib/python2.7/site-packages/scipy/stats/stats.py:3025: RuntimeWarning: Mean of empty slice.\n",
      "  my = y.mean()\n",
      "/Users/apple/anaconda/envs/py27/lib/python2.7/site-packages/scipy/stats/stats.py:3029: RuntimeWarning: invalid value encountered in true_divide\n",
      "  r = r_num / r_den\n"
     ]
    },
    {
     "ename": "KeyboardInterrupt",
     "evalue": "",
     "output_type": "error",
     "traceback": [
      "\u001b[0;31m---------------------------------------------------------------------------\u001b[0m",
      "\u001b[0;31mKeyboardInterrupt\u001b[0m                         Traceback (most recent call last)",
      "\u001b[0;32m<ipython-input-101-736a761ac719>\u001b[0m in \u001b[0;36m<module>\u001b[0;34m()\u001b[0m\n\u001b[1;32m     14\u001b[0m     \u001b[0;32mfor\u001b[0m \u001b[0mbiz2\u001b[0m \u001b[0;32min\u001b[0m \u001b[0mtop_biz\u001b[0m\u001b[0;34m:\u001b[0m\u001b[0;34m\u001b[0m\u001b[0m\n\u001b[1;32m     15\u001b[0m         \u001b[0;32mif\u001b[0m \u001b[0mbiz1\u001b[0m \u001b[0;34m!=\u001b[0m \u001b[0mbiz2\u001b[0m\u001b[0;34m:\u001b[0m\u001b[0;34m\u001b[0m\u001b[0m\n\u001b[0;32m---> 16\u001b[0;31m             \u001b[0mrow\u001b[0m \u001b[0;34m=\u001b[0m \u001b[0;34m[\u001b[0m\u001b[0mbiz1\u001b[0m\u001b[0;34m,\u001b[0m \u001b[0mbiz2\u001b[0m\u001b[0;34m]\u001b[0m \u001b[0;34m+\u001b[0m \u001b[0;34m[\u001b[0m\u001b[0mcalculate_correlation\u001b[0m\u001b[0;34m(\u001b[0m\u001b[0mbiz1\u001b[0m\u001b[0;34m,\u001b[0m \u001b[0mbiz2\u001b[0m\u001b[0;34m)\u001b[0m\u001b[0;34m]\u001b[0m\u001b[0;34m\u001b[0m\u001b[0m\n\u001b[0m\u001b[1;32m     17\u001b[0m             \u001b[0mcorrelation_coefficient\u001b[0m\u001b[0;34m.\u001b[0m\u001b[0mappend\u001b[0m\u001b[0;34m(\u001b[0m\u001b[0mrow\u001b[0m\u001b[0;34m)\u001b[0m\u001b[0;34m\u001b[0m\u001b[0m\n",
      "\u001b[0;32m<ipython-input-88-60d846805f81>\u001b[0m in \u001b[0;36mcalculate_correlation\u001b[0;34m(biz1, biz2)\u001b[0m\n\u001b[1;32m      9\u001b[0m     \u001b[0;31m# Then we look for the reviews given by common reviewers\u001b[0m\u001b[0;34m\u001b[0m\u001b[0;34m\u001b[0m\u001b[0m\n\u001b[1;32m     10\u001b[0m     \u001b[0mbiz_1_reviews\u001b[0m \u001b[0;34m=\u001b[0m \u001b[0mget_biz_reviews\u001b[0m\u001b[0;34m(\u001b[0m\u001b[0mbiz1\u001b[0m\u001b[0;34m,\u001b[0m \u001b[0mcommon_reviewers\u001b[0m\u001b[0;34m)\u001b[0m\u001b[0;34m\u001b[0m\u001b[0m\n\u001b[0;32m---> 11\u001b[0;31m     \u001b[0mbiz_2_reviews\u001b[0m \u001b[0;34m=\u001b[0m \u001b[0mget_biz_reviews\u001b[0m\u001b[0;34m(\u001b[0m\u001b[0mbiz2\u001b[0m\u001b[0;34m,\u001b[0m \u001b[0mcommon_reviewers\u001b[0m\u001b[0;34m)\u001b[0m\u001b[0;34m\u001b[0m\u001b[0m\n\u001b[0m\u001b[1;32m     12\u001b[0m \u001b[0;34m\u001b[0m\u001b[0m\n\u001b[1;32m     13\u001b[0m     \u001b[0;31m# Calculate the Pearson Correlation Score\u001b[0m\u001b[0;34m\u001b[0m\u001b[0;34m\u001b[0m\u001b[0m\n",
      "\u001b[0;32m<ipython-input-87-8a4292ba8d72>\u001b[0m in \u001b[0;36mget_biz_reviews\u001b[0;34m(biz, common_reviewers)\u001b[0m\n\u001b[1;32m      1\u001b[0m \u001b[0;31m# Let's create a function that collect the reviews of our common reviewers\u001b[0m\u001b[0;34m\u001b[0m\u001b[0;34m\u001b[0m\u001b[0m\n\u001b[1;32m      2\u001b[0m \u001b[0;32mdef\u001b[0m \u001b[0mget_biz_reviews\u001b[0m\u001b[0;34m(\u001b[0m\u001b[0mbiz\u001b[0m\u001b[0;34m,\u001b[0m \u001b[0mcommon_reviewers\u001b[0m\u001b[0;34m)\u001b[0m\u001b[0;34m:\u001b[0m\u001b[0;34m\u001b[0m\u001b[0m\n\u001b[0;32m----> 3\u001b[0;31m     \u001b[0mmask\u001b[0m \u001b[0;34m=\u001b[0m \u001b[0;34m(\u001b[0m\u001b[0mrestaurant_df\u001b[0m\u001b[0;34m.\u001b[0m\u001b[0muser_id\u001b[0m\u001b[0;34m.\u001b[0m\u001b[0misin\u001b[0m\u001b[0;34m(\u001b[0m\u001b[0mcommon_reviewers\u001b[0m\u001b[0;34m)\u001b[0m\u001b[0;34m)\u001b[0m \u001b[0;34m&\u001b[0m \u001b[0;34m(\u001b[0m\u001b[0mrestaurant_df\u001b[0m\u001b[0;34m.\u001b[0m\u001b[0mbusiness_id\u001b[0m\u001b[0;34m==\u001b[0m\u001b[0mbiz\u001b[0m\u001b[0;34m)\u001b[0m\u001b[0;34m\u001b[0m\u001b[0m\n\u001b[0m\u001b[1;32m      4\u001b[0m     \u001b[0mreviews\u001b[0m \u001b[0;34m=\u001b[0m \u001b[0mrestaurant_df\u001b[0m\u001b[0;34m[\u001b[0m\u001b[0mmask\u001b[0m\u001b[0;34m]\u001b[0m\u001b[0;34m.\u001b[0m\u001b[0msort_values\u001b[0m\u001b[0;34m(\u001b[0m\u001b[0;34m'user_id'\u001b[0m\u001b[0;34m)\u001b[0m\u001b[0;34m\u001b[0m\u001b[0m\n\u001b[1;32m      5\u001b[0m     \u001b[0mreviews\u001b[0m \u001b[0;34m=\u001b[0m \u001b[0mreviews\u001b[0m\u001b[0;34m[\u001b[0m\u001b[0mreviews\u001b[0m\u001b[0;34m.\u001b[0m\u001b[0muser_id\u001b[0m\u001b[0;34m.\u001b[0m\u001b[0mduplicated\u001b[0m\u001b[0;34m(\u001b[0m\u001b[0;34m)\u001b[0m\u001b[0;34m==\u001b[0m\u001b[0mFalse\u001b[0m\u001b[0;34m]\u001b[0m\u001b[0;34m\u001b[0m\u001b[0m\n",
      "\u001b[0;32m/Users/apple/anaconda/envs/py27/lib/python2.7/site-packages/pandas/core/ops.pyc\u001b[0m in \u001b[0;36mwrapper\u001b[0;34m(self, other, axis)\u001b[0m\n\u001b[1;32m    853\u001b[0m \u001b[0;34m\u001b[0m\u001b[0m\n\u001b[1;32m    854\u001b[0m             \u001b[0;32mwith\u001b[0m \u001b[0mnp\u001b[0m\u001b[0;34m.\u001b[0m\u001b[0merrstate\u001b[0m\u001b[0;34m(\u001b[0m\u001b[0mall\u001b[0m\u001b[0;34m=\u001b[0m\u001b[0;34m'ignore'\u001b[0m\u001b[0;34m)\u001b[0m\u001b[0;34m:\u001b[0m\u001b[0;34m\u001b[0m\u001b[0m\n\u001b[0;32m--> 855\u001b[0;31m                 \u001b[0mres\u001b[0m \u001b[0;34m=\u001b[0m \u001b[0mna_op\u001b[0m\u001b[0;34m(\u001b[0m\u001b[0mvalues\u001b[0m\u001b[0;34m,\u001b[0m \u001b[0mother\u001b[0m\u001b[0;34m)\u001b[0m\u001b[0;34m\u001b[0m\u001b[0m\n\u001b[0m\u001b[1;32m    856\u001b[0m             \u001b[0;32mif\u001b[0m \u001b[0misscalar\u001b[0m\u001b[0;34m(\u001b[0m\u001b[0mres\u001b[0m\u001b[0;34m)\u001b[0m\u001b[0;34m:\u001b[0m\u001b[0;34m\u001b[0m\u001b[0m\n\u001b[1;32m    857\u001b[0m                 raise TypeError('Could not compare %s type with Series' %\n",
      "\u001b[0;32m/Users/apple/anaconda/envs/py27/lib/python2.7/site-packages/pandas/core/ops.pyc\u001b[0m in \u001b[0;36mna_op\u001b[0;34m(x, y)\u001b[0m\n\u001b[1;32m    757\u001b[0m \u001b[0;34m\u001b[0m\u001b[0m\n\u001b[1;32m    758\u001b[0m         \u001b[0;32mif\u001b[0m \u001b[0mis_object_dtype\u001b[0m\u001b[0;34m(\u001b[0m\u001b[0mx\u001b[0m\u001b[0;34m.\u001b[0m\u001b[0mdtype\u001b[0m\u001b[0;34m)\u001b[0m\u001b[0;34m:\u001b[0m\u001b[0;34m\u001b[0m\u001b[0m\n\u001b[0;32m--> 759\u001b[0;31m             \u001b[0mresult\u001b[0m \u001b[0;34m=\u001b[0m \u001b[0m_comp_method_OBJECT_ARRAY\u001b[0m\u001b[0;34m(\u001b[0m\u001b[0mop\u001b[0m\u001b[0;34m,\u001b[0m \u001b[0mx\u001b[0m\u001b[0;34m,\u001b[0m \u001b[0my\u001b[0m\u001b[0;34m)\u001b[0m\u001b[0;34m\u001b[0m\u001b[0m\n\u001b[0m\u001b[1;32m    760\u001b[0m         \u001b[0;32melse\u001b[0m\u001b[0;34m:\u001b[0m\u001b[0;34m\u001b[0m\u001b[0m\n\u001b[1;32m    761\u001b[0m \u001b[0;34m\u001b[0m\u001b[0m\n",
      "\u001b[0;32m/Users/apple/anaconda/envs/py27/lib/python2.7/site-packages/pandas/core/ops.pyc\u001b[0m in \u001b[0;36m_comp_method_OBJECT_ARRAY\u001b[0;34m(op, x, y)\u001b[0m\n\u001b[1;32m    737\u001b[0m         \u001b[0mresult\u001b[0m \u001b[0;34m=\u001b[0m \u001b[0mlib\u001b[0m\u001b[0;34m.\u001b[0m\u001b[0mvec_compare\u001b[0m\u001b[0;34m(\u001b[0m\u001b[0mx\u001b[0m\u001b[0;34m,\u001b[0m \u001b[0my\u001b[0m\u001b[0;34m,\u001b[0m \u001b[0mop\u001b[0m\u001b[0;34m)\u001b[0m\u001b[0;34m\u001b[0m\u001b[0m\n\u001b[1;32m    738\u001b[0m     \u001b[0;32melse\u001b[0m\u001b[0;34m:\u001b[0m\u001b[0;34m\u001b[0m\u001b[0m\n\u001b[0;32m--> 739\u001b[0;31m         \u001b[0mresult\u001b[0m \u001b[0;34m=\u001b[0m \u001b[0mlib\u001b[0m\u001b[0;34m.\u001b[0m\u001b[0mscalar_compare\u001b[0m\u001b[0;34m(\u001b[0m\u001b[0mx\u001b[0m\u001b[0;34m,\u001b[0m \u001b[0my\u001b[0m\u001b[0;34m,\u001b[0m \u001b[0mop\u001b[0m\u001b[0;34m)\u001b[0m\u001b[0;34m\u001b[0m\u001b[0m\n\u001b[0m\u001b[1;32m    740\u001b[0m     \u001b[0;32mreturn\u001b[0m \u001b[0mresult\u001b[0m\u001b[0;34m\u001b[0m\u001b[0m\n\u001b[1;32m    741\u001b[0m \u001b[0;34m\u001b[0m\u001b[0m\n",
      "\u001b[0;31mKeyboardInterrupt\u001b[0m: "
     ]
    }
   ],
   "source": [
    "# Getting the list of the most reviewed biz\n",
    "\n",
    "top_biz = []\n",
    "\n",
    "for i in most_reviewed_biz.business_id:\n",
    "    top_biz.append(i)\n",
    "\n",
    "    \n",
    "# calculate the correlation for our top biz\n",
    "correlation_coefficient = []\n",
    "\n",
    "for biz1 in top_biz:\n",
    "    #print \"Calculating the correlations for:\", biz1\n",
    "    for biz2 in top_biz:\n",
    "        if biz1 != biz2:\n",
    "            row = [biz1, biz2] + [calculate_correlation(biz1, biz2)]\n",
    "            correlation_coefficient.append(row)"
   ]
  },
  {
   "cell_type": "code",
   "execution_count": null,
   "metadata": {
    "collapsed": false
   },
   "outputs": [],
   "source": [
    "cols = [\"biz_1\", \"biz_2\", \"Correlation\"]\n",
    "correlation_coefficient = pd.DataFrame(correlation_coefficient, columns=cols).sort_values('Correlation')"
   ]
  },
  {
   "cell_type": "code",
   "execution_count": 97,
   "metadata": {
    "collapsed": false
   },
   "outputs": [
    {
     "data": {
      "text/html": [
       "<div>\n",
       "<table border=\"1\" class=\"dataframe\">\n",
       "  <thead>\n",
       "    <tr style=\"text-align: right;\">\n",
       "      <th></th>\n",
       "      <th>biz_1</th>\n",
       "      <th>biz_2</th>\n",
       "      <th>Correlation</th>\n",
       "    </tr>\n",
       "  </thead>\n",
       "  <tbody>\n",
       "    <tr>\n",
       "      <th>89</th>\n",
       "      <td>f9sU31meK0bqAD7922sCog</td>\n",
       "      <td>oXoVJ0xKv82cBo9U6oEjlQ</td>\n",
       "      <td>-0.686050</td>\n",
       "    </tr>\n",
       "    <tr>\n",
       "      <th>80</th>\n",
       "      <td>oXoVJ0xKv82cBo9U6oEjlQ</td>\n",
       "      <td>f9sU31meK0bqAD7922sCog</td>\n",
       "      <td>-0.686050</td>\n",
       "    </tr>\n",
       "    <tr>\n",
       "      <th>52</th>\n",
       "      <td>LwQB9H3jZ9wTk24Lr-AnZQ</td>\n",
       "      <td>oXoVJ0xKv82cBo9U6oEjlQ</td>\n",
       "      <td>-0.504184</td>\n",
       "    </tr>\n",
       "    <tr>\n",
       "      <th>77</th>\n",
       "      <td>oXoVJ0xKv82cBo9U6oEjlQ</td>\n",
       "      <td>LwQB9H3jZ9wTk24Lr-AnZQ</td>\n",
       "      <td>-0.504184</td>\n",
       "    </tr>\n",
       "    <tr>\n",
       "      <th>32</th>\n",
       "      <td>Jt28TYWanzKrJYYr0Tf1MQ</td>\n",
       "      <td>YuiM5VKscO8rS1EX7f19_g</td>\n",
       "      <td>-0.500000</td>\n",
       "    </tr>\n",
       "    <tr>\n",
       "      <th>57</th>\n",
       "      <td>YuiM5VKscO8rS1EX7f19_g</td>\n",
       "      <td>Jt28TYWanzKrJYYr0Tf1MQ</td>\n",
       "      <td>-0.500000</td>\n",
       "    </tr>\n",
       "    <tr>\n",
       "      <th>61</th>\n",
       "      <td>YuiM5VKscO8rS1EX7f19_g</td>\n",
       "      <td>oXoVJ0xKv82cBo9U6oEjlQ</td>\n",
       "      <td>-0.324443</td>\n",
       "    </tr>\n",
       "    <tr>\n",
       "      <th>78</th>\n",
       "      <td>oXoVJ0xKv82cBo9U6oEjlQ</td>\n",
       "      <td>YuiM5VKscO8rS1EX7f19_g</td>\n",
       "      <td>-0.324443</td>\n",
       "    </tr>\n",
       "    <tr>\n",
       "      <th>2</th>\n",
       "      <td>fHM09_y3QX3n4a_bIFbk_w</td>\n",
       "      <td>Jt28TYWanzKrJYYr0Tf1MQ</td>\n",
       "      <td>-0.280671</td>\n",
       "    </tr>\n",
       "    <tr>\n",
       "      <th>27</th>\n",
       "      <td>Jt28TYWanzKrJYYr0Tf1MQ</td>\n",
       "      <td>fHM09_y3QX3n4a_bIFbk_w</td>\n",
       "      <td>-0.280671</td>\n",
       "    </tr>\n",
       "    <tr>\n",
       "      <th>11</th>\n",
       "      <td>ZibmYdOPKLlqDM9oR6xzOA</td>\n",
       "      <td>Jt28TYWanzKrJYYr0Tf1MQ</td>\n",
       "      <td>-0.262613</td>\n",
       "    </tr>\n",
       "    <tr>\n",
       "      <th>28</th>\n",
       "      <td>Jt28TYWanzKrJYYr0Tf1MQ</td>\n",
       "      <td>ZibmYdOPKLlqDM9oR6xzOA</td>\n",
       "      <td>-0.262613</td>\n",
       "    </tr>\n",
       "    <tr>\n",
       "      <th>76</th>\n",
       "      <td>oXoVJ0xKv82cBo9U6oEjlQ</td>\n",
       "      <td>gBfPyzPRmeOaj3SdcIj0Rw</td>\n",
       "      <td>-0.200115</td>\n",
       "    </tr>\n",
       "    <tr>\n",
       "      <th>43</th>\n",
       "      <td>gBfPyzPRmeOaj3SdcIj0Rw</td>\n",
       "      <td>oXoVJ0xKv82cBo9U6oEjlQ</td>\n",
       "      <td>-0.200115</td>\n",
       "    </tr>\n",
       "    <tr>\n",
       "      <th>71</th>\n",
       "      <td>qqs7LP4TXAoOrSlaKRfz3A</td>\n",
       "      <td>f9sU31meK0bqAD7922sCog</td>\n",
       "      <td>-0.191924</td>\n",
       "    </tr>\n",
       "    <tr>\n",
       "      <th>88</th>\n",
       "      <td>f9sU31meK0bqAD7922sCog</td>\n",
       "      <td>qqs7LP4TXAoOrSlaKRfz3A</td>\n",
       "      <td>-0.191924</td>\n",
       "    </tr>\n",
       "    <tr>\n",
       "      <th>20</th>\n",
       "      <td>uW6UHfONAmm8QttPkbMewQ</td>\n",
       "      <td>Jt28TYWanzKrJYYr0Tf1MQ</td>\n",
       "      <td>-0.191600</td>\n",
       "    </tr>\n",
       "    <tr>\n",
       "      <th>29</th>\n",
       "      <td>Jt28TYWanzKrJYYr0Tf1MQ</td>\n",
       "      <td>uW6UHfONAmm8QttPkbMewQ</td>\n",
       "      <td>-0.191600</td>\n",
       "    </tr>\n",
       "    <tr>\n",
       "      <th>60</th>\n",
       "      <td>YuiM5VKscO8rS1EX7f19_g</td>\n",
       "      <td>qqs7LP4TXAoOrSlaKRfz3A</td>\n",
       "      <td>-0.176989</td>\n",
       "    </tr>\n",
       "    <tr>\n",
       "      <th>69</th>\n",
       "      <td>qqs7LP4TXAoOrSlaKRfz3A</td>\n",
       "      <td>YuiM5VKscO8rS1EX7f19_g</td>\n",
       "      <td>-0.176989</td>\n",
       "    </tr>\n",
       "    <tr>\n",
       "      <th>12</th>\n",
       "      <td>ZibmYdOPKLlqDM9oR6xzOA</td>\n",
       "      <td>gBfPyzPRmeOaj3SdcIj0Rw</td>\n",
       "      <td>-0.166667</td>\n",
       "    </tr>\n",
       "    <tr>\n",
       "      <th>37</th>\n",
       "      <td>gBfPyzPRmeOaj3SdcIj0Rw</td>\n",
       "      <td>ZibmYdOPKLlqDM9oR6xzOA</td>\n",
       "      <td>-0.166667</td>\n",
       "    </tr>\n",
       "    <tr>\n",
       "      <th>3</th>\n",
       "      <td>fHM09_y3QX3n4a_bIFbk_w</td>\n",
       "      <td>gBfPyzPRmeOaj3SdcIj0Rw</td>\n",
       "      <td>-0.164399</td>\n",
       "    </tr>\n",
       "    <tr>\n",
       "      <th>36</th>\n",
       "      <td>gBfPyzPRmeOaj3SdcIj0Rw</td>\n",
       "      <td>fHM09_y3QX3n4a_bIFbk_w</td>\n",
       "      <td>-0.164399</td>\n",
       "    </tr>\n",
       "    <tr>\n",
       "      <th>83</th>\n",
       "      <td>f9sU31meK0bqAD7922sCog</td>\n",
       "      <td>uW6UHfONAmm8QttPkbMewQ</td>\n",
       "      <td>-0.148342</td>\n",
       "    </tr>\n",
       "    <tr>\n",
       "      <th>26</th>\n",
       "      <td>uW6UHfONAmm8QttPkbMewQ</td>\n",
       "      <td>f9sU31meK0bqAD7922sCog</td>\n",
       "      <td>-0.148342</td>\n",
       "    </tr>\n",
       "    <tr>\n",
       "      <th>23</th>\n",
       "      <td>uW6UHfONAmm8QttPkbMewQ</td>\n",
       "      <td>YuiM5VKscO8rS1EX7f19_g</td>\n",
       "      <td>-0.129796</td>\n",
       "    </tr>\n",
       "    <tr>\n",
       "      <th>56</th>\n",
       "      <td>YuiM5VKscO8rS1EX7f19_g</td>\n",
       "      <td>uW6UHfONAmm8QttPkbMewQ</td>\n",
       "      <td>-0.129796</td>\n",
       "    </tr>\n",
       "    <tr>\n",
       "      <th>8</th>\n",
       "      <td>fHM09_y3QX3n4a_bIFbk_w</td>\n",
       "      <td>f9sU31meK0bqAD7922sCog</td>\n",
       "      <td>-0.103114</td>\n",
       "    </tr>\n",
       "    <tr>\n",
       "      <th>81</th>\n",
       "      <td>f9sU31meK0bqAD7922sCog</td>\n",
       "      <td>fHM09_y3QX3n4a_bIFbk_w</td>\n",
       "      <td>-0.103114</td>\n",
       "    </tr>\n",
       "    <tr>\n",
       "      <th>...</th>\n",
       "      <td>...</td>\n",
       "      <td>...</td>\n",
       "      <td>...</td>\n",
       "    </tr>\n",
       "    <tr>\n",
       "      <th>49</th>\n",
       "      <td>LwQB9H3jZ9wTk24Lr-AnZQ</td>\n",
       "      <td>gBfPyzPRmeOaj3SdcIj0Rw</td>\n",
       "      <td>0.060769</td>\n",
       "    </tr>\n",
       "    <tr>\n",
       "      <th>40</th>\n",
       "      <td>gBfPyzPRmeOaj3SdcIj0Rw</td>\n",
       "      <td>LwQB9H3jZ9wTk24Lr-AnZQ</td>\n",
       "      <td>0.060769</td>\n",
       "    </tr>\n",
       "    <tr>\n",
       "      <th>31</th>\n",
       "      <td>Jt28TYWanzKrJYYr0Tf1MQ</td>\n",
       "      <td>LwQB9H3jZ9wTk24Lr-AnZQ</td>\n",
       "      <td>0.075545</td>\n",
       "    </tr>\n",
       "    <tr>\n",
       "      <th>48</th>\n",
       "      <td>LwQB9H3jZ9wTk24Lr-AnZQ</td>\n",
       "      <td>Jt28TYWanzKrJYYr0Tf1MQ</td>\n",
       "      <td>0.075545</td>\n",
       "    </tr>\n",
       "    <tr>\n",
       "      <th>87</th>\n",
       "      <td>f9sU31meK0bqAD7922sCog</td>\n",
       "      <td>YuiM5VKscO8rS1EX7f19_g</td>\n",
       "      <td>0.119024</td>\n",
       "    </tr>\n",
       "    <tr>\n",
       "      <th>62</th>\n",
       "      <td>YuiM5VKscO8rS1EX7f19_g</td>\n",
       "      <td>f9sU31meK0bqAD7922sCog</td>\n",
       "      <td>0.119024</td>\n",
       "    </tr>\n",
       "    <tr>\n",
       "      <th>15</th>\n",
       "      <td>ZibmYdOPKLlqDM9oR6xzOA</td>\n",
       "      <td>qqs7LP4TXAoOrSlaKRfz3A</td>\n",
       "      <td>0.126832</td>\n",
       "    </tr>\n",
       "    <tr>\n",
       "      <th>64</th>\n",
       "      <td>qqs7LP4TXAoOrSlaKRfz3A</td>\n",
       "      <td>ZibmYdOPKLlqDM9oR6xzOA</td>\n",
       "      <td>0.126832</td>\n",
       "    </tr>\n",
       "    <tr>\n",
       "      <th>4</th>\n",
       "      <td>fHM09_y3QX3n4a_bIFbk_w</td>\n",
       "      <td>LwQB9H3jZ9wTk24Lr-AnZQ</td>\n",
       "      <td>0.161600</td>\n",
       "    </tr>\n",
       "    <tr>\n",
       "      <th>45</th>\n",
       "      <td>LwQB9H3jZ9wTk24Lr-AnZQ</td>\n",
       "      <td>fHM09_y3QX3n4a_bIFbk_w</td>\n",
       "      <td>0.161600</td>\n",
       "    </tr>\n",
       "    <tr>\n",
       "      <th>1</th>\n",
       "      <td>fHM09_y3QX3n4a_bIFbk_w</td>\n",
       "      <td>uW6UHfONAmm8QttPkbMewQ</td>\n",
       "      <td>0.205939</td>\n",
       "    </tr>\n",
       "    <tr>\n",
       "      <th>18</th>\n",
       "      <td>uW6UHfONAmm8QttPkbMewQ</td>\n",
       "      <td>fHM09_y3QX3n4a_bIFbk_w</td>\n",
       "      <td>0.205939</td>\n",
       "    </tr>\n",
       "    <tr>\n",
       "      <th>84</th>\n",
       "      <td>f9sU31meK0bqAD7922sCog</td>\n",
       "      <td>Jt28TYWanzKrJYYr0Tf1MQ</td>\n",
       "      <td>0.297020</td>\n",
       "    </tr>\n",
       "    <tr>\n",
       "      <th>35</th>\n",
       "      <td>Jt28TYWanzKrJYYr0Tf1MQ</td>\n",
       "      <td>f9sU31meK0bqAD7922sCog</td>\n",
       "      <td>0.297020</td>\n",
       "    </tr>\n",
       "    <tr>\n",
       "      <th>19</th>\n",
       "      <td>uW6UHfONAmm8QttPkbMewQ</td>\n",
       "      <td>ZibmYdOPKLlqDM9oR6xzOA</td>\n",
       "      <td>0.318352</td>\n",
       "    </tr>\n",
       "    <tr>\n",
       "      <th>10</th>\n",
       "      <td>ZibmYdOPKLlqDM9oR6xzOA</td>\n",
       "      <td>uW6UHfONAmm8QttPkbMewQ</td>\n",
       "      <td>0.318352</td>\n",
       "    </tr>\n",
       "    <tr>\n",
       "      <th>53</th>\n",
       "      <td>LwQB9H3jZ9wTk24Lr-AnZQ</td>\n",
       "      <td>f9sU31meK0bqAD7922sCog</td>\n",
       "      <td>0.318963</td>\n",
       "    </tr>\n",
       "    <tr>\n",
       "      <th>86</th>\n",
       "      <td>f9sU31meK0bqAD7922sCog</td>\n",
       "      <td>LwQB9H3jZ9wTk24Lr-AnZQ</td>\n",
       "      <td>0.318963</td>\n",
       "    </tr>\n",
       "    <tr>\n",
       "      <th>55</th>\n",
       "      <td>YuiM5VKscO8rS1EX7f19_g</td>\n",
       "      <td>ZibmYdOPKLlqDM9oR6xzOA</td>\n",
       "      <td>0.325007</td>\n",
       "    </tr>\n",
       "    <tr>\n",
       "      <th>14</th>\n",
       "      <td>ZibmYdOPKLlqDM9oR6xzOA</td>\n",
       "      <td>YuiM5VKscO8rS1EX7f19_g</td>\n",
       "      <td>0.325007</td>\n",
       "    </tr>\n",
       "    <tr>\n",
       "      <th>73</th>\n",
       "      <td>oXoVJ0xKv82cBo9U6oEjlQ</td>\n",
       "      <td>ZibmYdOPKLlqDM9oR6xzOA</td>\n",
       "      <td>0.404358</td>\n",
       "    </tr>\n",
       "    <tr>\n",
       "      <th>16</th>\n",
       "      <td>ZibmYdOPKLlqDM9oR6xzOA</td>\n",
       "      <td>oXoVJ0xKv82cBo9U6oEjlQ</td>\n",
       "      <td>0.404358</td>\n",
       "    </tr>\n",
       "    <tr>\n",
       "      <th>47</th>\n",
       "      <td>LwQB9H3jZ9wTk24Lr-AnZQ</td>\n",
       "      <td>uW6UHfONAmm8QttPkbMewQ</td>\n",
       "      <td>0.432582</td>\n",
       "    </tr>\n",
       "    <tr>\n",
       "      <th>22</th>\n",
       "      <td>uW6UHfONAmm8QttPkbMewQ</td>\n",
       "      <td>LwQB9H3jZ9wTk24Lr-AnZQ</td>\n",
       "      <td>0.432582</td>\n",
       "    </tr>\n",
       "    <tr>\n",
       "      <th>21</th>\n",
       "      <td>uW6UHfONAmm8QttPkbMewQ</td>\n",
       "      <td>gBfPyzPRmeOaj3SdcIj0Rw</td>\n",
       "      <td>0.542326</td>\n",
       "    </tr>\n",
       "    <tr>\n",
       "      <th>38</th>\n",
       "      <td>gBfPyzPRmeOaj3SdcIj0Rw</td>\n",
       "      <td>uW6UHfONAmm8QttPkbMewQ</td>\n",
       "      <td>0.542326</td>\n",
       "    </tr>\n",
       "    <tr>\n",
       "      <th>25</th>\n",
       "      <td>uW6UHfONAmm8QttPkbMewQ</td>\n",
       "      <td>oXoVJ0xKv82cBo9U6oEjlQ</td>\n",
       "      <td>0.646058</td>\n",
       "    </tr>\n",
       "    <tr>\n",
       "      <th>74</th>\n",
       "      <td>oXoVJ0xKv82cBo9U6oEjlQ</td>\n",
       "      <td>uW6UHfONAmm8QttPkbMewQ</td>\n",
       "      <td>0.646058</td>\n",
       "    </tr>\n",
       "    <tr>\n",
       "      <th>79</th>\n",
       "      <td>oXoVJ0xKv82cBo9U6oEjlQ</td>\n",
       "      <td>qqs7LP4TXAoOrSlaKRfz3A</td>\n",
       "      <td>0.668776</td>\n",
       "    </tr>\n",
       "    <tr>\n",
       "      <th>70</th>\n",
       "      <td>qqs7LP4TXAoOrSlaKRfz3A</td>\n",
       "      <td>oXoVJ0xKv82cBo9U6oEjlQ</td>\n",
       "      <td>0.668776</td>\n",
       "    </tr>\n",
       "  </tbody>\n",
       "</table>\n",
       "<p>90 rows × 3 columns</p>\n",
       "</div>"
      ],
      "text/plain": [
       "                     biz_1                   biz_2  Correlation\n",
       "89  f9sU31meK0bqAD7922sCog  oXoVJ0xKv82cBo9U6oEjlQ    -0.686050\n",
       "80  oXoVJ0xKv82cBo9U6oEjlQ  f9sU31meK0bqAD7922sCog    -0.686050\n",
       "52  LwQB9H3jZ9wTk24Lr-AnZQ  oXoVJ0xKv82cBo9U6oEjlQ    -0.504184\n",
       "77  oXoVJ0xKv82cBo9U6oEjlQ  LwQB9H3jZ9wTk24Lr-AnZQ    -0.504184\n",
       "32  Jt28TYWanzKrJYYr0Tf1MQ  YuiM5VKscO8rS1EX7f19_g    -0.500000\n",
       "57  YuiM5VKscO8rS1EX7f19_g  Jt28TYWanzKrJYYr0Tf1MQ    -0.500000\n",
       "61  YuiM5VKscO8rS1EX7f19_g  oXoVJ0xKv82cBo9U6oEjlQ    -0.324443\n",
       "78  oXoVJ0xKv82cBo9U6oEjlQ  YuiM5VKscO8rS1EX7f19_g    -0.324443\n",
       "2   fHM09_y3QX3n4a_bIFbk_w  Jt28TYWanzKrJYYr0Tf1MQ    -0.280671\n",
       "27  Jt28TYWanzKrJYYr0Tf1MQ  fHM09_y3QX3n4a_bIFbk_w    -0.280671\n",
       "11  ZibmYdOPKLlqDM9oR6xzOA  Jt28TYWanzKrJYYr0Tf1MQ    -0.262613\n",
       "28  Jt28TYWanzKrJYYr0Tf1MQ  ZibmYdOPKLlqDM9oR6xzOA    -0.262613\n",
       "76  oXoVJ0xKv82cBo9U6oEjlQ  gBfPyzPRmeOaj3SdcIj0Rw    -0.200115\n",
       "43  gBfPyzPRmeOaj3SdcIj0Rw  oXoVJ0xKv82cBo9U6oEjlQ    -0.200115\n",
       "71  qqs7LP4TXAoOrSlaKRfz3A  f9sU31meK0bqAD7922sCog    -0.191924\n",
       "88  f9sU31meK0bqAD7922sCog  qqs7LP4TXAoOrSlaKRfz3A    -0.191924\n",
       "20  uW6UHfONAmm8QttPkbMewQ  Jt28TYWanzKrJYYr0Tf1MQ    -0.191600\n",
       "29  Jt28TYWanzKrJYYr0Tf1MQ  uW6UHfONAmm8QttPkbMewQ    -0.191600\n",
       "60  YuiM5VKscO8rS1EX7f19_g  qqs7LP4TXAoOrSlaKRfz3A    -0.176989\n",
       "69  qqs7LP4TXAoOrSlaKRfz3A  YuiM5VKscO8rS1EX7f19_g    -0.176989\n",
       "12  ZibmYdOPKLlqDM9oR6xzOA  gBfPyzPRmeOaj3SdcIj0Rw    -0.166667\n",
       "37  gBfPyzPRmeOaj3SdcIj0Rw  ZibmYdOPKLlqDM9oR6xzOA    -0.166667\n",
       "3   fHM09_y3QX3n4a_bIFbk_w  gBfPyzPRmeOaj3SdcIj0Rw    -0.164399\n",
       "36  gBfPyzPRmeOaj3SdcIj0Rw  fHM09_y3QX3n4a_bIFbk_w    -0.164399\n",
       "83  f9sU31meK0bqAD7922sCog  uW6UHfONAmm8QttPkbMewQ    -0.148342\n",
       "26  uW6UHfONAmm8QttPkbMewQ  f9sU31meK0bqAD7922sCog    -0.148342\n",
       "23  uW6UHfONAmm8QttPkbMewQ  YuiM5VKscO8rS1EX7f19_g    -0.129796\n",
       "56  YuiM5VKscO8rS1EX7f19_g  uW6UHfONAmm8QttPkbMewQ    -0.129796\n",
       "8   fHM09_y3QX3n4a_bIFbk_w  f9sU31meK0bqAD7922sCog    -0.103114\n",
       "81  f9sU31meK0bqAD7922sCog  fHM09_y3QX3n4a_bIFbk_w    -0.103114\n",
       "..                     ...                     ...          ...\n",
       "49  LwQB9H3jZ9wTk24Lr-AnZQ  gBfPyzPRmeOaj3SdcIj0Rw     0.060769\n",
       "40  gBfPyzPRmeOaj3SdcIj0Rw  LwQB9H3jZ9wTk24Lr-AnZQ     0.060769\n",
       "31  Jt28TYWanzKrJYYr0Tf1MQ  LwQB9H3jZ9wTk24Lr-AnZQ     0.075545\n",
       "48  LwQB9H3jZ9wTk24Lr-AnZQ  Jt28TYWanzKrJYYr0Tf1MQ     0.075545\n",
       "87  f9sU31meK0bqAD7922sCog  YuiM5VKscO8rS1EX7f19_g     0.119024\n",
       "62  YuiM5VKscO8rS1EX7f19_g  f9sU31meK0bqAD7922sCog     0.119024\n",
       "15  ZibmYdOPKLlqDM9oR6xzOA  qqs7LP4TXAoOrSlaKRfz3A     0.126832\n",
       "64  qqs7LP4TXAoOrSlaKRfz3A  ZibmYdOPKLlqDM9oR6xzOA     0.126832\n",
       "4   fHM09_y3QX3n4a_bIFbk_w  LwQB9H3jZ9wTk24Lr-AnZQ     0.161600\n",
       "45  LwQB9H3jZ9wTk24Lr-AnZQ  fHM09_y3QX3n4a_bIFbk_w     0.161600\n",
       "1   fHM09_y3QX3n4a_bIFbk_w  uW6UHfONAmm8QttPkbMewQ     0.205939\n",
       "18  uW6UHfONAmm8QttPkbMewQ  fHM09_y3QX3n4a_bIFbk_w     0.205939\n",
       "84  f9sU31meK0bqAD7922sCog  Jt28TYWanzKrJYYr0Tf1MQ     0.297020\n",
       "35  Jt28TYWanzKrJYYr0Tf1MQ  f9sU31meK0bqAD7922sCog     0.297020\n",
       "19  uW6UHfONAmm8QttPkbMewQ  ZibmYdOPKLlqDM9oR6xzOA     0.318352\n",
       "10  ZibmYdOPKLlqDM9oR6xzOA  uW6UHfONAmm8QttPkbMewQ     0.318352\n",
       "53  LwQB9H3jZ9wTk24Lr-AnZQ  f9sU31meK0bqAD7922sCog     0.318963\n",
       "86  f9sU31meK0bqAD7922sCog  LwQB9H3jZ9wTk24Lr-AnZQ     0.318963\n",
       "55  YuiM5VKscO8rS1EX7f19_g  ZibmYdOPKLlqDM9oR6xzOA     0.325007\n",
       "14  ZibmYdOPKLlqDM9oR6xzOA  YuiM5VKscO8rS1EX7f19_g     0.325007\n",
       "73  oXoVJ0xKv82cBo9U6oEjlQ  ZibmYdOPKLlqDM9oR6xzOA     0.404358\n",
       "16  ZibmYdOPKLlqDM9oR6xzOA  oXoVJ0xKv82cBo9U6oEjlQ     0.404358\n",
       "47  LwQB9H3jZ9wTk24Lr-AnZQ  uW6UHfONAmm8QttPkbMewQ     0.432582\n",
       "22  uW6UHfONAmm8QttPkbMewQ  LwQB9H3jZ9wTk24Lr-AnZQ     0.432582\n",
       "21  uW6UHfONAmm8QttPkbMewQ  gBfPyzPRmeOaj3SdcIj0Rw     0.542326\n",
       "38  gBfPyzPRmeOaj3SdcIj0Rw  uW6UHfONAmm8QttPkbMewQ     0.542326\n",
       "25  uW6UHfONAmm8QttPkbMewQ  oXoVJ0xKv82cBo9U6oEjlQ     0.646058\n",
       "74  oXoVJ0xKv82cBo9U6oEjlQ  uW6UHfONAmm8QttPkbMewQ     0.646058\n",
       "79  oXoVJ0xKv82cBo9U6oEjlQ  qqs7LP4TXAoOrSlaKRfz3A     0.668776\n",
       "70  qqs7LP4TXAoOrSlaKRfz3A  oXoVJ0xKv82cBo9U6oEjlQ     0.668776\n",
       "\n",
       "[90 rows x 3 columns]"
      ]
     },
     "execution_count": 97,
     "metadata": {},
     "output_type": "execute_result"
    }
   ],
   "source": [
    "correlation_coefficient"
   ]
  },
  {
   "cell_type": "code",
   "execution_count": null,
   "metadata": {
    "collapsed": false
   },
   "outputs": [],
   "source": [
    "import csv\n",
    "with open(\"/Users/apple/Desktop/capstone/model/pred_restaurant_pearsonr.csv\", 'w') as csvfile:\n",
    "    fieldnames = ['biz1','biz2', 'Correlation']\n",
    "    writer = csv.DictWriter(csvfile, delimiter=\",\", fieldnames=fieldnames)\n",
    "    writer.writeheader()\n",
    "    top_biz = []\n",
    "    for i in most_reviewed_biz.business_id:\n",
    "        top_biz.append(i)\n",
    "    for biz1 in top_biz:\n",
    "    #print \"Calculating the correlations for:\", biz1\n",
    "        for biz2 in top_biz:\n",
    "            if biz1 != biz2:\n",
    "                writer.writerow({'biz1':biz1,'biz2':biz2,'Correlation':calculate_correlation(biz1, biz2)})"
   ]
  },
  {
   "cell_type": "code",
   "execution_count": null,
   "metadata": {
    "collapsed": true
   },
   "outputs": [],
   "source": [
    "print 1"
   ]
  },
  {
   "cell_type": "code",
   "execution_count": null,
   "metadata": {
    "collapsed": true
   },
   "outputs": [],
   "source": []
  }
 ],
 "metadata": {
  "kernelspec": {
   "display_name": "Python 2",
   "language": "python",
   "name": "python2"
  },
  "language_info": {
   "codemirror_mode": {
    "name": "ipython",
    "version": 2
   },
   "file_extension": ".py",
   "mimetype": "text/x-python",
   "name": "python",
   "nbconvert_exporter": "python",
   "pygments_lexer": "ipython2",
   "version": "2.7.13"
  }
 },
 "nbformat": 4,
 "nbformat_minor": 2
}
