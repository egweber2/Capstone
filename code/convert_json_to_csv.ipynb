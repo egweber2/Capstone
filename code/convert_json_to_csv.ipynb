{
 "cells": [
  {
   "cell_type": "code",
   "execution_count": 2,
   "metadata": {
    "collapsed": true
   },
   "outputs": [],
   "source": [
    "#convert json file to csv\n",
    "import pandas as pd\n",
    "import sys\n",
    "reload(sys)\n",
    "sys.setdefaultencoding(\"utf-8\")"
   ]
  },
  {
   "cell_type": "code",
   "execution_count": 44,
   "metadata": {
    "collapsed": false
   },
   "outputs": [],
   "source": [
    "yelp_business = pd.read_json(\"/Users/apple/Desktop/capstone/yelp_dataset_challenge_round9/yelp_academic_dataset_business.json\",\n",
    "            lines=True, encoding = \"utf-8\")"
   ]
  },
  {
   "cell_type": "code",
   "execution_count": 45,
   "metadata": {
    "collapsed": true
   },
   "outputs": [],
   "source": [
    "yelp_business.to_csv('yelp_business.csv')"
   ]
  },
  {
   "cell_type": "code",
   "execution_count": null,
   "metadata": {
    "collapsed": true
   },
   "outputs": [],
   "source": [
    "yelp_checkin = pd.read_json(\"/Users/apple/Desktop/capstone/yelp_dataset_challenge_round9/yelp_academic_dataset_checkin.json\",\n",
    "            lines=True, encoding = \"utf-8\")\n",
    "yelp_checkin.to_csv('yelp_checkin.csv')\n",
    "\n",
    "yelp_review = pd.read_json(\"/Users/apple/Desktop/capstone/yelp_dataset_challenge_round9/yelp_academic_dataset_review.json\",\n",
    "            lines=True, encoding = \"utf-8\")\n",
    "yelp_review.to_csv('yelp_review.csv')\n",
    "\n",
    "yelp_tip = pd.read_json(\"/Users/apple/Desktop/capstone/yelp_dataset_challenge_round9/yelp_academic_dataset_tip.json\",\n",
    "            lines=True, encoding = \"utf-8\")\n",
    "yelp_tip.to_csv('yelp_tip.csv')"
   ]
  },
  {
   "cell_type": "code",
   "execution_count": 3,
   "metadata": {
    "collapsed": false
   },
   "outputs": [],
   "source": [
    "yelp_user = pd.read_json(\"/Users/apple/Desktop/capstone/yelp_dataset_challenge_round9/yelp_academic_dataset_user.json\",\n",
    "            lines=True, encoding = \"utf-8\")\n",
    "yelp_user.to_csv('yelp_user.csv')"
   ]
  },
  {
   "cell_type": "code",
   "execution_count": null,
   "metadata": {
    "collapsed": true
   },
   "outputs": [],
   "source": []
  }
 ],
 "metadata": {
  "kernelspec": {
   "display_name": "Python 2",
   "language": "python",
   "name": "python2"
  },
  "language_info": {
   "codemirror_mode": {
    "name": "ipython",
    "version": 2
   },
   "file_extension": ".py",
   "mimetype": "text/x-python",
   "name": "python",
   "nbconvert_exporter": "python",
   "pygments_lexer": "ipython2",
   "version": "2.7.13"
  }
 },
 "nbformat": 4,
 "nbformat_minor": 2
}
