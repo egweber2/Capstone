{
 "cells": [
  {
   "cell_type": "code",
   "execution_count": 1,
   "metadata": {
    "collapsed": true
   },
   "outputs": [],
   "source": [
    "import pandas as pd\n",
    "import numpy as np"
   ]
  },
  {
   "cell_type": "code",
   "execution_count": 2,
   "metadata": {
    "collapsed": false
   },
   "outputs": [
    {
     "name": "stderr",
     "output_type": "stream",
     "text": [
      "/Users/apple/anaconda/envs/py27/lib/python2.7/site-packages/IPython/core/interactiveshell.py:2717: DtypeWarning: Columns (0,4,6,17,18,32,34,36,38,40) have mixed types. Specify dtype option on import or set low_memory=False.\n",
      "  interactivity=interactivity, compiler=compiler, result=result)\n"
     ]
    },
    {
     "data": {
      "text/plain": [
       "1325315"
      ]
     },
     "execution_count": 2,
     "metadata": {},
     "output_type": "execute_result"
    }
   ],
   "source": [
    "#Read in LasVegas full dataset\n",
    "LV_df = pd.read_csv('LV_df.csv')\n",
    "len(LV_df)"
   ]
  },
  {
   "cell_type": "code",
   "execution_count": 3,
   "metadata": {
    "collapsed": false
   },
   "outputs": [
    {
     "data": {
      "text/plain": [
       "1180769"
      ]
     },
     "execution_count": 3,
     "metadata": {},
     "output_type": "execute_result"
    }
   ],
   "source": [
    "#Select all open business\n",
    "LV_df_open = LV_df[LV_df.is_open == 1]\n",
    "len(LV_df_open)"
   ]
  },
  {
   "cell_type": "code",
   "execution_count": 4,
   "metadata": {
    "collapsed": true
   },
   "outputs": [],
   "source": [
    "#rename colnames to be more clear\n",
    "LV_df_open = LV_df_open.rename(columns={'cool_x':'cool_review','funny_x':'funny_review','stars_x':'stars_rev',\n",
    "                                        'type_x':'type_review','useful_x':'useful_review',\n",
    "                                        'name_x': 'name_biz', 'review_count_x': 'review_count_biz',\n",
    "                                        'stars_y':'stars_biz', 'type_y':'type_biz','cool_y':'cool_usr',\n",
    "                                        'funny_y':'funny_usr','name_y':'name_usr',\n",
    "                                        'review_count_y':'review_count_usr','useful_y':'useful_usr'})"
   ]
  },
  {
   "cell_type": "code",
   "execution_count": 5,
   "metadata": {
    "collapsed": false
   },
   "outputs": [
    {
     "name": "stdout",
     "output_type": "stream",
     "text": [
      "total open biz in LV: 20342\n",
      "total users: 388608\n",
      "mean # of ratings each user generated: 3.0384577775\n",
      "median # of ratings each user generated: 1.0\n",
      "mean # of reviews each business received: 58.0458656966\n",
      "median # of reviews each business received: 12.0\n"
     ]
    }
   ],
   "source": [
    "#Groupby business and user\n",
    "LV_df_BYuser = LV_df_open.groupby('user_id',as_index=False).count()\n",
    "LV_df_BYitem = LV_df_open.groupby('business_id',as_index=False).count()\n",
    "print \"total open biz in LV:\", len(LV_df_BYitem)\n",
    "print \"total users:\", len(LV_df_BYuser)\n",
    "print \"mean # of ratings each user generated:\", LV_df_BYuser.business_id.mean()\n",
    "print \"median # of ratings each user generated:\", np.median(LV_df_BYuser.business_id)\n",
    "print \"mean # of reviews each business received:\", LV_df_BYitem.user_id.mean()\n",
    "print \"median # of reviews each business received:\", np.median(LV_df_BYitem.user_id)"
   ]
  },
  {
   "cell_type": "markdown",
   "metadata": {},
   "source": [
    "# Plot business and user reviews distribution"
   ]
  },
  {
   "cell_type": "code",
   "execution_count": 6,
   "metadata": {
    "collapsed": true
   },
   "outputs": [],
   "source": [
    "%matplotlib inline\n",
    "import matplotlib.pyplot as plt\n",
    "import matplotlib\n",
    "import math"
   ]
  },
  {
   "cell_type": "code",
   "execution_count": 7,
   "metadata": {
    "collapsed": false
   },
   "outputs": [
    {
     "data": {
      "image/png": "[encoded data removed]",
      "text/plain": [
       "<matplotlib.figure.Figure at 0x112012d90>"
      ]
     },
     "metadata": {},
     "output_type": "display_data"
    }
   ],
   "source": [
    "#Histogram of number of reviews given by users\n",
    "bins = np.linspace(math.ceil(LV_df_BYuser.business_id.min()), \n",
    "                   math.floor(LV_df_BYuser.business_id.max()),\n",
    "                   20) # fixed number of bins\n",
    "\n",
    "plt.xlim([LV_df_BYuser.business_id.min()-5, LV_df_BYuser.business_id.max()+5])\n",
    "plt.ylim(0,800)\n",
    "plt.hist(LV_df_BYuser.business_id, bins=bins, alpha=0.5)\n",
    "plt.title('Users plot')\n",
    "plt.xlabel('Number of reviews')\n",
    "plt.ylabel('count')\n",
    "\n",
    "plt.show()"
   ]
  },
  {
   "cell_type": "code",
   "execution_count": 8,
   "metadata": {
    "collapsed": false
   },
   "outputs": [
    {
     "data": {
      "image/png": "[encoded data removed]",
      "text/plain": [
       "<matplotlib.figure.Figure at 0x112287910>"
      ]
     },
     "metadata": {},
     "output_type": "display_data"
    }
   ],
   "source": [
    "#Histogram of number of reviews received by business\n",
    "bins = np.linspace(math.ceil(LV_df_BYitem.user_id.min()), \n",
    "                   math.floor(LV_df_BYitem.user_id.max()),\n",
    "                   20) # fixed number of bins\n",
    "\n",
    "plt.xlim([LV_df_BYitem.user_id.min()-5, LV_df_BYitem.user_id.max()+5])\n",
    "plt.ylim(0,100)\n",
    "plt.hist(LV_df_BYitem.user_id, bins=bins, alpha=0.5)\n",
    "plt.title('Business plot')\n",
    "plt.xlabel('Number of reviews')\n",
    "plt.ylabel('count')\n",
    "\n",
    "plt.show()"
   ]
  },
  {
   "cell_type": "markdown",
   "metadata": {},
   "source": [
    "# Experts"
   ]
  },
  {
   "cell_type": "code",
   "execution_count": 9,
   "metadata": {
    "collapsed": false
   },
   "outputs": [],
   "source": [
    "#Tried to trim users who gave less or equal than median # of reviews(1)\n",
    "usr_left = pd.DataFrame(LV_df_BYuser[LV_df_BYuser.business_id > 1].iloc[:,0])"
   ]
  },
  {
   "cell_type": "code",
   "execution_count": 10,
   "metadata": {
    "collapsed": true
   },
   "outputs": [],
   "source": [
    "usr_left['left']=1"
   ]
  },
  {
   "cell_type": "code",
   "execution_count": 11,
   "metadata": {
    "collapsed": false
   },
   "outputs": [
    {
     "data": {
      "text/html": [
       "<div>\n",
       "<table border=\"1\" class=\"dataframe\">\n",
       "  <thead>\n",
       "    <tr style=\"text-align: right;\">\n",
       "      <th></th>\n",
       "      <th>user_id</th>\n",
       "      <th>left</th>\n",
       "    </tr>\n",
       "  </thead>\n",
       "  <tbody>\n",
       "    <tr>\n",
       "      <th>0</th>\n",
       "      <td>---1lKK3aKOuomHnwAkAow</td>\n",
       "      <td>1</td>\n",
       "    </tr>\n",
       "    <tr>\n",
       "      <th>2</th>\n",
       "      <td>--0kuuLmuYBe3Rmu0Iycww</td>\n",
       "      <td>1</td>\n",
       "    </tr>\n",
       "    <tr>\n",
       "      <th>4</th>\n",
       "      <td>--104qdWvE99vaoIsj9ZJQ</td>\n",
       "      <td>1</td>\n",
       "    </tr>\n",
       "    <tr>\n",
       "      <th>5</th>\n",
       "      <td>--1mPJZdSY9KluaBYAGboQ</td>\n",
       "      <td>1</td>\n",
       "    </tr>\n",
       "    <tr>\n",
       "      <th>7</th>\n",
       "      <td>--2vR0DIsmQ6WfcSzKWigw</td>\n",
       "      <td>1</td>\n",
       "    </tr>\n",
       "  </tbody>\n",
       "</table>\n",
       "</div>"
      ],
      "text/plain": [
       "                  user_id  left\n",
       "0  ---1lKK3aKOuomHnwAkAow     1\n",
       "2  --0kuuLmuYBe3Rmu0Iycww     1\n",
       "4  --104qdWvE99vaoIsj9ZJQ     1\n",
       "5  --1mPJZdSY9KluaBYAGboQ     1\n",
       "7  --2vR0DIsmQ6WfcSzKWigw     1"
      ]
     },
     "execution_count": 11,
     "metadata": {},
     "output_type": "execute_result"
    }
   ],
   "source": [
    "usr_left.head()"
   ]
  },
  {
   "cell_type": "code",
   "execution_count": 12,
   "metadata": {
    "collapsed": false
   },
   "outputs": [],
   "source": [
    "#Business left after trim users\n",
    "result = pd.merge(LV_df_open, usr_left, on='user_id', how='inner')"
   ]
  },
  {
   "cell_type": "code",
   "execution_count": 13,
   "metadata": {
    "collapsed": false
   },
   "outputs": [
    {
     "data": {
      "text/plain": [
       "955923"
      ]
     },
     "execution_count": 13,
     "metadata": {},
     "output_type": "execute_result"
    }
   ],
   "source": [
    "len(result)"
   ]
  },
  {
   "cell_type": "code",
   "execution_count": 14,
   "metadata": {
    "collapsed": false
   },
   "outputs": [
    {
     "data": {
      "text/plain": [
       "0.8095766403081381"
      ]
     },
     "execution_count": 14,
     "metadata": {},
     "output_type": "execute_result"
    }
   ],
   "source": [
    "len(result)/(1.0*len(LV_df_open))"
   ]
  },
  {
   "cell_type": "code",
   "execution_count": 15,
   "metadata": {
    "collapsed": false
   },
   "outputs": [
    {
     "data": {
      "text/html": [
       "<div>\n",
       "<table border=\"1\" class=\"dataframe\">\n",
       "  <thead>\n",
       "    <tr style=\"text-align: right;\">\n",
       "      <th></th>\n",
       "      <th>business_id</th>\n",
       "      <th>left</th>\n",
       "    </tr>\n",
       "  </thead>\n",
       "  <tbody>\n",
       "    <tr>\n",
       "      <th>0</th>\n",
       "      <td>--9e1ONYQuAa-CB_Rrw7Tw</td>\n",
       "      <td>1</td>\n",
       "    </tr>\n",
       "    <tr>\n",
       "      <th>4</th>\n",
       "      <td>--e8PjCNhEz32pprnPhCwQ</td>\n",
       "      <td>1</td>\n",
       "    </tr>\n",
       "    <tr>\n",
       "      <th>6</th>\n",
       "      <td>--z7PM8AGaJP0aBmGMY7RA</td>\n",
       "      <td>1</td>\n",
       "    </tr>\n",
       "    <tr>\n",
       "      <th>7</th>\n",
       "      <td>-0BxAGlIk5DJAGVkpqBXxg</td>\n",
       "      <td>1</td>\n",
       "    </tr>\n",
       "    <tr>\n",
       "      <th>10</th>\n",
       "      <td>-0qht1roIqleKiQkBLDkbw</td>\n",
       "      <td>1</td>\n",
       "    </tr>\n",
       "  </tbody>\n",
       "</table>\n",
       "</div>"
      ],
      "text/plain": [
       "               business_id  left\n",
       "0   --9e1ONYQuAa-CB_Rrw7Tw     1\n",
       "4   --e8PjCNhEz32pprnPhCwQ     1\n",
       "6   --z7PM8AGaJP0aBmGMY7RA     1\n",
       "7   -0BxAGlIk5DJAGVkpqBXxg     1\n",
       "10  -0qht1roIqleKiQkBLDkbw     1"
      ]
     },
     "execution_count": 15,
     "metadata": {},
     "output_type": "execute_result"
    }
   ],
   "source": [
    "#Tried to trim business which received less or equal than median # of reviews(12)\n",
    "biz_left = pd.DataFrame(LV_df_BYitem[LV_df_BYitem.user_id > 12].iloc[:,0])\n",
    "biz_left['left']=1\n",
    "biz_left.head()"
   ]
  },
  {
   "cell_type": "code",
   "execution_count": 16,
   "metadata": {
    "collapsed": false
   },
   "outputs": [
    {
     "data": {
      "text/plain": [
       "0.9465263739139493"
      ]
     },
     "execution_count": 16,
     "metadata": {},
     "output_type": "execute_result"
    }
   ],
   "source": [
    "result_biz = pd.merge(LV_df_open, biz_left, on='business_id', how='inner')\n",
    "len(result_biz)/(1.0*len(LV_df_open))"
   ]
  },
  {
   "cell_type": "markdown",
   "metadata": {},
   "source": [
    "# User explor"
   ]
  },
  {
   "cell_type": "code",
   "execution_count": 17,
   "metadata": {
    "collapsed": true
   },
   "outputs": [],
   "source": [
    "yelp_usr = pd.read_csv('yelp_user.csv')"
   ]
  },
  {
   "cell_type": "code",
   "execution_count": 18,
   "metadata": {
    "collapsed": false
   },
   "outputs": [],
   "source": [
    "yelp_biz = pd.read_csv('yelp_business.csv')"
   ]
  },
  {
   "cell_type": "code",
   "execution_count": 19,
   "metadata": {
    "collapsed": false
   },
   "outputs": [
    {
     "name": "stderr",
     "output_type": "stream",
     "text": [
      "/Users/apple/anaconda/envs/py27/lib/python2.7/site-packages/IPython/core/interactiveshell.py:2717: DtypeWarning: Columns (0) have mixed types. Specify dtype option on import or set low_memory=False.\n",
      "  interactivity=interactivity, compiler=compiler, result=result)\n"
     ]
    }
   ],
   "source": [
    "yelp_review = pd.read_csv('yelp_review.csv')"
   ]
  },
  {
   "cell_type": "code",
   "execution_count": null,
   "metadata": {
    "collapsed": true
   },
   "outputs": [],
   "source": [
    "biz_rev_usr = pd.merge(pd.merge(yelp_review, yelp_biz, on='business_id'), yelp_usr, on='user_id')"
   ]
  },
  {
   "cell_type": "code",
   "execution_count": 106,
   "metadata": {
    "collapsed": false
   },
   "outputs": [
    {
     "data": {
      "text/plain": [
       "array(['Unnamed: 0_x', 'business_id', 'cool_x', 'date', 'funny_x',\n",
       "       'review_id', 'stars_x', 'text', 'type_x', 'useful_x', 'user_id',\n",
       "       'Unnamed: 0_y', 'address', 'attributes', 'categories', 'city',\n",
       "       'hours', 'is_open', 'latitude', 'longitude', 'name_x',\n",
       "       'neighborhood', 'postal_code', 'review_count_x', 'stars_y', 'state',\n",
       "       'type_y', 'Unnamed: 0', 'average_stars', 'compliment_cool',\n",
       "       'compliment_cute', 'compliment_funny', 'compliment_hot',\n",
       "       'compliment_list', 'compliment_more', 'compliment_note',\n",
       "       'compliment_photos', 'compliment_plain', 'compliment_profile',\n",
       "       'compliment_writer', 'cool_y', 'elite', 'fans', 'friends',\n",
       "       'funny_y', 'name_y', 'review_count_y', 'type', 'useful_y',\n",
       "       'yelping_since'], dtype=object)"
      ]
     },
     "execution_count": 106,
     "metadata": {},
     "output_type": "execute_result"
    }
   ],
   "source": [
    "biz_rev_usr.columns.values"
   ]
  },
  {
   "cell_type": "code",
   "execution_count": null,
   "metadata": {
    "collapsed": true
   },
   "outputs": [],
   "source": [
    "yelp_df = biz_rev_usr[['business_id','review_id','user_id','city','is_open','name_x',\n",
    "                      'state','review_count_y']]"
   ]
  },
  {
   "cell_type": "code",
   "execution_count": null,
   "metadata": {
    "collapsed": true
   },
   "outputs": [],
   "source": []
  }
 ],
 "metadata": {
  "celltoolbar": "Raw Cell Format",
  "kernelspec": {
   "display_name": "Python 2",
   "language": "python",
   "name": "python2"
  },
  "language_info": {
   "codemirror_mode": {
    "name": "ipython",
    "version": 2
   },
   "file_extension": ".py",
   "mimetype": "text/x-python",
   "name": "python",
   "nbconvert_exporter": "python",
   "pygments_lexer": "ipython2",
   "version": "2.7.13"
  }
 },
 "nbformat": 4,
 "nbformat_minor": 2
}
