{
 "cells": [
  {
   "cell_type": "code",
   "execution_count": 1,
   "metadata": {
    "collapsed": true
   },
   "outputs": [],
   "source": [
    "import pandas as pd"
   ]
  },
  {
   "cell_type": "code",
   "execution_count": 2,
   "metadata": {
    "collapsed": false
   },
   "outputs": [],
   "source": [
    "cat_sim = pd.read_csv('/Users/ethanweber/Desktop/categ_corr.csv', sep = '|')"
   ]
  },
  {
   "cell_type": "code",
   "execution_count": 3,
   "metadata": {
    "collapsed": false
   },
   "outputs": [],
   "source": [
    "attrib_sim = pd.read_csv('/Users/ethanweber/Desktop/attrib_corr.csv', sep = '|')"
   ]
  },
  {
   "cell_type": "code",
   "execution_count": 4,
   "metadata": {
    "collapsed": true
   },
   "outputs": [],
   "source": [
    "text_sim = pd.read_csv('/Users/ethanweber/Desktop/cosine_corr.csv', sep = '|')"
   ]
  },
  {
   "cell_type": "code",
   "execution_count": 5,
   "metadata": {
    "collapsed": false
   },
   "outputs": [
    {
     "name": "stdout",
     "output_type": "stream",
     "text": [
      "Index([u'biz_1', u'biz_2', u'Euclidean'], dtype='object')\n",
      "Index([u'biz_1', u'biz_2', u'Correlation'], dtype='object')\n",
      "Index([u'biz_1', u'biz_2', u'Correlation'], dtype='object')\n"
     ]
    }
   ],
   "source": [
    "print cat_sim.columns\n",
    "print attrib_sim.columns\n",
    "print text_sim.columns"
   ]
  },
  {
   "cell_type": "code",
   "execution_count": 6,
   "metadata": {
    "collapsed": false
   },
   "outputs": [],
   "source": [
    "text_sim['text_similarity'] = text_sim.Correlation\n",
    "del text_sim['Correlation']\n",
    "cat_sim['cat_sim'] = cat_sim.Euclidean\n",
    "del cat_sim['Euclidean']\n",
    "attrib_sim['attrib_sim'] = attrib_sim.Correlation\n",
    "del attrib_sim['Correlation']"
   ]
  },
  {
   "cell_type": "code",
   "execution_count": null,
   "metadata": {
    "collapsed": false
   },
   "outputs": [],
   "source": []
  },
  {
   "cell_type": "code",
   "execution_count": 7,
   "metadata": {
    "collapsed": false
   },
   "outputs": [],
   "source": [
    "text_sim2 = text_sim\n",
    "indexer = list(text_sim.index)\n",
    "indexer = map(int, indexer)\n",
    "text_sim2.index = map(lambda x: x + 11431371, indexer)"
   ]
  },
  {
   "cell_type": "code",
   "execution_count": 8,
   "metadata": {
    "collapsed": false
   },
   "outputs": [],
   "source": [
    "b2 = list(text_sim.biz_1)\n",
    "b1 = list(text_sim.biz_2)\n",
    "text_sim['biz_1'] = b1\n",
    "text_sim['biz_2'] = b2\n",
    "del b1\n",
    "del b2"
   ]
  },
  {
   "cell_type": "code",
   "execution_count": 9,
   "metadata": {
    "collapsed": false
   },
   "outputs": [],
   "source": [
    "text_sim = text_sim.append(text_sim2)"
   ]
  },
  {
   "cell_type": "code",
   "execution_count": 10,
   "metadata": {
    "collapsed": false,
    "scrolled": true
   },
   "outputs": [
    {
     "name": "stdout",
     "output_type": "stream",
     "text": [
      "22862742\n"
     ]
    },
    {
     "data": {
      "text/html": [
       "<div>\n",
       "<table border=\"1\" class=\"dataframe\">\n",
       "  <thead>\n",
       "    <tr style=\"text-align: right;\">\n",
       "      <th></th>\n",
       "      <th>biz_1</th>\n",
       "      <th>biz_2</th>\n",
       "      <th>text_similarity</th>\n",
       "    </tr>\n",
       "  </thead>\n",
       "  <tbody>\n",
       "    <tr>\n",
       "      <th>0</th>\n",
       "      <td>--q7kSBRb0vWC8lSkXFByA</td>\n",
       "      <td>--9e1ONYQuAa-CB_Rrw7Tw</td>\n",
       "      <td>0.784047</td>\n",
       "    </tr>\n",
       "    <tr>\n",
       "      <th>1</th>\n",
       "      <td>-153AjTW5luZPK4omEujWA</td>\n",
       "      <td>--9e1ONYQuAa-CB_Rrw7Tw</td>\n",
       "      <td>0.891154</td>\n",
       "    </tr>\n",
       "    <tr>\n",
       "      <th>2</th>\n",
       "      <td>-1vfRrlnNnNJ5boOVghMPA</td>\n",
       "      <td>--9e1ONYQuAa-CB_Rrw7Tw</td>\n",
       "      <td>0.765952</td>\n",
       "    </tr>\n",
       "    <tr>\n",
       "      <th>3</th>\n",
       "      <td>-3zffZUHoY8bQjGfPSoBKQ</td>\n",
       "      <td>--9e1ONYQuAa-CB_Rrw7Tw</td>\n",
       "      <td>0.439879</td>\n",
       "    </tr>\n",
       "    <tr>\n",
       "      <th>4</th>\n",
       "      <td>-8R_-EkGpUhBk55K9Dd4mg</td>\n",
       "      <td>--9e1ONYQuAa-CB_Rrw7Tw</td>\n",
       "      <td>0.836864</td>\n",
       "    </tr>\n",
       "  </tbody>\n",
       "</table>\n",
       "</div>"
      ],
      "text/plain": [
       "                    biz_1                   biz_2  text_similarity\n",
       "0  --q7kSBRb0vWC8lSkXFByA  --9e1ONYQuAa-CB_Rrw7Tw         0.784047\n",
       "1  -153AjTW5luZPK4omEujWA  --9e1ONYQuAa-CB_Rrw7Tw         0.891154\n",
       "2  -1vfRrlnNnNJ5boOVghMPA  --9e1ONYQuAa-CB_Rrw7Tw         0.765952\n",
       "3  -3zffZUHoY8bQjGfPSoBKQ  --9e1ONYQuAa-CB_Rrw7Tw         0.439879\n",
       "4  -8R_-EkGpUhBk55K9Dd4mg  --9e1ONYQuAa-CB_Rrw7Tw         0.836864"
      ]
     },
     "execution_count": 10,
     "metadata": {},
     "output_type": "execute_result"
    }
   ],
   "source": [
    "text_sim = text_sim.reset_index()\n",
    "del text_sim['index']\n",
    "print len(text_sim)\n",
    "text_sim.head()"
   ]
  },
  {
   "cell_type": "code",
   "execution_count": null,
   "metadata": {
    "collapsed": false
   },
   "outputs": [],
   "source": []
  },
  {
   "cell_type": "code",
   "execution_count": 11,
   "metadata": {
    "collapsed": false
   },
   "outputs": [
    {
     "name": "stdout",
     "output_type": "stream",
     "text": [
      "attributes + correlation make...  8374278\n"
     ]
    },
    {
     "data": {
      "text/html": [
       "<div>\n",
       "<table border=\"1\" class=\"dataframe\">\n",
       "  <thead>\n",
       "    <tr style=\"text-align: right;\">\n",
       "      <th></th>\n",
       "      <th>biz_1</th>\n",
       "      <th>biz_2</th>\n",
       "      <th>attrib_sim</th>\n",
       "      <th>cat_sim</th>\n",
       "    </tr>\n",
       "  </thead>\n",
       "  <tbody>\n",
       "    <tr>\n",
       "      <th>0</th>\n",
       "      <td>CiYLq33nAyghFkUR15pP-Q</td>\n",
       "      <td>P7pxQFqr7yBKMMI2J51udw</td>\n",
       "      <td>0.204178</td>\n",
       "      <td>2.449490</td>\n",
       "    </tr>\n",
       "    <tr>\n",
       "      <th>1</th>\n",
       "      <td>CiYLq33nAyghFkUR15pP-Q</td>\n",
       "      <td>g8OnV26ywJlZpezdBnOWUQ</td>\n",
       "      <td>0.190573</td>\n",
       "      <td>1.732051</td>\n",
       "    </tr>\n",
       "    <tr>\n",
       "      <th>2</th>\n",
       "      <td>CiYLq33nAyghFkUR15pP-Q</td>\n",
       "      <td>gTlDDzDEHyDQ6iwjNhpI6A</td>\n",
       "      <td>0.128220</td>\n",
       "      <td>1.414214</td>\n",
       "    </tr>\n",
       "    <tr>\n",
       "      <th>3</th>\n",
       "      <td>CiYLq33nAyghFkUR15pP-Q</td>\n",
       "      <td>-WLrZPzjKfrftLWaCi1QZQ</td>\n",
       "      <td>0.179217</td>\n",
       "      <td>1.732051</td>\n",
       "    </tr>\n",
       "    <tr>\n",
       "      <th>4</th>\n",
       "      <td>CiYLq33nAyghFkUR15pP-Q</td>\n",
       "      <td>3LWsVfsSmb_Nzbi2YQ-NIA</td>\n",
       "      <td>0.190573</td>\n",
       "      <td>2.645751</td>\n",
       "    </tr>\n",
       "  </tbody>\n",
       "</table>\n",
       "</div>"
      ],
      "text/plain": [
       "                    biz_1                   biz_2  attrib_sim   cat_sim\n",
       "0  CiYLq33nAyghFkUR15pP-Q  P7pxQFqr7yBKMMI2J51udw    0.204178  2.449490\n",
       "1  CiYLq33nAyghFkUR15pP-Q  g8OnV26ywJlZpezdBnOWUQ    0.190573  1.732051\n",
       "2  CiYLq33nAyghFkUR15pP-Q  gTlDDzDEHyDQ6iwjNhpI6A    0.128220  1.414214\n",
       "3  CiYLq33nAyghFkUR15pP-Q  -WLrZPzjKfrftLWaCi1QZQ    0.179217  1.732051\n",
       "4  CiYLq33nAyghFkUR15pP-Q  3LWsVfsSmb_Nzbi2YQ-NIA    0.190573  2.645751"
      ]
     },
     "execution_count": 11,
     "metadata": {},
     "output_type": "execute_result"
    }
   ],
   "source": [
    "full_df = pd.merge(attrib_sim, cat_sim, how = 'inner', on = ['biz_1', 'biz_2'])\n",
    "print \"attributes + correlation make... \", len(full_df)\n",
    "full_df.head()"
   ]
  },
  {
   "cell_type": "code",
   "execution_count": null,
   "metadata": {
    "collapsed": false,
    "scrolled": true
   },
   "outputs": [],
   "source": []
  },
  {
   "cell_type": "code",
   "execution_count": null,
   "metadata": {
    "collapsed": true
   },
   "outputs": [],
   "source": []
  },
  {
   "cell_type": "code",
   "execution_count": 12,
   "metadata": {
    "collapsed": false,
    "scrolled": true
   },
   "outputs": [
    {
     "name": "stdout",
     "output_type": "stream",
     "text": [
      "full_df + text_sim makes... 11194846\n"
     ]
    },
    {
     "data": {
      "text/html": [
       "<div>\n",
       "<table border=\"1\" class=\"dataframe\">\n",
       "  <thead>\n",
       "    <tr style=\"text-align: right;\">\n",
       "      <th></th>\n",
       "      <th>biz_1</th>\n",
       "      <th>biz_2</th>\n",
       "      <th>attrib_sim</th>\n",
       "      <th>cat_sim</th>\n",
       "      <th>text_similarity</th>\n",
       "    </tr>\n",
       "  </thead>\n",
       "  <tbody>\n",
       "    <tr>\n",
       "      <th>0</th>\n",
       "      <td>CiYLq33nAyghFkUR15pP-Q</td>\n",
       "      <td>P7pxQFqr7yBKMMI2J51udw</td>\n",
       "      <td>0.204178</td>\n",
       "      <td>2.449490</td>\n",
       "      <td>NaN</td>\n",
       "    </tr>\n",
       "    <tr>\n",
       "      <th>1</th>\n",
       "      <td>CiYLq33nAyghFkUR15pP-Q</td>\n",
       "      <td>g8OnV26ywJlZpezdBnOWUQ</td>\n",
       "      <td>0.190573</td>\n",
       "      <td>1.732051</td>\n",
       "      <td>NaN</td>\n",
       "    </tr>\n",
       "    <tr>\n",
       "      <th>2</th>\n",
       "      <td>CiYLq33nAyghFkUR15pP-Q</td>\n",
       "      <td>gTlDDzDEHyDQ6iwjNhpI6A</td>\n",
       "      <td>0.128220</td>\n",
       "      <td>1.414214</td>\n",
       "      <td>NaN</td>\n",
       "    </tr>\n",
       "    <tr>\n",
       "      <th>3</th>\n",
       "      <td>CiYLq33nAyghFkUR15pP-Q</td>\n",
       "      <td>-WLrZPzjKfrftLWaCi1QZQ</td>\n",
       "      <td>0.179217</td>\n",
       "      <td>1.732051</td>\n",
       "      <td>0.844481</td>\n",
       "    </tr>\n",
       "    <tr>\n",
       "      <th>4</th>\n",
       "      <td>CiYLq33nAyghFkUR15pP-Q</td>\n",
       "      <td>-WLrZPzjKfrftLWaCi1QZQ</td>\n",
       "      <td>0.179217</td>\n",
       "      <td>1.732051</td>\n",
       "      <td>0.844481</td>\n",
       "    </tr>\n",
       "  </tbody>\n",
       "</table>\n",
       "</div>"
      ],
      "text/plain": [
       "                    biz_1                   biz_2  attrib_sim   cat_sim  \\\n",
       "0  CiYLq33nAyghFkUR15pP-Q  P7pxQFqr7yBKMMI2J51udw    0.204178  2.449490   \n",
       "1  CiYLq33nAyghFkUR15pP-Q  g8OnV26ywJlZpezdBnOWUQ    0.190573  1.732051   \n",
       "2  CiYLq33nAyghFkUR15pP-Q  gTlDDzDEHyDQ6iwjNhpI6A    0.128220  1.414214   \n",
       "3  CiYLq33nAyghFkUR15pP-Q  -WLrZPzjKfrftLWaCi1QZQ    0.179217  1.732051   \n",
       "4  CiYLq33nAyghFkUR15pP-Q  -WLrZPzjKfrftLWaCi1QZQ    0.179217  1.732051   \n",
       "\n",
       "   text_similarity  \n",
       "0              NaN  \n",
       "1              NaN  \n",
       "2              NaN  \n",
       "3         0.844481  \n",
       "4         0.844481  "
      ]
     },
     "execution_count": 12,
     "metadata": {},
     "output_type": "execute_result"
    }
   ],
   "source": [
    "full_df = pd.merge(full_df, text_sim, how = 'left', on = ['biz_1', 'biz_2'])\n",
    "print 'full_df + text_sim makes...', len(full_df)\n",
    "full_df.head()"
   ]
  },
  {
   "cell_type": "code",
   "execution_count": 13,
   "metadata": {
    "collapsed": false
   },
   "outputs": [
    {
     "data": {
      "text/plain": [
       "8374278"
      ]
     },
     "execution_count": 13,
     "metadata": {},
     "output_type": "execute_result"
    }
   ],
   "source": [
    "full_df = full_df.drop_duplicates()\n",
    "len(full_df)"
   ]
  },
  {
   "cell_type": "code",
   "execution_count": null,
   "metadata": {
    "collapsed": false
   },
   "outputs": [],
   "source": [
    "import matplotlib.pyplot as plt\n",
    "%matplotlib"
   ]
  },
  {
   "cell_type": "code",
   "execution_count": null,
   "metadata": {
    "collapsed": false
   },
   "outputs": [],
   "source": [
    "min(full_df.Correlation)"
   ]
  },
  {
   "cell_type": "code",
   "execution_count": null,
   "metadata": {
    "collapsed": false
   },
   "outputs": [],
   "source": [
    "import numpy as np\n"
   ]
  },
  {
   "cell_type": "code",
   "execution_count": null,
   "metadata": {
    "collapsed": false,
    "scrolled": true
   },
   "outputs": [],
   "source": [
    "'Correlation appears normal'\n",
    "\n",
    "plt.hist(np.array(filter(lambda x: x != None, map(lambda x: x*1000.0 if (1.0*x == x) else None, full_df.Correlation))))"
   ]
  },
  {
   "cell_type": "code",
   "execution_count": null,
   "metadata": {
    "collapsed": false
   },
   "outputs": [],
   "source": [
    "plt.hist(np.array(filter(lambda x: x != None, map(lambda x: x*1000.0 if (1.0*x == x) else None, full_df.euclidean_dist_categories))))"
   ]
  },
  {
   "cell_type": "code",
   "execution_count": null,
   "metadata": {
    "collapsed": true
   },
   "outputs": [],
   "source": [
    "import math"
   ]
  },
  {
   "cell_type": "code",
   "execution_count": null,
   "metadata": {
    "collapsed": false
   },
   "outputs": [],
   "source": [
    "plt.hist(np.array(filter(lambda x: x != None, map(lambda x: np.log(x*1.0)*1000.0 if (1.0*x == x) else None, full_df.text_similarity))))"
   ]
  },
  {
   "cell_type": "code",
   "execution_count": null,
   "metadata": {
    "collapsed": false
   },
   "outputs": [],
   "source": [
    "plt.hist(np.array(filter(lambda x: x != None, map(lambda x: x*1000.0 if (1.0*x == x) else None, full_df.text_similarity))))"
   ]
  },
  {
   "cell_type": "code",
   "execution_count": 19,
   "metadata": {
    "collapsed": false
   },
   "outputs": [],
   "source": [
    "full_df['text_sim'] = full_df.text_similarity\n",
    "del full_df['text_similarity']"
   ]
  },
  {
   "cell_type": "code",
   "execution_count": 20,
   "metadata": {
    "collapsed": false
   },
   "outputs": [],
   "source": [
    "text_mean = np.array(filter(lambda x: x != None, map(lambda x: float(x) if (1.0*x == x) else None, full_df.text_sim))).mean()\n",
    "text_std = np.array(filter(lambda x: x != None, map(lambda x: float(x) if (1.0*x == x) else None, full_df.text_sim))).std()"
   ]
  },
  {
   "cell_type": "code",
   "execution_count": 22,
   "metadata": {
    "collapsed": false
   },
   "outputs": [],
   "source": [
    "attrib_mean = np.array(filter(lambda x: x != None, map(lambda x: float(x) if (1.0*x == x) else None, full_df.attrib_sim))).mean()\n",
    "attrib_std = np.array(filter(lambda x: x != None, map(lambda x: float(x) if (1.0*x == x) else None, full_df.attrib_sim))).std()"
   ]
  },
  {
   "cell_type": "code",
   "execution_count": 23,
   "metadata": {
    "collapsed": true
   },
   "outputs": [],
   "source": [
    "cat_mean = np.array(filter(lambda x: x != None, map(lambda x: float(x) if (1.0*x == x) else None, full_df.cat_sim))).mean()\n",
    "cat_std = np.array(filter(lambda x: x != None, map(lambda x: float(x) if (1.0*x == x) else None, full_df.cat_sim))).std()"
   ]
  },
  {
   "cell_type": "code",
   "execution_count": 24,
   "metadata": {
    "collapsed": true
   },
   "outputs": [],
   "source": [
    "norm_cat = lambda x: (x - cat_mean) / cat_std\n",
    "norm_attrib = lambda x: (x - attrib_mean) / attrib_std\n",
    "norm_text = lambda x: (x - text_mean) / text_std"
   ]
  },
  {
   "cell_type": "code",
   "execution_count": null,
   "metadata": {
    "collapsed": true
   },
   "outputs": [],
   "source": [
    "import numpy as np\n",
    "text_mean = np.array(filter(lambda x: x != None, map(lambda x: float(x) if (1.0*x == x) else None, full_df.text_sim))).mean()\n",
    "text_std = np.array(filter(lambda x: x != None, map(lambda x: float(x) if (1.0*x == x) else None, full_df.text_sim))).std()\n",
    "full_df['text_norm'] = map(norm_text, full_df.text_sim)"
   ]
  },
  {
   "cell_type": "code",
   "execution_count": 26,
   "metadata": {
    "collapsed": false
   },
   "outputs": [
    {
     "data": {
      "text/html": [
       "<div>\n",
       "<table border=\"1\" class=\"dataframe\">\n",
       "  <thead>\n",
       "    <tr style=\"text-align: right;\">\n",
       "      <th></th>\n",
       "      <th>biz_1</th>\n",
       "      <th>biz_2</th>\n",
       "      <th>attrib_sim</th>\n",
       "      <th>cat_sim</th>\n",
       "      <th>text_sim</th>\n",
       "    </tr>\n",
       "  </thead>\n",
       "  <tbody>\n",
       "    <tr>\n",
       "      <th>0</th>\n",
       "      <td>CiYLq33nAyghFkUR15pP-Q</td>\n",
       "      <td>P7pxQFqr7yBKMMI2J51udw</td>\n",
       "      <td>0.204178</td>\n",
       "      <td>2.449490</td>\n",
       "      <td>NaN</td>\n",
       "    </tr>\n",
       "    <tr>\n",
       "      <th>1</th>\n",
       "      <td>CiYLq33nAyghFkUR15pP-Q</td>\n",
       "      <td>g8OnV26ywJlZpezdBnOWUQ</td>\n",
       "      <td>0.190573</td>\n",
       "      <td>1.732051</td>\n",
       "      <td>NaN</td>\n",
       "    </tr>\n",
       "    <tr>\n",
       "      <th>2</th>\n",
       "      <td>CiYLq33nAyghFkUR15pP-Q</td>\n",
       "      <td>gTlDDzDEHyDQ6iwjNhpI6A</td>\n",
       "      <td>0.128220</td>\n",
       "      <td>1.414214</td>\n",
       "      <td>NaN</td>\n",
       "    </tr>\n",
       "    <tr>\n",
       "      <th>3</th>\n",
       "      <td>CiYLq33nAyghFkUR15pP-Q</td>\n",
       "      <td>-WLrZPzjKfrftLWaCi1QZQ</td>\n",
       "      <td>0.179217</td>\n",
       "      <td>1.732051</td>\n",
       "      <td>0.844481</td>\n",
       "    </tr>\n",
       "    <tr>\n",
       "      <th>5</th>\n",
       "      <td>CiYLq33nAyghFkUR15pP-Q</td>\n",
       "      <td>3LWsVfsSmb_Nzbi2YQ-NIA</td>\n",
       "      <td>0.190573</td>\n",
       "      <td>2.645751</td>\n",
       "      <td>0.913515</td>\n",
       "    </tr>\n",
       "  </tbody>\n",
       "</table>\n",
       "</div>"
      ],
      "text/plain": [
       "                    biz_1                   biz_2  attrib_sim   cat_sim  \\\n",
       "0  CiYLq33nAyghFkUR15pP-Q  P7pxQFqr7yBKMMI2J51udw    0.204178  2.449490   \n",
       "1  CiYLq33nAyghFkUR15pP-Q  g8OnV26ywJlZpezdBnOWUQ    0.190573  1.732051   \n",
       "2  CiYLq33nAyghFkUR15pP-Q  gTlDDzDEHyDQ6iwjNhpI6A    0.128220  1.414214   \n",
       "3  CiYLq33nAyghFkUR15pP-Q  -WLrZPzjKfrftLWaCi1QZQ    0.179217  1.732051   \n",
       "5  CiYLq33nAyghFkUR15pP-Q  3LWsVfsSmb_Nzbi2YQ-NIA    0.190573  2.645751   \n",
       "\n",
       "   text_sim  \n",
       "0       NaN  \n",
       "1       NaN  \n",
       "2       NaN  \n",
       "3  0.844481  \n",
       "5  0.913515  "
      ]
     },
     "execution_count": 26,
     "metadata": {},
     "output_type": "execute_result"
    }
   ],
   "source": [
    "full_df.head()"
   ]
  },
  {
   "cell_type": "code",
   "execution_count": null,
   "metadata": {
    "collapsed": true
   },
   "outputs": [],
   "source": []
  },
  {
   "cell_type": "code",
   "execution_count": null,
   "metadata": {
    "collapsed": false
   },
   "outputs": [],
   "source": []
  },
  {
   "cell_type": "code",
   "execution_count": 27,
   "metadata": {
    "collapsed": false
   },
   "outputs": [],
   "source": [
    "full_df['cat_norm'] = map(norm_cat, full_df.cat_sim)\n",
    "full_df['attrib_norm'] = map(norm_attrib, full_df.attrib_sim)\n",
    "full_df['text_norm'] = map(norm_text, full_df.text_sim)"
   ]
  },
  {
   "cell_type": "code",
   "execution_count": 28,
   "metadata": {
    "collapsed": false
   },
   "outputs": [
    {
     "data": {
      "text/html": [
       "<div>\n",
       "<table border=\"1\" class=\"dataframe\">\n",
       "  <thead>\n",
       "    <tr style=\"text-align: right;\">\n",
       "      <th></th>\n",
       "      <th>biz_1</th>\n",
       "      <th>biz_2</th>\n",
       "      <th>attrib_sim</th>\n",
       "      <th>cat_sim</th>\n",
       "      <th>text_sim</th>\n",
       "      <th>cat_norm</th>\n",
       "      <th>attrib_norm</th>\n",
       "      <th>text_norm</th>\n",
       "    </tr>\n",
       "  </thead>\n",
       "  <tbody>\n",
       "    <tr>\n",
       "      <th>0</th>\n",
       "      <td>CiYLq33nAyghFkUR15pP-Q</td>\n",
       "      <td>P7pxQFqr7yBKMMI2J51udw</td>\n",
       "      <td>0.204178</td>\n",
       "      <td>2.449490</td>\n",
       "      <td>NaN</td>\n",
       "      <td>0.454151</td>\n",
       "      <td>0.089105</td>\n",
       "      <td>NaN</td>\n",
       "    </tr>\n",
       "    <tr>\n",
       "      <th>1</th>\n",
       "      <td>CiYLq33nAyghFkUR15pP-Q</td>\n",
       "      <td>g8OnV26ywJlZpezdBnOWUQ</td>\n",
       "      <td>0.190573</td>\n",
       "      <td>1.732051</td>\n",
       "      <td>NaN</td>\n",
       "      <td>-0.807427</td>\n",
       "      <td>-0.091798</td>\n",
       "      <td>NaN</td>\n",
       "    </tr>\n",
       "    <tr>\n",
       "      <th>2</th>\n",
       "      <td>CiYLq33nAyghFkUR15pP-Q</td>\n",
       "      <td>gTlDDzDEHyDQ6iwjNhpI6A</td>\n",
       "      <td>0.128220</td>\n",
       "      <td>1.414214</td>\n",
       "      <td>NaN</td>\n",
       "      <td>-1.366326</td>\n",
       "      <td>-0.920901</td>\n",
       "      <td>NaN</td>\n",
       "    </tr>\n",
       "    <tr>\n",
       "      <th>3</th>\n",
       "      <td>CiYLq33nAyghFkUR15pP-Q</td>\n",
       "      <td>-WLrZPzjKfrftLWaCi1QZQ</td>\n",
       "      <td>0.179217</td>\n",
       "      <td>1.732051</td>\n",
       "      <td>0.844481</td>\n",
       "      <td>-0.807427</td>\n",
       "      <td>-0.242791</td>\n",
       "      <td>0.446704</td>\n",
       "    </tr>\n",
       "    <tr>\n",
       "      <th>5</th>\n",
       "      <td>CiYLq33nAyghFkUR15pP-Q</td>\n",
       "      <td>3LWsVfsSmb_Nzbi2YQ-NIA</td>\n",
       "      <td>0.190573</td>\n",
       "      <td>2.645751</td>\n",
       "      <td>0.913515</td>\n",
       "      <td>0.799267</td>\n",
       "      <td>-0.091798</td>\n",
       "      <td>0.964402</td>\n",
       "    </tr>\n",
       "  </tbody>\n",
       "</table>\n",
       "</div>"
      ],
      "text/plain": [
       "                    biz_1                   biz_2  attrib_sim   cat_sim  \\\n",
       "0  CiYLq33nAyghFkUR15pP-Q  P7pxQFqr7yBKMMI2J51udw    0.204178  2.449490   \n",
       "1  CiYLq33nAyghFkUR15pP-Q  g8OnV26ywJlZpezdBnOWUQ    0.190573  1.732051   \n",
       "2  CiYLq33nAyghFkUR15pP-Q  gTlDDzDEHyDQ6iwjNhpI6A    0.128220  1.414214   \n",
       "3  CiYLq33nAyghFkUR15pP-Q  -WLrZPzjKfrftLWaCi1QZQ    0.179217  1.732051   \n",
       "5  CiYLq33nAyghFkUR15pP-Q  3LWsVfsSmb_Nzbi2YQ-NIA    0.190573  2.645751   \n",
       "\n",
       "   text_sim  cat_norm  attrib_norm  text_norm  \n",
       "0       NaN  0.454151     0.089105        NaN  \n",
       "1       NaN -0.807427    -0.091798        NaN  \n",
       "2       NaN -1.366326    -0.920901        NaN  \n",
       "3  0.844481 -0.807427    -0.242791   0.446704  \n",
       "5  0.913515  0.799267    -0.091798   0.964402  "
      ]
     },
     "execution_count": 28,
     "metadata": {},
     "output_type": "execute_result"
    }
   ],
   "source": [
    "full_df.head()"
   ]
  },
  {
   "cell_type": "code",
   "execution_count": 29,
   "metadata": {
    "collapsed": false
   },
   "outputs": [],
   "source": [
    "full_df.to_pickle('capstone_df.pkl')"
   ]
  },
  {
   "cell_type": "code",
   "execution_count": null,
   "metadata": {
    "collapsed": true
   },
   "outputs": [],
   "source": []
  },
  {
   "cell_type": "code",
   "execution_count": null,
   "metadata": {
    "collapsed": true
   },
   "outputs": [],
   "source": []
  },
  {
   "cell_type": "code",
   "execution_count": null,
   "metadata": {
    "collapsed": true
   },
   "outputs": [],
   "source": []
  },
  {
   "cell_type": "code",
   "execution_count": null,
   "metadata": {
    "collapsed": true
   },
   "outputs": [],
   "source": []
  },
  {
   "cell_type": "code",
   "execution_count": null,
   "metadata": {
    "collapsed": true
   },
   "outputs": [],
   "source": []
  },
  {
   "cell_type": "code",
   "execution_count": null,
   "metadata": {
    "collapsed": true
   },
   "outputs": [],
   "source": []
  },
  {
   "cell_type": "code",
   "execution_count": null,
   "metadata": {
    "collapsed": true
   },
   "outputs": [],
   "source": []
  },
  {
   "cell_type": "code",
   "execution_count": null,
   "metadata": {
    "collapsed": false
   },
   "outputs": [],
   "source": [
    "#print \"corr\", max(full_df.Correlation), min(full_df.Correlation)\n",
    "#print 'euclidean', max(full_df.euc_norm_categories), min(full_df.euc_norm_categories)\n",
    "print \"corr\", np.mean(full_df.Correlation), np.median(full_df.Correlation)\n",
    "print 'euclidean', np.mean(full_df.euc_norm_categories), np.median(full_df.euc_norm_categories)\n"
   ]
  },
  {
   "cell_type": "code",
   "execution_count": null,
   "metadata": {
    "collapsed": false
   },
   "outputs": [],
   "source": [
    "#print 'text', max(full_df.text_similarity[full_df.text_similarity.isnull() == False]), min([full_df.text_similarity.isnull() == False])\n",
    "max(filter(lambda x: x*1.0 == x, full_df.text_similarity)), min(filter(lambda x: x*1.0 == x, full_df.text_similarity))"
   ]
  },
  {
   "cell_type": "code",
   "execution_count": null,
   "metadata": {
    "collapsed": false
   },
   "outputs": [],
   "source": [
    "import numpy as np\n",
    "np.median(filter(lambda x: x*1.0 == x, full_df.text_similarity))"
   ]
  },
  {
   "cell_type": "code",
   "execution_count": null,
   "metadata": {
    "collapsed": false
   },
   "outputs": [],
   "source": [
    "np.mean((filter(lambda x: x*1.0 == x, full_df.text_similarity)))"
   ]
  },
  {
   "cell_type": "code",
   "execution_count": null,
   "metadata": {
    "collapsed": false
   },
   "outputs": [],
   "source": [
    "text_df['biz_1'] = map(lambda x: str(x), text_df.biz_1)\n",
    "print 'one done...'\n",
    "text_df['biz_2'] = map(lambda x: str(x), text_df.biz_2)"
   ]
  },
  {
   "cell_type": "code",
   "execution_count": null,
   "metadata": {
    "collapsed": false
   },
   "outputs": [],
   "source": [
    "attrib_cat['biz_1'] = map(lambda x: str(x), attrib_cat.biz_1)\n",
    "print 'one done...'\n",
    "attrib_cat['biz_2'] = map(lambda x: str(x), attrib_cat.biz_2)"
   ]
  },
  {
   "cell_type": "code",
   "execution_count": null,
   "metadata": {
    "collapsed": false
   },
   "outputs": [],
   "source": [
    "full_df = pd.merge(attrib_cat, text_df, how = 'inner', on = ['biz_1', 'biz_2'])\n",
    "len(full_df)"
   ]
  },
  {
   "cell_type": "code",
   "execution_count": null,
   "metadata": {
    "collapsed": false
   },
   "outputs": [],
   "source": [
    "len(attrib_cat)"
   ]
  },
  {
   "cell_type": "code",
   "execution_count": null,
   "metadata": {
    "collapsed": false
   },
   "outputs": [],
   "source": [
    "(5686878)*1.0/8374278"
   ]
  },
  {
   "cell_type": "code",
   "execution_count": null,
   "metadata": {
    "collapsed": false
   },
   "outputs": [],
   "source": [
    "big_list =  [text_corr.biz_1, text_corr.biz_2, attrib_cat.biz_1, attrib_cat.biz_2]\n",
    "#big_listog =  [text_corr.biz_1, text_corr.biz_2, attrib_cat.biz_1, attrib_cat.biz_2]"
   ]
  },
  {
   "cell_type": "code",
   "execution_count": null,
   "metadata": {
    "collapsed": true
   },
   "outputs": [],
   "source": [
    "big_list = map(lambda x: list(x), big_list)\n",
    "big_listog = map(lambda x: list(x), big_listog)"
   ]
  },
  {
   "cell_type": "code",
   "execution_count": null,
   "metadata": {
    "collapsed": false
   },
   "outputs": [],
   "source": [
    "print len(big_list)\n",
    "print len(big_listog)"
   ]
  },
  {
   "cell_type": "code",
   "execution_count": null,
   "metadata": {
    "collapsed": false
   },
   "outputs": [],
   "source": [
    "flatten = lambda l: [item for sublist in l for item in sublist]\n",
    "flat_list = flatten(big_list)\n"
   ]
  },
  {
   "cell_type": "code",
   "execution_count": null,
   "metadata": {
    "collapsed": false
   },
   "outputs": [],
   "source": [
    "big_set = set(flat_list)"
   ]
  },
  {
   "cell_type": "code",
   "execution_count": null,
   "metadata": {
    "collapsed": false
   },
   "outputs": [],
   "source": [
    "print len(big_set)"
   ]
  },
  {
   "cell_type": "code",
   "execution_count": null,
   "metadata": {
    "collapsed": false
   },
   "outputs": [],
   "source": []
  },
  {
   "cell_type": "code",
   "execution_count": null,
   "metadata": {
    "collapsed": false
   },
   "outputs": [],
   "source": []
  },
  {
   "cell_type": "code",
   "execution_count": null,
   "metadata": {
    "collapsed": false
   },
   "outputs": [],
   "source": [
    "len(set(list(attrib_cat.biz_1)+list(attrib_cat.biz_2)))"
   ]
  },
  {
   "cell_type": "code",
   "execution_count": null,
   "metadata": {
    "collapsed": false
   },
   "outputs": [],
   "source": [
    "len(set(list(text_corr.biz_1)+ list(text_corr.biz_2,)))"
   ]
  },
  {
   "cell_type": "code",
   "execution_count": null,
   "metadata": {
    "collapsed": false
   },
   "outputs": [],
   "source": [
    "4782 - 4093"
   ]
  },
  {
   "cell_type": "code",
   "execution_count": null,
   "metadata": {
    "collapsed": false
   },
   "outputs": [],
   "source": [
    "import re\n",
    "fix = lambda x: re.sub(r'\\W+', '', str(x)).lower()"
   ]
  },
  {
   "cell_type": "code",
   "execution_count": null,
   "metadata": {
    "collapsed": false
   },
   "outputs": [],
   "source": [
    "len(set(list(big_set)))"
   ]
  },
  {
   "cell_type": "code",
   "execution_count": null,
   "metadata": {
    "collapsed": true
   },
   "outputs": [],
   "source": [
    "text_set = flatten([list(text_corr.biz_1), list(text_corr.biz_2)])"
   ]
  },
  {
   "cell_type": "code",
   "execution_count": null,
   "metadata": {
    "collapsed": true
   },
   "outputs": [],
   "source": [
    "attrib_set = flatten([list(attrib_cat.biz_1), list(attrib_cat.biz_2)])"
   ]
  },
  {
   "cell_type": "code",
   "execution_count": null,
   "metadata": {
    "collapsed": false
   },
   "outputs": [],
   "source": [
    "intersection = list(set(text_set) & set(attrib_set))"
   ]
  },
  {
   "cell_type": "code",
   "execution_count": null,
   "metadata": {
    "collapsed": true
   },
   "outputs": [],
   "source": [
    "union = list(set(list(set(text_set)) + list(set(attrib_set))))"
   ]
  },
  {
   "cell_type": "code",
   "execution_count": null,
   "metadata": {
    "collapsed": false
   },
   "outputs": [],
   "source": [
    "either = filter(lambda y: y != None, map(lambda x: x if ((x in intersection) == False) else None, union))"
   ]
  },
  {
   "cell_type": "code",
   "execution_count": null,
   "metadata": {
    "collapsed": false
   },
   "outputs": [],
   "source": [
    "def get_types(x):\n",
    "    return list(set(map(lambda y: type(y), x)))"
   ]
  },
  {
   "cell_type": "code",
   "execution_count": null,
   "metadata": {
    "collapsed": false
   },
   "outputs": [],
   "source": [
    "get_types(flat_list)"
   ]
  },
  {
   "cell_type": "code",
   "execution_count": null,
   "metadata": {
    "collapsed": false
   },
   "outputs": [],
   "source": []
  },
  {
   "cell_type": "code",
   "execution_count": null,
   "metadata": {
    "collapsed": true
   },
   "outputs": [],
   "source": []
  }
 ],
 "metadata": {
  "anaconda-cloud": {},
  "kernelspec": {
   "display_name": "Python [default]",
   "language": "python",
   "name": "python2"
  },
  "language_info": {
   "codemirror_mode": {
    "name": "ipython",
    "version": 2
   },
   "file_extension": ".py",
   "mimetype": "text/x-python",
   "name": "python",
   "nbconvert_exporter": "python",
   "pygments_lexer": "ipython2",
   "version": "2.7.12"
  }
 },
 "nbformat": 4,
 "nbformat_minor": 1
}
